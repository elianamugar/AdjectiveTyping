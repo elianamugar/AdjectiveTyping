{
  "nbformat": 4,
  "nbformat_minor": 0,
  "metadata": {
    "colab": {
      "provenance": []
    },
    "kernelspec": {
      "name": "python3",
      "display_name": "Python 3"
    },
    "language_info": {
      "name": "python"
    }
  },
  "cells": [
    {
      "cell_type": "code",
      "source": [
        "## I've put a few comments in after ## marks"
      ],
      "metadata": {
        "id": "fkAd_GhW4BJg"
      },
      "execution_count": null,
      "outputs": []
    },
    {
      "cell_type": "markdown",
      "source": [
        "**Adjective Categorizing: An Introduction**\n",
        "\n",
        "In the book *The Elements of Eloquence: How to Turn the Perfect English Phrase*, Mark Forsyth mentions this in a passage:\n",
        "\n",
        "\"John Ronald Reuel Tolkien wrote his first story aged seven. It was about a 'green great dragon.' He showed it to his mother who told him that you absolutely couldn’t have a green great dragon, and that it had to be a great green one instead. Tolkien was so disheartened that he never wrote another story for years.\n",
        "The reason for Tolkien’s mistake, since you ask, is that adjectives in English absolutely have to be in this order: opinion-size-age-shape-colour-origin-material-purpose Noun. So you can have a lovely little old rectangular green French silver whittling knife. But if you mess with that word order in the slightest you’ll sound like a maniac. It’s an odd thing that every English speaker uses that list, but almost none of us could write it out. And as size comes before colour, green great dragons can’t exist.\"\n",
        "\n",
        "In the English language, there is an underlying and slightly unformalized adjective order in which there are certain categories. In NLTK, there is an option to categorize by part-of-speech, but there is no finer categorization for specifically adjectives, even though there is an \"adjective order.\"\n",
        "\n",
        "Thus, this project will take on trying to create an adjective categorizer tool scrapped from Roget's Thesaurus, which happens to arbitrarily group different parts of speeches into different categories. I'm hoping to eventually draw a diagram of the thought process behind the adjective binning. I'm currently trying to future-proof the code so that finer adjective categories can be observed."
      ],
      "metadata": {
        "id": "v3B_gQ8Swvp0"
      }
    },
    {
      "cell_type": "code",
      "execution_count": null,
      "metadata": {
        "id": "hjrYBgT6vwYN",
        "colab": {
          "base_uri": "https://localhost:8080/"
        },
        "outputId": "d5598f0e-869d-46e9-d37b-0397e188a61d"
      },
      "outputs": [
        {
          "output_type": "stream",
          "name": "stderr",
          "text": [
            "[nltk_data] Downloading package gutenberg to /root/nltk_data...\n",
            "[nltk_data]   Unzipping corpora/gutenberg.zip.\n",
            "[nltk_data] Downloading package punkt to /root/nltk_data...\n",
            "[nltk_data]   Unzipping tokenizers/punkt.zip.\n",
            "[nltk_data] Downloading package averaged_perceptron_tagger to\n",
            "[nltk_data]     /root/nltk_data...\n",
            "[nltk_data]   Unzipping taggers/averaged_perceptron_tagger.zip.\n"
          ]
        }
      ],
      "source": [
        "import os\n",
        "import nltk\n",
        "from nltk.corpus import *\n",
        "nltk.download('gutenberg')\n",
        "nltk.download('punkt')\n",
        "nltk.download('averaged_perceptron_tagger')\n",
        "import string"
      ]
    },
    {
      "cell_type": "markdown",
      "source": [
        "**Cleaning data**\n",
        "\n",
        "Original source: https://www.gutenberg.org/files/10681/10681-h/10681-h.htm\n",
        "\n",
        "*Steps in the process:*\n",
        "\n",
        "1. Copy all adjectives within a certain category, then paste into a **word processor**. Note: I made the mistake of trying to copy and paste all the adjectives directly into VS Code, then I did step 2. DO NOT DO THIS. THIS IS A MISTAKE.\n",
        "\n",
        "2. Strip punctuation, numbers, and other weird strings within the word processor by using the find and replace tools accordingly."
      ],
      "metadata": {
        "id": "99H7ekfSzVtM"
      }
    },
    {
      "cell_type": "markdown",
      "source": [
        "**Binning/categorizing the adjectives**"
      ],
      "metadata": {
        "id": "GPorGQw9xHAm"
      }
    },
    {
      "cell_type": "code",
      "source": [
        "# being, in the abstract\n",
        "existence_1 = [\"existing\", \"existent\", \"extant\", \"afloat\", \"afoot\", \"current\", \"prevalent\", \"undestroyed\", \"real\", \"actual\", \"positive\", \\\n",
        "      \"absolute\", \"true\", \"substantial\", \"substantive\", \"self-existing\", \"self-existent\", \"essential\", \"well-founded\", \"well-grounded\", \\\n",
        "      \"unideal\", \"unimagined\", \"authentic\", \"inexistent\", \"nonexistent\", \"negative\", \"blank\", \"missing\", \"omitted\", \"absent\", \"insubstantial\", \\\n",
        "      \"shadowy\", \"spectral\", \"visionary\", \"unreal\", \"potential\", \"virtual\", \"baseless\", \"unsubstantial\", \"vain\", \"unborn\", \"uncreated\", \\\n",
        "      \"unbegotten\", \"unconceived\", \"unproduced\", \"unmade\", \"perished\", \"annihilated\", \"extinct\", \"exhausted\", \"gone\", \"lost\", \"vanished\", \\\n",
        "      \"departed\", \"defunct\", \"fabulous\", \"ideal\", \"supposititious\"]"
      ],
      "metadata": {
        "id": "mjl5shhjwU52"
      },
      "execution_count": null,
      "outputs": []
    },
    {
      "cell_type": "code",
      "source": [
        "# being, in the concrete\n",
        "existence_2 = [\"substantive\", \"substantial\", \"hypostatic\", \"personal\", \"bodily\", \"tangible\", \"corporeal\", \"unsubstantial\", \"baseless\", \\\n",
        "        \"groundless\", \"ungrounded\", \"visionary\", \"immaterial\", \"spectral\", \"dreamy\", \"shadowy\", \"ethereal\", \"airy\", \"gossamery\", \"illusory\", \\\n",
        "        \"insubstantial\", \"unreal\", \"vacant\", \"vacuous\", \"empty\", \"eviscerated\", \"blank\", \"hollow\", \"nominal\", \"null\", \"inane\"]"
      ],
      "metadata": {
        "id": "6l16Kb58xQ1d"
      },
      "execution_count": null,
      "outputs": []
    },
    {
      "cell_type": "code",
      "source": [
        "# formal existence\n",
        "existence_3 = [\"subjective\", \"intrinsic\", \"intrinsical\", \"fundamental\", \"normal\", \"implanted\", \"inherent\", \"essential\", \"natural\", \"innate\", \\\n",
        "    \"inborn\", \"inbred\", \"ingrained\", \"inwrought\", \"genetous\", \"haematobious\", \"syngenic\", \"radical\", \"incarnate\", \"thoroughbred\", \"hereditary\", \\\n",
        "    \"inherited\", \"immanent\", \"congenital\", \"congenite\", \"connate\", \"ingenerate\", \"ingenite\", \"indigenous\", \"instinctive\", \"inward\", \"internal\", \\\n",
        "    \"virtual\", \"characteristic\", \"special\", \"indicative\", \"invariable\", \"incurable\", \"incorrigible\", \"ineradicable\", \"fixed\", \"objective\", \\\n",
        "    \"extrinsic\", \"extrinsical\", \"extraneous\", \"foreign\", \"modal\", \"adventitious\", \"ascititious\", \"adscititious\", \"incidental\", \"accidental\", \\\n",
        "    \"nonessential\", \"contingent\", \"fortuitous\", \"implanted\", \"ingrafted\", \"inculcated\", \"infused\", \"outward\", \"apparent\", \"external\"]\n"
      ],
      "metadata": {
        "id": "7sCMPmmaxYT0"
      },
      "execution_count": null,
      "outputs": []
    },
    {
      "cell_type": "code",
      "source": [
        " # modal existence\n",
        "existence_4 = [\"conditional\", \"modal\", \"formal\", \"structural\", \"organic\", \"circumstantial\", \"given\", \"conditional\", \"provisional\", \"critical\", \\\n",
        "    \"modal\", \"contingent\", \"incidental\", \"adventitious\", \"extrinsic\", \"limitative\"]"
      ],
      "metadata": {
        "id": "UJAjkPmJxdnd"
      },
      "execution_count": null,
      "outputs": []
    },
    {
      "cell_type": "code",
      "source": [
        "# absolute relation\n",
        "relation_1 = [\"relative\", \"correlative\", \"cognate\", \"referable\", \"related\", \"connected\", \"implicated\", \"associated\", \"affiliated\", \"approximative\", \\\n",
        "        \"approximating\", \"proportional\", \"proportionate\", \"proportionable\", \"allusive\", \"comparable\", \"like\", \"relevant\", \"apt\", \"applicable\", \\\n",
        "        \"equiparant\", \"irrelative\", \"irrespective\", \"unrelated\", \"arbitrary\", \"independent\", \"unallied\", \"unconnected\", \"disconnected\", \"adrift\", \\\n",
        "        \"isolated\", \"insular\", \"extraneous\", \"strange\", \"alien\", \"foreign\", \"outlandish\", \"exotic\", \"incommensurable\", \"heterogeneous\", \\\n",
        "        \"unconformable\", \"irrelevant\", \"inapplicable\", \"purpose\", \"impertinent\", \"inapposite\", \"misplaced\", \"intrusive\", \"remote\", \"far-fetched\", \\\n",
        "        \"forced\", \"detached\", \"segregate\", \"disquiparant\", \"multifarious\", \"discordant\", \"incidental\", \"parenthetical\", \"episodic\", \"related\", \\\n",
        "        \"akin\", \"consanguineous\", \"family\", \"allied\", \"collateral\", \"cognate\", \"agnate\", \"connate\", \"kindred\", \"affiliated\", \"fraternal\", \\\n",
        "        \"allied\", \"german\", \"reciprocal\", \"mutual\", \"commutual\", \"correlative\", \"reciprocative\", \"interrelated\", \"alternate\", \"interchangeable\", \\\n",
        "        \"interdependent\", \"international\", \"complemental\", \"complementary\", \"identical\", \"self\", \"ilk\", \"selfsame\", \"homoousian\", \"coincide\", \\\n",
        "        \"coalescent\", \"coalescing\", \"indistinguishable\", \"one\", \"equivalent\", \"equal\", \"unaltered\", \"contrary\", \"contrarious\", \"contrariant\", \\\n",
        "        \"opposite\", \"counter\", \"converse\", \"reverse\", \"opposed\", \"antithetical\", \"contrasted\", \"antipodean\", \"antagonistic\", \"opposing\", \\\n",
        "        \"conflicting\", \"inconsistent\", \"contradictory\", \"negative\", \"hostile\", \"differing\", \"different\", \"diverse\", \"heterogeneous\", \"multifarious\", \\\n",
        "        \"polyglot\", \"distinguishable\", \"dissimilar\", \"varied\", \"modified\", \"diversified\", \"various\", \"divers\", \"variform\", \"daedal\", \"other\", \\\n",
        "        \"another\", \"unequal\", \"unmatched\", \"distinctive\", \"characteristic\", \"discriminative\", \"distinguishing\", \"incommensurable\", \"incommensurate\"]"
      ],
      "metadata": {
        "id": "4Nml5GZLxspe"
      },
      "execution_count": null,
      "outputs": []
    },
    {
      "cell_type": "code",
      "source": [
        "# continuous relation\n",
        "relation_2 = [\"uniform\", \"homogeneous\", \"homologous\", \"consistent\", \"connatural\", \"monotonous\", \"even\", \"invariable\", \"regular\", \"unchanged\", \\\n",
        "      \"undeviating\", \"unvaried\", \"unvarying\", \"unsegmented\", \"diversified\", \"varied\", \"irregular\", \"uneven\", \"rough\",\" multifarious\", \"multiform\"]"
      ],
      "metadata": {
        "id": "8UqPotHlx3Lm"
      },
      "execution_count": null,
      "outputs": []
    },
    {
      "cell_type": "code",
      "source": [
        "# partial relation\n",
        "relation_3 = [\"similar\", \"resembling\", \"like\", \"alike\", \"twin\", \"analogous\", \"analogical\", \"parallel\", \"so\", \"homoiousian\", \"connatural\", \\\n",
        "      \"congener\", \"consanguineous\", \"approximate\", \"near\", \"close\", \"mock\", \"pseudo\", \"simulating\", \"representing\", \"exact\", \"true\", \"lifelike\", \\\n",
        "      \"faithful\", \"dissimilar\", \"unlike\", \"disparate\", \"divergent\", \"class\", \"unmatched\", \"unique\", \"new\", \"novel\", \"unprecedented\", \"original\", \\\n",
        "      \"diversified\", \"imitated\", \"mock\", \"mimic\", \"paraphrastic\", \"literal\", \"imitative\", \"secondhand\", \"imitable\", \"aping\", \"apish\", \"mimicking\", \\\n",
        "      \"unimitated\", \"uncopied\", \"unmatched\", \"unparalleled\", \"inimitable\", \"unique\", \"original\", \"creative\", \"inventive\", \"untranslated\", \\\n",
        "      \"exceptional\", \"rare\", \"unexampled\", \"varied\",\" modified\", \"diversified\", \"faithful\", \"lifelike\", \"similar\", \"close\", \"conscientious\", \\\n",
        "      \"unoriginal\", \"imitative\", \"derivative\"]"
      ],
      "metadata": {
        "id": "Qba63PNNyJoX"
      },
      "execution_count": null,
      "outputs": []
    },
    {
      "cell_type": "code",
      "source": [
        "# general relation\n",
        "relation_4 = [\"agreeing\", \"suiting\", \"accordant\", \"concordant\", \"consonant\", \"congruous\", \"consentaneous\", \"correspondent\", \"congenial\", \\\n",
        "      \"coherent\", \"becoming\", \"harmonious\", \"reconcilable\", \"conformable\", \"consistent\", \"compatible\", \"proportionate\", \"commensurate\", \\\n",
        "      \"apt\", \"apposite\", \"pertinent\", \"pat\", \"happy\", \"felicitous\", \"germane\", \"applicable\", \"relevant\", \"admissible\", \"fit\", \"adapted\", \\\n",
        "      \"appropriate\", \"seasonable\", \"sortable\", \"suitable\", \"idoneous\", \"deft\", \"meet\", \"expedient\", \"disagreeing\", \"discordant\", \"discrepant\", \\\n",
        "      \"hostile\", \"antagonistic\", \"repugnant\", \"incompatible\", \"irreconcilable\", \"inconsistent\", \"unconformable\", \"exceptional\", \"intrusive\", \\\n",
        "      \"incongruous\", \"disproportionate\", \"disproportionated\", \"inharmonious\", \"unharmonious\", \"inconsonant\", \"unconsonant\", \"divergent\", \"repugnant\", \\\n",
        "      \"inapt\", \"unapt\", \"inappropriate\", \"improper\", \"unsuited\", \"unsuitable\", \"inapplicable\", \"unfit\", \"unfitting\", \"unbefitting\", \"unbecoming\", \\\n",
        "      \"illtimed\", \"unseasonable\", \"inadmissible\", \"inapposite\", \"irrelevant\", \"uncongenial\", \"ill-assorted\", \"ill-sorted\", \"mismatched\", \"misjoined\", \\\n",
        "      \"misplaced\",\" misclassified\", \"unaccommodating\", \"irreducible\", \"incommensurable\", \"uncommensurable\", \"unsympathetic\"]"
      ],
      "metadata": {
        "id": "lyWhVtwkyheq"
      },
      "execution_count": null,
      "outputs": []
    },
    {
      "cell_type": "code",
      "source": [
        "# simple quantity\n",
        "quantity_1 = [\"quantitative\", \"some\", \"any\", \"aught\", \"more\", \"less\", \"few\", \"comparative\", \"gradual\", \"limit\"]"
      ],
      "metadata": {
        "id": "cEjMbAs3y2qM"
      },
      "execution_count": null,
      "outputs": []
    },
    {
      "cell_type": "code",
      "source": [
        "# comparative quantity\n",
        "quantity_2 = [\"equal\", \"even\", \"level\", \"monotonous\", \"coequal\", \"symmetrical\", \"coordinate\", \"equiparant\", \"equivalent\", \"tantamount\", \\\n",
        "      \"indistinguishable\", \"quits\", \"homologous\", \"synonymous\", \"resolvable\", \"convertible\", \"equipollent\", \"equiponderant\", \"equiponderous\", \\\n",
        "      \"equibalanced\", \"equalized\", \"drawn\", \"isochronal\", \"isochronous\", \"isoperimetric\", \"isoperimetrical\", \"isobath\", \"isobathic\", \"unequal\", \\\n",
        "      \"uneven\", \"disparate\", \"partial\", \"unbalanced\", \"overbalanced\", \"top-heavy\", \"lopsided\", \"biased\", \"skewed\", \"disquiparant\", \"mean\", \"middle\", \\\n",
        "      \"average\", \"neutral\", \"mediocre\", \"middle-class\", \"commonplace\", \"unimportant\", \"compensating\", \"compensatory\", \"countervailing\", \"equivalent\", \\\n",
        "      \"equal\", \"great\", \"greater\", \"large\", \"considerable\", \"fair\", \"big\", \"huge\", \"Herculean\", \"cyclopean\", \"ample\", \"abundant\", \"enough\", \\\n",
        "      \"full\", \"intense\", \"strong\", \"sound\", \"passing\", \"heavy\", \"plenary\", \"deep\", \"high\", \"signal\", \"world-wide\", \"widespread\", \"far-famed\", \\\n",
        "      \"extensive\", \"wholesale\", \"many\", \"goodly\", \"noble\", \"precious\", \"mighty\", \"sad\", \"grave\", \"heavy\", \"serious\", \"arrant\", \"downright\", \"utter\", \\\n",
        "      \"uttermost\", \"crass\", \"gross\", \"arch\", \"profound\", \"intense\", \"consummate\", \"rank\", \"uninitiated\", \"red-hot\", \"desperate\", \"glaring\", \"flagrant\", \\\n",
        "      \"stark\", \"staring\", \"thorough-paced\", \"thoroughgoing\", \"roaring\", \"thumping\", \"extraordinary\", \"important\", \"unsurpassed\", \"supreme\", \"complete\", \\\n",
        "      \"august\", \"grand\", \"dignified\", \"sublime\", \"majestic\", \"repute\", \"vast\", \"immense\", \"enormous\", \"extreme\", \"inordinate\", \"excessive\", \"extravagant\", \\\n",
        "      \"exorbitant\", \"outrageous\", \"preposterous\", \"unconscionable\", \"swinging\", \"monstrous\", \"overgrown\", \"towering\", \"stupendous\", \"prodigious\", \\\n",
        "      \"astonishing\", \"incredible\", \"marvelous\", \"unlimited\", \"infinite\", \"unapproachable\", \"unutterable\", \"indescribable\", \"ineffable\", \"unspeakable\", \\\n",
        "      \"inexpressible\", \"fabulous\", \"undiminished\", \"unabated\", \"unreduced\", \"unrestricted\", \"absolute\", \"positive\", \"stark\", \"decided\", \"unequivocal\", \\\n",
        "      \"essential\", \"perfect\", \"finished\", \"remarkable\", \"marked\", \"pointed\", \"veriest\", \"noteworthy\", \"renowned\", \"small\", \"little\", \"diminutive\", \\\n",
        "      \"minute\", \"fine\", \"inconsiderable\", \"paltry\", \"unimportant\", \"faint\", \"weak\", \"slender\", \"light\", \"slight\", \"scanty\", \"scant\", \"limited\", \\\n",
        "      \"meager\", \"insufficient\", \"sparing\", \"few\", \"low\", \"so-so\", \"middling\", \"tolerable\", \"halfway\", \"moderate\", \"modest\", \"tender\", \"subtle\", \\\n",
        "      \"inappreciable\", \"evanescent\", \"infinitesimal\", \"homeopathic\", \"atomic\", \"corpuscular\", \"microscopic\", \"molecular\", \"subatomic\", \"mere\", \"simple\", \\\n",
        "      \"sheer\", \"stark\", \"bare\", \"dull\", \"petty\", \"shallow\", \"stolid\", \"ungifted\", \"unintelligent\", \"superior\", \"greater\", \"major\", \"higher\", \"exceeding\", \\\n",
        "      \"great\", \"distinguished\", \"ultra\", \"vaulting\", \"supreme\", \"greatest\", \"utmost\", \"paramount\", \"preeminent\", \"foremost\", \"crowning\", \"first-rate\", \\\n",
        "      \"important\", \"excellent\", \"unrivaled\", \"peerless\", \"matchless\", \"unparagoned\", \"unparalleled\", \"unequalled\", \"unapproached\", \"unsurpassed\", \\\n",
        "      \"superlative\", \"inimitable\", \"facile\", \"princeps\", \"incomparable\", \"sovereign\", \"culminating\", \"topmost\", \"transcendent\", \"transcendental\", \\\n",
        "      \"enlarged\", \"expanded\", \"inferior\", \"smaller\", \"small\", \"minor\", \"less\", \"lesser\", \"deficient\", \"minus\", \"lower\", \"subordinate\", \"secondary\", \\\n",
        "      \"secondrate\", \"imperfect\", \"sub\", \"subaltern\", \"least\", \"smallest\", \"little\", \"small\", \"lowest\", \"diminished\", \"decreased\", \"reduced\",\" contracted\", \\\n",
        "      \"unimportant\", \"increased\", \"undiminished\", \"additional\", \"added\", \"unincreased\", \"decreased\", \"decreasing\"]"
      ],
      "metadata": {
        "id": "JEv1WL2-zFP8"
      },
      "execution_count": null,
      "outputs": []
    },
    {
      "cell_type": "code",
      "source": [
        "# conjunctive quantity\n",
        "quantity_3 = [\"added\", \"additional\", \"supplemental\", \"supplementary\", \"suppletory\", \"subjunctive\", \"adjectitious\", \"adscititious\", \"ascititious\", \\\n",
        "      \"additive\", \"extra\", \"accessory\", \"subtracted\",\" subtractive\", \"additional\", \"alate\", \"alated\", \"winged\", \"remaining\", \"left\", \"residual\", \\\n",
        "      \"residuary\", \"over\", \"odd\", \"unconsumed\", \"sedimentary\", \"surviving\", \"net\", \"exceeding\", \"outlying\", \"outstanding\", \"superfluous\", \"redundant\", \\\n",
        "      \"mixed\", \"implex\", \"composite\", \"half-and-half\", \"linsey-woolsey\", \"chowchow\", \"hybrid\", \"mongrel\", \"heterogeneous\", \"motley\", \"variegated\", \\\n",
        "      \"miscellaneous\", \"promiscuous\", \"indiscriminate\", \"miscible\", \"simple\", \"uniform\", \"homogeneous\", \"single\", \"pure\", \"sheer\", \"neat\", \"unmixed\", \\\n",
        "      \"unmingled\", \"unblended\", \"uncombined\", \"uncompounded\", \"elementary\", \"undecomposed\", \"unadulterated\", \"unsophisticated\", \"unalloyed\", \"untinged\", \\\n",
        "      \"unfortified\", \"incomplex\", \"exclusive\", \"joined\", \"joint\", \"conjoint\", \"conjunct\", \"corporate\", \"compact\", \"firm\", \"fast\", \"close\", \"tight\", \\\n",
        "      \"taut\", \"taught\", \"secure\", \"set\", \"intervolved\", \"inseparable\", \"indissoluble\", \"insecable\", \"severable\", \"disjoined\", \"discontinuous\", \"multipartite\", \\\n",
        "      \"abstract\", \"disjunctive\", \"secant\", \"isolated\", \"insular\", \"separate\", \"disparate\", \"discrete\", \"apart\", \"asunder\", \"loose\", \"free\", \"unattached\", \\\n",
        "      \"unannexed\", \"unassociated\", \"unconnected\", \"distinct\", \"adrift\", \"straggling\", \"rift\", \"reft\", \"scissile\", \"divisible\", \"discerptible\", \"partible\", \\\n",
        "      \"separable\", \"cohesive\", \"adhesive\", \"adhering\", \"cohering\", \"tenacious\", \"tough\", \"sticky\", \"united\", \"unseparated\", \"unsessile\", \"inseparable\", \\\n",
        "      \"inextricable\", \"infrangible\", \"compact\", \"dense\", \"nonadhesive\", \"immiscible\", \"incoherent\", \"detached\", \"loose\", \"baggy\", \"slack\", \"lax\", \\\n",
        "      \"relaxed\", \"flapping\", \"streaming\", \"disheveled\", \"segregated\", \"unconsolidated\", \"uncombined\", \"noncohesive\", \"combined\", \"impregnated\", \"ingrained\", \\\n",
        "      \"imbued\", \"inoculated\", \"decomposed\", \"catalytic\", \"analytical\", \"resolvent\", \"separative\", \"solvent\"]"
      ],
      "metadata": {
        "id": "-64PETzIzQ0k"
      },
      "execution_count": null,
      "outputs": []
    },
    {
      "cell_type": "code",
      "source": [
        "# concrete quantity\n",
        "quantity_4 = [\"whole\", \"total\", \"integral\", \"entire\", \"complete\", \"one\", \"individual\", \"unbroken\", \"intact\", \"uncut\", \"undivided\", \"unsevered\", \"unclipped\", \\\n",
        "      \"uncropped\", \"unshorn\", \"seamless\", \"undiminished\", \"undemolished\", \"undissolved\", \"undestroyed\", \"unbruised\", \"indivisible\", \"indissoluble\", \\\n",
        "      \"indissolvable\", \"indiscerptible\", \"wholesale\", \"sweeping\", \"comprehensive\", \"fractional\", \"fragmentary\", \"sectional\", \"aliquot\", \"divided\", \"multifid\", \\\n",
        "      \"disconnected\", \"partial\", \"complete\", \"entire\", \"whole\", \"perfect\", \"full\", \"good\", \"absolute\", \"thorough\", \"plenary\", \"solid\", \"undivided\", \"all-sided\", \\\n",
        "      \"exhaustive\", \"radical\", \"sweeping\", \"thorough-going\", \"dead\", \"regular\", \"consummate\", \"unmitigated\", \"sheer\", \"unqualified\", \"unconditional\", \"free\", \\\n",
        "      \"abundant\", \"sufficient\", \"brimming\", \"brimful\", \"topful\", \"topfull\", \"saturated\", \"crammed\", \"replete\", \"redundant\", \"fraught\", \"laden\", \"full-laden\", \\\n",
        "      \"full-fraught\", \"full-charged\", \"heavy laden\", \"completing\", \"supplemental\", \"supplementary\", \"ascititious\", \"incomplete\", \"imperfect\", \"unfinished\", \\\n",
        "      \"uncompleted\", \"complete\", \"defective\", \"deficient\", \"wanting\", \"lacking\", \"failing\", \"hollow\", \"meager\", \"lame\", \"half-and-half\", \"perfunctory\", \"sketchy\", \\\n",
        "      \"crude\", \"unprepared\", \"mutilated\", \"garbled\", \"docked\", \"lopped\", \"truncated\", \"proceeding\", \"containing\", \"constituting\", \"excluding\", \"exclusive\", \\\n",
        "      \"excluded\", \"unrecounted\", \"inadmissible\", \"forming\", \"inclusive\", \"extraneous\", \"foreign\", \"alien\", \"ulterior\", \"tramontane\", \"ultramontane\", \"excluded\", \\\n",
        "      \"inadmissible\", \"exceptional\"]"
      ],
      "metadata": {
        "id": "_MiHdlV1zauU"
      },
      "execution_count": null,
      "outputs": []
    },
    {
      "cell_type": "code",
      "source": [
        "# order in general\n",
        "order_1 = [\"orderly\", \"regular\", \"neat\", \"tidy\", \"well-regulated\", \"correct\", \"methodical\", \"uniform\", \"symmetrical\", \"shipshape\", \"businesslike\", \"systematic\", \\\n",
        "      \"unconfused\", \"confuse\", \"arranged\", \"disorderly\", \"orderless\", \"irregular\", \"desultory\", \"anomalous\", \"unconformable\", \"acephalous\", \"deranged\", \"aimless\", \\\n",
        "      \"disorganized\", \"straggling\", \"unmethodical\", \"immethodical\", \"unsymmetric\", \"unsystematic\", \"untidy\", \"slovenly\", \"dislocated\", \"promiscuous\", \"indiscriminate\", \\\n",
        "      \"chaotic\", \"anarchical\", \"unarranged\", \"arrange\", \"confused\", \"deranged\", \"topsy-turvy\", \"inverted\", \"shapeless\", \"disjointed\", \"troublous\", \"riotous\", \"violent\" \\\n",
        "      \"complex\", \"gnarled\", \"knarled\", \"complex\", \"complexed\", \"intricate\", \"complicated\", \"perplexed\", \"involved\", \"raveled\", \"entangled\", \"knotted\", \"tangled\", \\\n",
        "      \"inextricable\", \"irreducible\", \"arranged\", \"embattled\", \"methodical\", \"orderly\", \"regular\", \"systematic\", \"deranged\", \"syncretic\", \"syncretistic\", \"mussy\", \\\n",
        "      \"messy\", \"flaky\", \"random\", \"unordered\"]"
      ],
      "metadata": {
        "id": "cRD8YYL7zcPN"
      },
      "execution_count": null,
      "outputs": []
    },
    {
      "cell_type": "code",
      "source": [
        "# consecutive order\n",
        "order_2 = [\"preceding\", \"precedent\", \"antecedent\", \"anterior\", \"prior\", \"before\", \"former\", \"foregoing\", \"beforementioned\", \"abovementioned\", \"aforementioned\", \\\n",
        "        \"aforesaid\", \"said\", \"precursory\", \"precursive\", \"prevenient\", \"preliminary\", \"prefatory\", \"introductory\", \"prelusive\", \"prelusory\", \"proemial\", \"preparatory\", \\\n",
        "        \"succeeding\", \"sequent\", \"subsequent\", \"consequent\", \"sequacious\", \"proximate\", \"next\", \"consecutive\", \"continuity\", \"alternate\", \"amoebean\", \"latter\", \"posterior\", \\\n",
        "        \"precursory\", \"prelusive\", \"prelusory\", \"preludious\", \"proemial\", \"introductory\", \"prefatory\", \"prodromous\", \"inaugural\", \"preliminary\", \"precedent\", \"prior\", \\\n",
        "        \"beginning\", \"initial\", \"initiatory\", \"initiative\", \"inceptive\", \"introductory\", \"incipient\", \"proemial\", \"inaugural\", \"inchoate\", \"inchoative\", \"embryonic\", \\\n",
        "        \"rudimental\", \"primogenial\", \"primeval\", \"primitive\", \"primordial\", \"old\", \"aboriginal\", \"natal\", \"nascent\", \"first\", \"foremost\", \"leading\", \"maiden\", \"begun\", \\\n",
        "        \"ending\", \"final\", \"terminal\", \"definitive\", \"crowning\", \"completing\", \"last\", \"ultimate\", \"hindermost\", \"rear\", \"caudal\", \"vergent\", \"conterminate\", \"conterminous\", \\\n",
        "        \"conterminable\", \"ended\", \"settled\", \"decided\", \"over\", \"conclusive\", \"penultimate\", \"unbegun\", \"uncommenced\", \"fresh\", \"middle\", \"medial\", \"mesial\", \"mean\", \"mid\", \\\n",
        "        \"median\", \"average\", \"middlemost\", \"midmost\", \"mediate\", \"intermediate\", \"interjacent\", \"equidistant\", \"central\", \"mediterranean\", \"equatorial\", \"homocentric\", \\\n",
        "        \"continuous\", \"continued\", \"consecutive\", \"progressive\", \"gradual\", \"serial\", \"successive\", \"immediate\", \"unbroken\", \"entire\", \"linear\", \"uninterrupted\", \"unintermitting\", \\\n",
        "        \"unremitting\", \"unrelenting\", \"perseverence\", \"perennial\", \"evergreen\", \"constant\", \"discontinuous\", \"unsuccessive\", \"broken\", \"interrupted\", \"dicousu\", \"disconnected\", \\\n",
        "        \"unconnected\", \"discrete\", \"disjunctive\", \"fitful\", \"irregular\", \"spasmodic\", \"desultory\", \"intermitting\", \"occasional\", \"intermittent\", \"alternate\", \"recurrent\", \\\n",
        "        \"periodic\"]"
      ],
      "metadata": {
        "id": "Owcs9IWczgRt"
      },
      "execution_count": null,
      "outputs": []
    },
    {
      "cell_type": "code",
      "source": [
        "# collective order\n",
        "order_3 = [\"assembled\", \"dense\", \"serried\", \"crowded\", \"teeming\", \"swarming\", \"populous\", \"fasciculated\", \"cumulative\", \"unassembled\", \"assemble\", \"dispersed\", \"sparse\", \\\n",
        "  \"dispread\", \"broadcast\", \"sporadic\", \"widespread\", \"epidemic\", \"general\", \"adrift\", \"stray\", \"disheveled\", \"streaming\"]"
      ],
      "metadata": {
        "id": "mLYWY1xlzmG9"
      },
      "execution_count": null,
      "outputs": []
    },
    {
      "cell_type": "code",
      "source": [
        "# distributive order\n",
        "order_4 = [\"included\", \"including\", \"inclusive\", \"congener\", \"congenerous\", \"encircling\", \"general\", \"generic\", \"collective\", \"broad\", \"comprehensive\", \"sweeping\", \\\n",
        "\"encyclopedical\", \"widespread\", \"dispersed\", \"universal\", \"catholic\", \"catholical\", \"common\", \"worldwide\", \"ecumenical\", \"oecumenical\", \"transcendental\", \"prevalent\", \\\n",
        "\"prevailing\", \"rife\", \"epidemic\", \"besetting\", \"Pan-American\", \"Anglican\", \"Pan-Hellenic\", \"Pan-Germanic\", \"slavic\", \"panharmonic\", \"every\", \"all\", \"unspecified\", \\\n",
        "\"impersonal\", \"customary\", \"habitual\", \"special\", \"particular\", \"individual\", \"specific\", \"proper\", \"personal\", \"original\", \"private\", \"respective\", \"definite\", \\\n",
        "\"determinate\", \"especial\", \"certain\", \"esoteric\", \"endemic\", \"partial\", \"party\", \"peculiar\", \"appropriate\", \"several\", \"characteristic\", \"diagnostic\", \"exclusive\", \\\n",
        "\"singular\", \"exceptional\", \"idiomatic\", \"idiotypical\", \"typical\", \"this\", \"that\", \"yon\", \"yonder\"]"
      ],
      "metadata": {
        "id": "SNnsOT8tzrJm"
      },
      "execution_count": null,
      "outputs": []
    },
    {
      "cell_type": "code",
      "source": [
        "# order as regards categories\n",
        "order_5 = [\"normal\", \"natural\", \"unexceptional\", \"common\", \"usual\", \"frequency\", \"polymorphous\", \"multiform\", \"multifold\", \"multifarious\", \"multigenerous\", \"multiplex\", \\\n",
        "\"heterogeneous\", \"diversified\", \"dissimilar\", \"various\", \"varied\", \"variform\", \"manifold\", \"many-sided\", \"variegated\", \"motley\", \"mosaic\", \"epicene\", \"indiscriminate\", \\\n",
        "\"desultory\", \"irregular\", \"mixed\", \"different\", \"assorted\", \"mingled\", \"odd\", \"diverse\", \"divers\", \"jumbled\", \"confused\", \"discordant\", \"inharmonious\", \"unmatched\", \\\n",
        "\"unrelated\", \"nonuniform\", \"omniform\", \"omnigenous\", \"omnifarious\", \"protean\", \"form\", \"conformable\", \"regular\", \"well-regulated\", \"regulated\", \"orderly\", \"symmetric\", \\\n",
        "\"conventional\", \"customary\", \"ordinary\", \"common\", \"habitual\", \"usual\", \"everyday\", \"workaday\", \"naturalized\", \"typical\", \"normal\", \"nominal\", \"formal\", \"canonical\", \\\n",
        "\"orthodox\", \"sound\", \"strict\", \"rigid\", \"positive\", \"uncompromising\", \"Procrustean\", \"shipshape\", \"technical\", \"illustrative\", \"uncomformable\", \"exceptional\", \"abnormal\", \\\n",
        "\"abnormous\", \"anomalous\", \"anomalistic\", \"irregular\", \"arbitrary\", \"teratogenic\", \"lawless\", \"informal\", \"aberrant\", \"stray\", \"wandering\", \"wanton\", \"peculiar\", \"exclusive\", \\\n",
        "\"unnatural\", \"eccentric\", \"egregious\", \"misplaced\", \"funny\", \"unusual\", \"unaccustomed\", \"uncustomary\", \"unwonted\", \"uncommon\", \"rare\", \"curious\", \"odd\", \"extraordinary\", \\\n",
        "\"strange\", \"monstrous\", \"wonderful\", \"unexpected\", \"unaccountable\", \"outre\", \"remarkable\", \"noteworthy\", \"queer\", \"quaint\", \"nondescript\", \"unfashionable\", \"fantastic\", \\\n",
        "\"grotesque\", \"bizarre\", \"outlandish\", \"exotic\", \"preternatural\", \"denaturalized\", \"heterogeneous\", \"heteroclite\", \"amorphous\", \"mongrel\", \"amphibious\", \"epicene\", \"half-blood\", \\\n",
        "\"hybrid\", \"androgynous\", \"androgynal\", \"asymmetric\", \"adelomorphous\", \"bisexual\", \"hermaphrodite\", \"monoclinous\", \"qualified\", \"singular\", \"unique\", \"one-of-a-kind\", \\\n",
        "\"newfangled\", \"novel\", \"non-classical\", \"original\", \"unconventional\", \"unfamiliar\", \"undescribed\", \"unprecedented\", \"unparalleled\", \"unexampled\"]"
      ],
      "metadata": {
        "id": "_uUqV9rWzwtd"
      },
      "execution_count": null,
      "outputs": []
    },
    {
      "cell_type": "code",
      "source": [
        "# number, in the abstract\n",
        "number_1 = [\"numeral\", \"complementary\", \"divisible\", \"aliquot\", \"reciprocal\", \"prime\", \"fractional\", \"decimal\", \"figurate\", \"incommensurable\", \"proportional\", \"exponential\", \\\n",
        "\"logarithmic\", \"logometric\", \"differential\", \"fluxional\", \"integral\", \"totitive\", \"positive\", \"negative\", \"rational\", \"irrational\", \"surd\", \"radical\", \"real\", \"complex\", \\\n",
        "\"imaginary\", \"finite\", \"infinite\", \"impossible\", \"numeral\", \"numerical\", \"arithmetical\", \"analytic\", \"algebraic\", \"statistical\", \"numerable\", \"computable\", \"calculable\", \\\n",
        "\"commensurable\", \"commensurate\", \"incommensurable\", \"incommensurate\", \"innumerable\", \"unfathomable\", \"infinite\", \"cadastral\"]"
      ],
      "metadata": {
        "id": "CuhKsEsOz30V"
      },
      "execution_count": null,
      "outputs": []
    },
    {
      "cell_type": "code",
      "source": [
        "# determinate number\n",
        "number_2 = [\"one\", \"sole\", \"single\", \"solitary\", \"unitary\", \"individual\", \"apart\", \"alone\", \"kithless\", \"unaccompanied\", \"unattended\", \"solus\", \"single-handed\", \"singular\", \"odd\", \"unique\", \"unrepeated\", \"azygous\", \"first\", \"last\", \"isolated\", \"disjoined\", \"insular\", \"monospermous\", \"unific\", \"uniflorous\", \"unifoliate\", \"unigenital\", \"uniliteral\", \\\n",
        "\"unijocular\", \"unimodal\", \"unimodular\", \"lone\", \"lonely\", \"lonesome\", \"desolate\", \"dreary\", \"insecable\", \"inseverable\", \"indiscerptible\", \"compact\", \"indivisible\", \"atomic\", \\\n",
        "\"irresolvable\", \"accompanying\", \"concomitant\", \"fellow\", \"twin\", \"joint\", \"accessory\", \"attendant\", \"obbligato\", \"two\", \"twin\", \"dual\", \"dualistic\", \"double\", \"binary\", \"binomial\", \\\n",
        "\"twin\", \"biparous\", \"dyadic\", \"conduplicate\", \"duplex\", \"biduous\", \"binate\", \"diphyletic\", \"dispermic\", \"unijugate\", \"tete-a-tete\", \"coupled\", \"conjugate\", \"both\", \"double\", \\\n",
        "\"doubled\", \"bicipital\", \"bicephalous\", \"bidental\", \"bilabiate\", \"bivalve\", \"bivalvular\", \"bifold\", \"biform\", \"bilateral\", \"bifarious\", \"bifacial\", \"twofold\", \"two-sided\", \\\n",
        "\"disomatous\", \"duplex\", \"double-faced\", \"double-headed\", \"twin\", \"duplicate\", \"ingeminate\", \"second\", \"bisected\", \"cloven\", \"cleft\", \"bipartite\", \"biconjugate\", \"bicuspid\", \\\n",
        "\"bifid\", \"bifurcous\", \"bifurcate\", \"bifurcated\", \"distichous\", \"dichotomous\", \"furcular\", \"semi\", \"demi\", \"hemi\", \"three\", \"triform\", \"trinal\", \"trinomial\", \"tertiary\", \"ternary\", \\\n",
        "\"triune\", \"triarch\", \"triadie\", \"triple\", \"treble\", \"triple\", \"tern\", \"ternary\", \"triplicate\", \"threefold\", \"trilogistic\", \"third\", \"trinal\", \"trine\", \"trifid\", \"trisected\", \\\n",
        "\"tripartite\", \"trichotomous\", \"trisulcate\", \"Triadelphous\", \"triangular\", \"tricuspid\", \"tricapsular\", \"tridental\", \"tridentate\", \"tridentiferous\", \"trifoliate\", \"trifurcate\", \\\n",
        "\"trigonal\", \"trigrammic\", \"trigrammatic\", \"tripetalous\", \"tripodal\", \"tripodic\", \"triquetral\", \"triquetrous\", \"four\", \"quaternary\", \"quaternal\", \"quadratic\", \"quartile\", \"tetract\", \\\n",
        "\"tetractic\", \"tetractinal\", \"tetrad\", \"tetragonal\", \"square\", \"quadrate\", \"fourfold\", \"quadrable\", \"quadrumanous\", \"quadruple\", \"quadruplicate\", \"quadrible\", \"fourth\", \"quadrifoliate\", \\\n",
        "\"quadrifoliolate\", \"quadrigeminal\", \"quadrigeminate\", \"quadriplanar\", \"quadriserial\", \"quartered\", \"quadrifid\", \"quadripartite\", \"rectangular\", \"five\", \"quinary\", \"quintuple\", \"fifth\", \\\n",
        "\"senary\", \"sextuple\", \"sixth\", \"seventh\", \"septuple\", \"octuple\", \"eighth\", \"ninefold\", \"ninth\", \"tenfold\", \"decimal\", \"denary\", \"decuple\", \"tenth\", \"eleventh\", \"duodenary\", \"duodenal\", \\\n",
        "\"twelfth\", \"thirteenth\", \"vicesimal\", \"vigesimal\", \"twentieth\", \"twenty-fourth\", \"vicenary\", \"vicennial\", \"centuple\", \"centuplicate\", \"centennial\", \"centenary\", \"centurial\", \"secular\", \\\n",
        "\"hundredth\", \"thousandth\", \"quinquefid\", \"quinquelateral\", \"quinquepartite\", \"quinqevalent\", \"pentavalent\", \"quinquarticular\", \"octifid\", \"decimal\", \"tenth\", \"tithe\", \"duodecimal\", \\\n",
        "\"twelfth\", \"sexagesimal\", \"sexagenary\", \"hundredth\", \"centesimal\", \"millesimal\"]"
      ],
      "metadata": {
        "id": "9M5ytc0Lz--o"
      },
      "execution_count": null,
      "outputs": []
    },
    {
      "cell_type": "code",
      "source": [
        "# indeterminate number\n",
        "number_3 = [\"plural\", \"some\", \"several\", \"few\", \"certain\", \"fractional\", \"fragmentary\", \"inconsiderable\", \"negligible\", \"infinitesimal\", \"many\", \"several\", \"sundry\", \"divers\", \"various\", \\\n",
        "\"Briarean\", \"hundred\", \"thousand\", \"myriad\", \"million\", \"quadrillion\", \"nonillion\", \"numerous\", \"numerose\", \"profuse\", \"manifold\", \"multiplied\", \"multitudinous\", \"multiple\", \\\n",
        "\"multinominal\", \"teeming\", \"populous\", \"peopled\", \"crowded\", \"thick\", \"studded\", \"galore\", \"thick\", \"coming\", \"many\", \"more\", \"endless\", \"infinite\", \"few\", \"scant\", \"scanty\", \"thin\", \\\n",
        "\"rare\", \"scattered\", \"spotty\",  \"exiguous\", \"infrequent\", \"reduced\", \"unrepeated\", \"repeated\", \"repetitional\", \"repetitionary\", \"recurrent\", \"recurring\", \"frequent\", \"incessant\", \\\n",
        "\"redundant\", \"pleonastic\", \"monotonous\", \"harping\", \"iterative\", \"recursive\", \"unvaried\", \"mocking\", \"chiming\", \"retold\", \"aforesaid\", \"aforenamed\", \"above-mentioned\", \"above-said\", \\\n",
        "\"habitual\", \"another\", \"infinite\", \"immense\", \"numberless\", \"countless\", \"sumless\", \"measureless\", \"innumerable\", \"immeasurable\", \"incalculable\", \"illimitable\", \"inexhaustible\", \\\n",
        "\"interminable\", \"unfathomable\", \"unapproachable\", \"exhaustless\", \"indefinite\", \"incomprehensible\", \"limitless\", \"endless\", \"boundless\", \"termless\", \"untold\", \"unnumbered\", \"unmeasured\",\n",
        "\"unbounded\", \"unlimited\", \"illimited\", \"perpetual\"]"
      ],
      "metadata": {
        "id": "Lt-JEV3q0PS5"
      },
      "execution_count": null,
      "outputs": []
    },
    {
      "cell_type": "code",
      "source": [
        "# absolute time\n",
        "time_1 = [\"continuing\", \"permanent\", \"durable\", \"horary\", \"hourly\", \"annual\", \"periodical\", \"elapsing\", \"aoristic\", \"progressive\", \"durable\", \"lasting\", \"permanent\", \"endless\", \"chronic\", \\\n",
        "\"long-standing\", \"intransient\", \"intransitive\", \"intransmutable\", \"persistent\", \"lifelong\", \"livelong\", \"longeval\", \"long-lived\", \"macrobiotic\", \"diuturnal\", \"evergreen\", \"perennial\", \\\n",
        "\"sempervirent\", \"sempervirid\", \"unrelenting\", \"unintermitting\", \"unremitting\", \"perpetual\", \"lingering\", \"protracted\", \"prolonged\", \"long-pending\", \"long-winded\", \"slow\", \"transient\", \\\n",
        "\"transitory\", \"transitive\", \"passing\", \"evanescent\", \"fleeting\", \"cursory\", \"short-lived\", \"ephemeral\", \"flying\", \"fugacious\", \"fugitive\", \"shifting\", \"slippery\", \"spasmodic\", \\\n",
        "\"instantaneous\", \"momentaneous\", \"temporal\", \"temporary\", \"provisional\", \"provisory\", \"deciduous\", \"perishable\", \"mortal\", \"precarious\", \"unstable\", \"insecure\", \"impermanent\", \"brief\", \\\n",
        "\"quick\", \"brisk\", \"extemporaneous\", \"haste\", \"sudden\", \"momentary\", \"instantaneous\", \"perpetual\", \"eternal\", \"everduring\", \"everlasting\", \"ever-living\", \"ever-flowing\", \"continual\", \\\n",
        "\"sempiternal\", \"coeternal\", \"endless\", \"unending\", \"ceaseless\", \"incessant\", \"uninterrupted\", \"indesinent\", \"unceasing\", \"endless\", \"unending\", \"interminable\", \"unfading\", \"evergreen\", \\\n",
        "\"amaranthine\", \"neverending\", \"never-dying\", \"never-fading\", \"deathless\", \"immortal\", \"undying\", \"imperishable\", \"instantaneous\", \"momentary\", \"sudden\", \"immediate\", \"instant\", \"abrupt\", \\\n",
        "\"discontinuous\", \"precipitous\", \"precipitant\", \"precipitate\", \"subitaneous\", \"hasty\", \"rapid\", \"speedy\", \"quick\", \"fast\", \"fleet\", \"swift\", \"lively\", \"blitz\", \"velocity\", \"chronological\", \\\n",
        "\"chronometrical\", \"chronogrammatical\", \"cinquecento\", \"quattrocento\", \"trecento\", \"misdated\" \"undated\", \"overdue\"]"
      ],
      "metadata": {
        "id": "GiFOT6ot0V84"
      },
      "execution_count": null,
      "outputs": []
    },
    {
      "cell_type": "code",
      "source": [
        "# relative time\n",
        "time_2 = [\"prior\", \"previous\", \"preceding\", \"precedent\", \"anterior\", \"antecedent\", \"pre-existing\", \"pre-existent\", \"former\", \"foregoing\", \"aforementioned\", \"before-mentioned\", \"abovementioned\", \\\n",
        "\"aforesaid\", \"said\", \"introductory\", \"precursory\", \"subsequent\", \"posterior\", \"following\", \"after\", \"later\", \"succeeding\", \"postliminious\", \"postnate\", \"postdiluvial\", \"postdiluvian\", \\\n",
        "\"puisne\", \"posthumous\", \"future\", \"afterdinner\", \"postprandial\", \"present\", \"actual\", \"instant\", \"current\", \"existing\", \"extant\", \"present-day\", \"up-to-date\", \"up-to-the-moment\", \"aoristic\", \\\n",
        "\"indefinite\", \"synchronous\", \"synchronal\", \"synchronic\", \"synchronical\", \"synchronistical\", \"simultaneous\", \"coexisting\", \"coincident\", \"concomitant\", \"concurrent\", \"coeval\", \"coevous\", \\\n",
        "\"contemporary\", \"contemporaneous\", \"coetaneous\", \"coeternal\", \"isochronous\", \"future\", \"coming\", \"impending\", \"next\", \"near\", \"eventual\", \"ulterior\", \"expectation\", \"past\", \"gone\", \"over\", \\\n",
        "\"bygone\", \"foregone\", \"elapsed\", \"lapsed\", \"preterlapsed\", \"expired\", \"has-been\", \"extinct\", \"antediluvian\", \"antebellum\", \"exploded\", \"forgotten\", \"irrecoverable\", \"obsolete\", \"old\", \"former\", \\\n",
        "\"pristine\", \"quondam\", \"ci-devant\", \"late\", \"ancestral\", \"foregoing\", \"last\", \"latter\", \"recent\", \"preterperfect\", \"preterpluperfect\", \"retrospective\", \"retroactive\", \"archaeological\", \"new\", \\\n",
        "\"novel\", \"recent\", \"fresh\", \"green\", \"young\", \"evergreen\", \"raw\", \"immature\", \"unsettled\", \"yeasty\", \"virgin\", \"untried\", \"unhandseled\", \"untrodden\", \"untrod\", \"unbeaten\", \"fire-new\", \\\n",
        "\"span-new\", \"late\", \"modern\", \"neoteric\", \"hypermodern\", \"nouveau\", \"new-born\", \"nascent\", \"neonatal\", \"new-fashioned\", \"new-fangled\", \"new-fledged\", \"brand-new\", \"fashionable\", \"in\", \"hip\", \\\n",
        "\"vernal\", \"renovated\", \"sempervirent\", \"sempervirid\", \"old\", \"ancient\", \"antique\", \"time-honored\", \"venerable\", \"elder\", \"eldest\", \"firstborn\", \"prime\", \"primitive\", \"primeval\", \"primigenous\", \\\n",
        "\"paleolontological\", \"paleontologic\", \"paleoanthropological\", \"paleoanthropic\", \"paleolithic\", \"primordial\", \"primordinate\", \"aboriginal\", \"beginning\", \"diluvian\", \"antediluvian\", \"protohistoric\", \\\n",
        "\"prehistoric\", \"antebellum\", \"colonial\", \"precolumbian\", \"patriarchal\", \"preadamite\", \"paleocrystic\", \"fossil\", \"paleozoolical\", \"paleozoic\", \"preglacial\", \"antemundane\", \"archaic\", \"classic\", \\\n",
        "\"medieval\", \"Pre-Raphaelite\", \"ancestral\", \"black-letter\", \"immemorial\", \"traditional\", \"prescriptive\", \"customary\", \"inveterate\", \"rooted\", \"antiquated\", \"rococo\", \"after-age\", \"obsolete\", \"stale\", \\\n",
        "\"old-fashioned\", \"old-world\", \"exploded\", \"passe\", \"senile\", \"crumbling\", \"deteriorated\", \"secondhand\", \"Archeozoic\", \"Proterozoic\", \"Paleozoic\", \"Mesozoic\", \"Cenozoic\", \"Precambrian\", \"Cambrian\", \\\n",
        "\"Ordovician\", \"Silurian\", \"Devonian\", \"Mississippian\", \"Pennsylvanian\", \"Permian\", \"Triassic\", \"Jurassic\", \"Cretaceous\", \"Tertiary\", \"Paleogene\", \"Neocene\", \"Quaternary\", \"Paleocene\", \"Eocene\", \\\n",
        "\"Oligocene\", \"Miocene\", \"Pliocene\", \"Pleistocene\", \"Recent\", \"recent\", \"matin\", \"matutinal\", \"vernal\", \"vespertine\", \"autumnal\", \"nocturnal\",  \"young\", \"youthful\", \"juvenile\", \"green\", \"callow\", \\\n",
        "\"budding\", \"sappy\", \"puisne\", \"beardless\", \"underage\", \"younger\", \"junior\", \"hebetic\", \"unfledged\", \"aged\", \"old\", \"elderly\", \"geriatric\", \"senile\", \"matronly\", \"anile\", \"ripe\", \"mellow\", \"declining\", \\\n",
        "\"waning\", \"gray\", \"gray-headed\", \"hoar\", \"hoary\", \"venerable\", \"time-worn\", \"antiquated\", \"passe\", \"effete\", \"decrepit\", \"superannuated\", \"wrinkled\", \"doting\", \"imbecile\", \"older\", \"elder\", \"eldest\", \\\n",
        "\"senior\", \"firstborn\", \"ancestral\", \"patriarchal\", \"ancient\", \"gerontic\", \"infantine\", \"infantile\", \"puerile\", \"boyish\", \"girlish\", \"childish\", \"babyish\", \"kittenish\", \"baby\", \"newborn\", \"unfledged\", \\\n",
        "\"new-fledged\", \"callow\", \"adolescent\", \"pubescent\", \"mature\", \"middle-aged\", \"manly\", \"virile\", \"adult\", \"womanly\", \"matronly\", \"marriageable\", \"nubile\", \"early\", \"prime\", \"forward\", \"prompt\", \"active\", \\\n",
        "\"summary\", \"premature\", \"precipitate\", \"precocious\", \"prevenient\", \"anticipatory\", \"rath\", \"sudden\", \"instantaneous\", \"unexpected\", \"near\", \"immediate\", \"late\", \"tardy\", \"slow\", \"behindhand\", \"serotine\", \\\n",
        "\"belated\", \"postliminious\", \"posthumous\", \"backward\", \"unpunctual\", \"untimely\", \"delayed\", \"postponed\", \"dilatory\", \"slow\", \"delayed\", \"timely\", \"seasonable\", \"punctual\", \"prompt\", \"opportune\", \"timely\", \\\n",
        "\"well-timed\", \"timeful\", \"seasonable\", \"providential\", \"lucky\", \"fortunate\", \"happy\", \"favorable\", \"propitious\", \"auspicious\", \"critical\", \"suitable\", \"ill-timed\", \"mistimed\", \"ill-fated\", \"ill-omened\", \\\n",
        "\"ill-starred\", \"untimely\", \"unseasonable\", \"inopportune\", \"timeless\", \"intrusive\", \"untoward\", \"unlucky\", \"inauspicious\", \"infelicitous\", \"unbefitting\", \"unpropitious\", \"unfortunate\", \"unfavorable\", \\\n",
        "\"unsuited\", \"inexpedient\", \"unpunctual\", \"late\", \"premature\", \"early\"]"
      ],
      "metadata": {
        "id": "iNDDOQqJ0bUA"
      },
      "execution_count": null,
      "outputs": []
    },
    {
      "cell_type": "code",
      "source": [
        "# recurrent time\n",
        "time_3 = [\"frequent\", \"thickcoming\", \"incessant\", \"perpetual\", \"continual\", \"steady\", \"constant\", \"thick\", \"uniform\", \"repeated\", \"customary\", \"habit\", \"regular\", \"normal\", \"conformable\", \"common\", \"everyday\", \\\n",
        "\"usual\", \"ordinary\", \"familiar\", \"old-hat\", \"boring\", \"well-known\", \"trivial\", \"unfrequent\", \"infrequent\", \"rare\", \"few\", \"scarce\", \"unprecedented\", \"periodic\", \"periodical\", \"serial\", \"recurrent\", \\\n",
        "\"cyclical\", \"rhythmical\", \"recurring\", \"intermittent\", \"remittent\", \"alternate\", \"hourly\", \"diurnal\", \"daily\", \"quotidian\", \"tertian\", \"weekly\", \"hebdomadal\", \"hebdomadary\", \"biweekly\", \"fortnightly\", \\\n",
        "\"bimonthly\", \"catamenial\", \"monthly\", \"menstrual\", \"yearly\", \"annual\", \"biennial\", \"triennial\", \"centennial\", \"secular\", \"paschal\", \"lenten\", \"regular\", \"steady\", \"punctual\", \"irregular\", \"uncertain\", \\\n",
        "\"unpunctual\", \"capricious\", \"desultory\", \"fitful\", \"flickering\", \"rambling\", \"rhapsodical\", \"spasmodic\", \"immethodical\", \"unmethodical\", \"variable\"]"
      ],
      "metadata": {
        "id": "NyVOKvWF0h9C"
      },
      "execution_count": null,
      "outputs": []
    },
    {
      "cell_type": "code",
      "source": [
        "# simple change\n",
        "change_1 = [\"changed\", \"newfangled\", \"changeable\", \"transitional\", \"modifiable\", \"alterative\", \"stable\", \"persisting\", \"permanent\", \"established\", \"unchanged\", \"change\", \"renewed\", \"intact\", \"inviolate\", \\\n",
        "\"persistent\", \"monotonous\", \"uncheckered\", \"unfailing\", \"undestroyed\", \"unrepealed\", \"unsuppressed\", \"conservative\", \"prescriptive\", \"old\", \"stationary\", \"continuing\", \"uninterrupted\", \"unintermitting\", \\\n",
        "\"unvarying\", \"unshifting\", \"unreversed\", \"unstopped\", \"unrevoked\", \"unvaried\", \"sustained\", \"undying\", \"perpetual\", \"inconvertible\", \"convertible\", \"resolvable\", \"transitional\", \"naturalized\", \"reverting\", \\\n",
        "\"regressive\", \"revulsive\", \"reactionary\", \"retrorse\", \"unrecognizable\", \"revolutionary\", \"substituted\", \"ersatz\", \"phony\", \"vicarious\", \"subdititious\", \"interchanged\", \"reciprocal\", \"mutual\", \"commutative\", \\\n",
        "\"interchangeable\", \"intercurrent\", \"combinatorial\", \"recombinant\"]"
      ],
      "metadata": {
        "id": "pWpfzF8E0rYR"
      },
      "execution_count": null,
      "outputs": []
    },
    {
      "cell_type": "code",
      "source": [
        "# complex change\n",
        "change_2 = [\"changeable\", \"changeful\", \"changing\", \"mutable\", \"variable\", \"checkered\", \"protean\", \"proteiform\", \"versatile\", \"unstaid\", \"inconstant\", \"unsteady\", \"unstable\", \"unfixed\", \"unsettled\", \"fluctuating\", \\\n",
        "\"restless\", \"agitated\", \"erratic\", \"fickle\", \"irresolute\", \"capricious\", \"inconsonant\", \"fitful\", \"spasmodic\", \"vibratory\", \"vagrant\", \"wayward\", \"desultory\", \"afloat\", \"alternating\", \"alterable\", \"plastic\", \\\n",
        "\"mobile\", \"transient\", \"wavering\", \"unchangeable\", \"immutable\", \"unaltered\", \"unalterable\", \"constant\", \"permanent\", \"invariable\", \"undeviating\", \"stable\", \"durable\", \"perennial\", \"diuturnal\", \"fixed\", \\\n",
        "\"steadfast\", \"firm\", \"fast\", \"steady\", \"balanced\", \"confirmed\", \"valid\", \"fiducial\", \"immovable\", \"irremovable\", \"riveted\", \"rooted\", \"settled\", \"established\", \"vested\", \"incontrovertible\", \"stereotyped\", \\\n",
        "\"indeclinable\", \"tethered\", \"anchored\", \"moored\", \"deep-rooted\", \"ineradicable\", \"inveterate\", \"obstinate\", \"transfixed\", \"aground\", \"stranded\", \"stuck\", \"jammed\", \"unremovable\", \"quiescent\", \"deterioration\", \\\n",
        "\"indefeasible\", \"irretrievable\", \"intransmutable\", \"incommutable\", \"irresoluble\", \"irrevocable\", \"irreversible\", \"reverseless\", \"inextinguishable\", \"irreducible\", \"indissoluble\", \"indissolvable\", \"indestructible\", \\\n",
        "\"undying\", \"imperishable\", \"incorruptible\", \"indelible\", \"indeciduous\", \"insusceptible\", \"happening\", \"doing\", \"current\", \"afloat\", \"afoot\", \"incidental\", \"eventful\", \"stirring\", \"bustling\", \"memorable\", \\\n",
        "\"momentous\", \"signal\", \"impending\", \"destined\", \"happen\", \"coming\", \"instant\", \"near\", \"imminent\", \"brewing\", \"preparing\", \"forthcoming\", \"expected\", \"horizon\", \"future\", \"unborn\", \"futurity\", \"pregnant\", \\\n",
        "\"producing\"]"
      ],
      "metadata": {
        "id": "L7XCv8rQ0tyL"
      },
      "execution_count": null,
      "outputs": []
    },
    {
      "cell_type": "code",
      "source": [
        "# constancy of sequence in events\n",
        "causation_1 = [\"caused\", \"causal\", \"original\", \"primary\", \"primitive\", \"primordial\", \"aboriginal\", \"protogenal\", \"radical\", \"embryonic\", \"embryotic\", \"seminal\", \"germinal\", \"connate\", \"derivative\", \"hereditary\", \\\n",
        "\"telegonous\", \"attributed\", \"attributable\", \"effect\", \"putative\", \"ecbatic\", \"casual\", \"fortuitous\", \"accidental\", \"adventitious\", \"causeless\", \"incidental\", \"contingent\", \"uncaused\", \"undetermined\", \\\n",
        "\"indeterminate\", \"random\", \"statistical\", \"possible\", \"unintentional\"]"
      ],
      "metadata": {
        "id": "y9aY_vb_0yes"
      },
      "execution_count": null,
      "outputs": []
    },
    {
      "cell_type": "code",
      "source": [
        "# connection between cause and effect\n",
        "causation_2 = [\"powerful\", \"puissant\", \"potential\", \"capable\", \"able\", \"cogent\", \"valid\", \"efficient\", \"productive\", \"effective\", \"effectual\", \"efficacious\", \"adequate\", \"competent\", \"multipotent\", \"plenipotent\", \\\n",
        "\"omnipotent\", \"almighty\", \"forcible\", \"energetic\", \"influential\", \"productive\", \"powerless\", \"impotent\", \"unable\", \"incapable\", \"incompetent\", \"inefficient\", \"ineffective\", \"inept\", \"unfit\", \"unfitted\", \\\n",
        "\"unqualified\", \"disqualified\", \"unendowed\", \"inapt\", \"unapt\", \"crippled\", \"disabled\", \"armless\", \"harmless\", \"unarmed\", \"weaponless\", \"defenseless\", \"unfortified\", \"indefensible\", \"vincible\", \"pregnable\", \\\n",
        "\"untenable\", \"paralytic\", \"paralyzed\", \"palsied\", \"imbecile\", \"nerveless\", \"sinewless\", \"marrowless\", \"pithless\", \"lustless\", \"emasculate\", \"disjointed\", \"unnerved\", \"unhinged\", \"water-logged\", \"rudderless\", \\\n",
        "\"exhausted\", \"shattered\", \"demoralized\", \"graveled\", \"helpless\", \"unfriended\", \"fatherless\", \"nugatory\", \"inoperative\", \"ineffectual\", \"failing\", \"inadequate\", \"inefficacious\", \"useless\", \"strong\", \"mighty\", \\\n",
        "\"vigorous\", \"forcible\", \"hard\", \"adamantine\", \"stout\", \"robust\", \"sturdy\", \"hardy\", \"powerful\", \"potent\", \"puissant\", \"valid\", \"resistless\", \"irresistible\", \"invincible\", \"impregnable\", \"unconquerable\", \\\n",
        "\"indomitable\", \"dominating\", \"inextinguishable\", \"unquenchable\", \"incontestable\", \"overpowering\", \"overwhelming\", \"powerful\", \"sufficient\", \"sovereign\", \"able-bodied\", \"athletic\", \"Herculean\", \"Cyclopean\", \\\n",
        "\"Atlantean\", \"muscular\", \"brawny\", \"wiry\", \"well-knit\", \"broad-shouldered\", \"sinewy\", \"strapping\", \"stalwart\", \"gigantic\", \"manly\", \"man-like\", \"manful\", \"masculine\", \"male\", \"virile\", \"unweakened\", \"unallayed\", \\\n",
        "\"unwithered\", \"unshaken\", \"unworn\", \"unexhausted\", \"stubborn\", \"thick-ribbed\", \"deep-rooted\", \"weak\", \"feeble\", \"debile\", \"impotent\", \"relaxed\", \"unnerved\", \"sapless\", \"strengthless\", \"powerless\", \"weakly\", \\\n",
        "\"unstrung\", \"flaccid\", \"adynamic\", \"asthenic\", \"nervous\", \"soft\", \"effeminate\", \"feminate\", \"womanly\", \"frail\", \"fragile\", \"shattery\", \"flimsy\", \"unsubstantial\", \"insubstantial\", \"gimcrack\", \"gingerbread\", \\\n",
        "\"rickety\", \"creaky\", \"creaking\", \"cranky\", \"craichy\", \"drooping\", \"tottering\", \"broken\", \"lame\", \"withered\", \"shattered\", \"shaken\", \"crazy\", \"shaky\", \"palsied\", \"decrepit\", \"languid\", \"poor\", \"infirm\", \"faint\", \\\n",
        "\"faintish\", \"sickly\", \"disease\", \"dull\", \"slack\", \"evanid\", \"spent\", \"short-winded\", \"effete\", \"weather-beaten\", \"decayed\", \"rotten\", \"worn\", \"seedy\", \"languishing\", \"wasted\", \"washy\", \"unstrengthened\", \\\n",
        "\"unsupported\", \"unaided\", \"unassisted\", \"aidless\", \"defenseless\", \"cantilevered\", \"support\", \"colorless\"]"
      ],
      "metadata": {
        "id": "gh0KEjvm00VR"
      },
      "execution_count": null,
      "outputs": []
    },
    {
      "cell_type": "code",
      "source": [
        "# power in operation\n",
        "causation_3 = [\"produced\", \"producing\", \"prolific\", \"creative\", \"formative\", \"genetic\", \"genial\", \"genital\", \"pregnant\", \"enceinte\", \"teeming\", \"parturient\", \"puerperal\", \"puerperous\", \"digenetic\", \"heterogenetic\", \\\n",
        "\"oogenetic\", \"xenogenetic\", \"ectogenous\", \"gamic\", \"haematobious\", \"sporogenous\", \"sporophorous\", \"architectonic\", \"destroyed\", \"perishing\", \"extinct\", \"all-destroying\", \"all-devouring\", \"all-engulfing\", \\\n",
        "\"destructive\", \"subversive\", \"ruinous\", \"devastating\", \"incendiary\", \"deletory\", \"destroying\", \"suicidal\", \"deadly\", \"killing\", \"reproduced\", \"renascent\", \"reappearing\", \"reproductive\", \"suigenetic\", \"paternal\", \\\n",
        "\"parental\", \"maternal\", \"family\", \"ancestral\", \"linear\", \"patriarchal\", \"filial\", \"diphyletic\", \"productive\", \"prolific\", \"teeming\", \"teemful\", \"fertile\", \"fruitful\", \"frugiferous\", \"fruit-bearing\", \"fecund\", \\\n",
        "\"luxuriant\", \"pregnant\", \"uberous\", \"procreant\", \"procreative\", \"generative\", \"life-giving\", \"spermatic\", \"multiparous\", \"omnific\", \"propagable\", \"parturient\", \"producing\", \"profitable\", \"useful\", \"unproductive\", \\\n",
        "\"acarpous\", \"inoperative\", \"barren\", \"addled\", \"infertile\", \"unfertile\", \"unprolific\", \"arid\", \"sterile\", \"unfruitful\", \"infecund\", \"fallow\", \"teemless\", \"issueless\", \"fruitless\", \"unprofitable\", \"useless\", \"null\", \\\n",
        "\"void\", \"operative\", \"efficient\", \"efficacious\", \"practical\", \"effectual\", \"acting\", \"doing\", \"strong\", \"energetic\", \"forcible\", \"active\", \"intense\", \"deep-dyed\", \"severe\", \"keen\", \"vivid\", \"sharp\", \"acute\", \\\n",
        "\"incisive\", \"trenchant\", \"brisk\", \"rousing\", \"irritation\", \"poignant\", \"virulent\", \"caustic\", \"corrosive\", \"mordant\", \"harsh\", \"stringent\", \"double-edged\", \"double-shotted\", \"double-distilled\", \"drastic\", \\\n",
        "\"escharotic\", \"racy\", \"pungent\", \"potent\", \"powerful\", \"radioactive\", \"inert\", \"inactive\", \"passive\", \"torpid\", \"sluggish\", \"dull\", \"heavy\", \"flat\", \"slack\", \"tame\", \"slow\", \"blunt\", \"unreactive\", \"lifeless\", \\\n",
        "\"dead\", \"uninfluential\", \"latent\", \"dormant\", \"smoldering\", \"unexerted\", \"violent\", \"vehement\", \"warm\", \"acute\", \"sharp\", \"rough\", \"rude\", \"ungentle\", \"bluff\", \"boisterous\", \"wild\", \"brusque\", \"abrupt\", \"waspish\", \\\n",
        "\"impetuous\", \"rampant\", \"turbulent\", \"disorderly\", \"blustering\", \"raging\", \"troublous\", \"riotous\", \"tumultuary\", \"tumultuous\", \"obstreperous\", \"uproarious\", \"extravagant\", \"unmitigated\", \"ravening\", \"inextinguishable\", \\\n",
        "\"tameless\", \"frenzied\", \"insane\", \"desperate\", \"rash\", \"infuriate\", \"furious\", \"outrageous\", \"frantic\", \"hysteric\", \"fiery\", \"flaming\", \"scorching\", \"hot\", \"red-hot\", \"ebullient\", \"savage\", \"fierce\", \"ferocious\", \\\n",
        "\"excited\", \"unquelled\", \"unquenched\", \"unextinguished\", \"unrepressed\", \"unbridled\", \"unruly\", \"headstrong\", \"ungovernable\", \"unappeasable\", \"immitigable\", \"unmitigable\", \"uncontrollable\", \"incontrollable\", \\\n",
        "\"insuppressible\", \"irrepressible\", \"orgastic\", \"orgasmatic\", \"orgasmic\", \"spasmodic\", \"convulsive\", \"explosive\", \"detonating\", \"volcanic\", \"meteoric\", \"stormy\", \"windy\", \"moderate\", \"lenient\", \"gentle\", \"mild\", \\\n",
        "\"mellow\", \"cool\", \"sober\", \"temperate\", \"reasonable\", \"measured\", \"tempered\", \"calm\", \"unruffled\", \"quiet\", \"tranquil\", \"still\", \"slow\", \"smooth\", \"untroubled\", \"tame\", \"peaceful\", \"peaceable\", \"pacific\", \"halcyon\", \\\n",
        "\"unexciting\", \"unirritating\", \"soft\", \"bland\", \"oily\", \"demulcent\", \"lenitive\", \"anodyne\", \"hypnotic\", \"sedative\", \"antiorgastic\", \"anaphrodisiac\"]"
      ],
      "metadata": {
        "id": "N7pJyBrk05dp"
      },
      "execution_count": null,
      "outputs": []
    },
    {
      "cell_type": "code",
      "source": [
        "# indirect power\n",
        "causation_4 = [\"influential\", \"effective\", \"important\", \"weighty\", \"prevailing\", \"prevalent\", \"rife\", \"rampant\", \"dominant\", \"regnant\", \"predominant\", \"hegemonical\", \"uninfluential\", \"ineffective\", \"inconsequential\", \\\n",
        "\"nugatory\", \"unconducing\", \"unconducive\", \"powerless\", \"irrelevant\", \"tending\", \"conducive\", \"liable\", \"subservient\", \"instrumental\", \"useful\", \"subsidiary\", \"helping\", \"liable\", \"subject\", \"answerable\", \"contingent\", \\\n",
        "\"incidental\", \"possible\"]"
      ],
      "metadata": {
        "id": "4Y6V8IVr1GWK"
      },
      "execution_count": null,
      "outputs": []
    },
    {
      "cell_type": "code",
      "source": [
        "# combinations of causes\n",
        "causation_5 = [\"concurring\", \"concurrent\", \"coinciding\", \"counteracting\", \"antagonistic\", \"conflicting\", \"retroactive\", \"renitent\", \"reactionary\", \"contrary\"]"
      ],
      "metadata": {
        "id": "MYVUA9Ax1IFk"
      },
      "execution_count": null,
      "outputs": []
    },
    {
      "cell_type": "code",
      "source": [
        "# abstract space\n",
        "spacegen_1 = [\"spacious\", \"roomy\", \"extensive\", \"expansive\", \"capacious\", \"ample\", \"widespread\", \"vast\", \"world-wide\", \"uncircumscribed\", \"boundless\", \"infinite\", \"shoreless\", \"trackless\", \"pathless\", \"extended\", \"territorial\", \\\n",
        "\"local\", \"parochial\", \"provincial\", \"regional\"]"
      ],
      "metadata": {
        "id": "Q00mF71Q1NG8"
      },
      "execution_count": null,
      "outputs": []
    },
    {
      "cell_type": "code",
      "source": [
        "# relative space\n",
        "spacegen_2 = [\"situate\", \"situated\", \"local\", \"topical\", \"topographical\", \"placed\", \"situate\", \"posited\", \"ensconced\", \"imbedded\", \"embosomed\", \"rooted\", \"domesticated\", \"unremoved\", \"moored\", \"displaced\", \"unplaced\", \\\n",
        "\"unhoused\", \"unharbored\", \"unestablished\", \"unsettled\", \"houseless\", \"homeless\", \"misplaced\"]"
      ],
      "metadata": {
        "id": "Rvt_RKDj1PSi"
      },
      "execution_count": null,
      "outputs": []
    },
    {
      "cell_type": "code",
      "source": [
        "# existence in space\n",
        "spacegen_3 = [\"present\", \"occupying\", \"inhabiting\", \"moored\", \"resiant\", \"resident\", \"residentiary\", \"domiciled\", \"ubiquitous\", \"ubiquitary\", \"omnipresent\", \"peopled\", \"populous\", \"inhabited\", \"absent\", \"away\", \"nonresident\", \\\n",
        "\"gone\", \"missing\", \"lost\", \"wanting\", \"omitted\", \"inexistence\", \"empty\", \"void\", \"vacant\", \"vacuous\", \"untenanted\", \"unoccupied\", \"uninhabited\", \"tenantless\", \"barren\", \"sterile\", \"desert\", \"deserted\", \"devoid\", \"uninhabitable\", \\\n",
        "\"indigenous\", \"native\", \"natal\", \"autochthonal\", \"autochthonous\", \"British\", \"English\", \"American\", \"Canadian\", \"Irish\", \"Scotch\", \"Scottish\", \"Welsh\", \"domestic\", \"domiciliated\", \"domiciled\", \"naturalized\", \"vernacular\", \\\n",
        "\"domesticated\", \"domiciliary\", \"urban\", \"metropolitan\", \"suburban\", \"provincial\", \"rural\", \"rustic\", \"domestic\", \"cosmopolitan\", \"palatial\", \"capsular\", \"saccular\", \"sacculated\", \"recipient\", \"ventricular\", \"cystic\", \"vascular\", \\\n",
        "\"vesicular\", \"cellular\", \"camerated\", \"locular\", \"multilocular\", \"polygastric\", \"marsupial\", \"siliquose\", \"siliquous\"]"
      ],
      "metadata": {
        "id": "r7QiFMC81RdM"
      },
      "execution_count": null,
      "outputs": []
    },
    {
      "cell_type": "code",
      "source": [
        "# general dimensions\n",
        "dimension_1 = [\"large\", \"big\", \"great\", \"quantity\", \"considerable\", \"bulky\", \"voluminous\", \"ample\", \"massive\", \"massy\", \"capacious\", \"comprehensive\", \"spacious\", \"mighty\", \"towering\", \"fine\", \"magnificent\", \"corpulent\", \"stout\", \\\n",
        "\"fat\", \"obese\", \"plump\", \"squab\", \"full\", \"lusty\", \"strapping\", \"bouncing\", \"portly\", \"burly\", \"well-fed\", \"full-grown\", \"corn-fed\", \"gram-fed\", \"stalwart\", \"brawny\", \"fleshy\", \"goodly\", \"chopping\", \"jolly\", \"chub-faced\", \\\n",
        "\"chubby-faced\", \"lubberly\", \"hulky\", \"unwieldy\", \"lumpish\", \"gaunt\", \"spanking\", \"whacking\", \"whopping\", \"walloping\", \"thumping\", \"thundering\", \"hulking\", \"overgrown\", \"puffy\", \"swollen\", \"huge\", \"immense\", \"enormous\", \"mighty\", \\\n",
        "\"vast\", \"vasty\", \"amplitudinous\", \"stupendous\", \"monster\", \"monstrous\", \"humongous\", \"monumental\", \"elephantine\", \"jumbo\", \"mammoth\", \"gigantic\", \"gigantean\", \"giant\", \"giant-like\", \"titanic\", \"prodigious\", \"colossal\", \\\n",
        "\"Cyclopean\", \"Brobdingnagian\", \"Bunyanesque\", \"Herculean\", \"Gargantuan\", \"infinite\", \"immeasurable\", \"unfathomable\", \"unplumbed\", \"inconceivable\", \"unimaginable\", \"unheard-of\", \"little\", \"small\", \"minute\", \"diminutive\", \\\n",
        "\"microscopic\", \"microzoal\", \"inconsiderable\", \"unimportant\", \"exiguous\", \"puny\", \"tiny\", \"wee\", \"petty\", \"minikin\", \"miniature\", \"pygmy\", \"pigmy\", \"elfin\", \"undersized\", \"dwarf\", \"dwarfed\", \"dwarfish\", \"spare\", \"stunted\", \\\n",
        "\"limited\", \"cramp\", \"cramped\", \"pollard\", \"Liliputian\", \"dapper\", \"pocket\", \"portative\", \"portable\", \"duodecimo\", \"dumpy\", \"squat\", \"short\", \"impalpable\", \"intangible\", \"evanescent\", \"imperceptible\", \"invisible\", \"inappreciable\", \\\n",
        "\"insignificant\", \"inconsiderable\", \"trivial\", \"infinitesimal\", \"homoeopathic\", \"atomic\", \"subatomic\", \"corpuscular\", \"molecular\", \"rudimentary\", \"rudimental\", \"embryonic\", \"vestigial\", \"weazen\", \"scant\", \"scraggy\", \"scrubby\", \\\n",
        "\"thin\", \"narrow\", \"granular\", \"powdery\", \"shrunk\", \"brevipennate\", \"expanded\", \"larger\", \"large\", \"swollen\", \"expansive\", \"wide\", \"widespread\", \"flabelliform\", \"overgrown\", \"exaggerated\", \"bloated\", \"fat\", \"turgid\", \"tumid\", \\\n",
        "\"hypertrophied\", \"dropsical\", \"pot-bellied\", \"swag-bellied\", \"edematous\", \"oedematous\", \"obese\", \"puffy\", \"pursy\", \"blowzy\", \"bigswoln\", \"distended\", \"patulous\", \"bulbous\", \"convex\", \"full-blown\", \"full-grown\", \"full-formed\", \\\n",
        "\"big\", \"abdominous\", \"enchymatous\", \"rhipidate\", \"tumefacient\", \"tumefying\", \"contracting\", \"astringent\", \"shrunk\", \"contracted\", \"strangulated\", \"tabid\", \"wizened\", \"stunted\", \"waning\", \"neap\", \"compact\", \"unexpanded\", \"expand\", \\\n",
        "\"contractile\", \"compressible\", \"smaller\", \"small\", \"distant\", \"far\", \"remote\", \"telescopic\", \"distal\", \"yon\", \"yonder\", \"ulterior\", \"transmarine\", \"transpontine\", \"transatlantic\", \"transalpine\", \"tramontane\", \"ultramontane\", \\\n",
        "\"ultramundane\", \"hyperborean\", \"antipodean\", \"inaccessible\", \"unapproached\", \"unapproachable\", \"incontiguous\", \"near\", \"nigh\", \"close\", \"neighboring\", \"contiguous\", \"adjacent\", \"adjoining\", \"proximate\", \"proximal\", \"handy\", \"home\", \\\n",
        "\"intimate\", \"breachy\", \"rimose\", \"rimulose\", \"contiguous\", \"touching\", \"conterminous\", \"osculatory\", \"pertingent\", \"tangential\"]"
      ],
      "metadata": {
        "id": "XaEwIlmb1UAX"
      },
      "execution_count": null,
      "outputs": []
    },
    {
      "cell_type": "code",
      "source": [
        "# linear dimensions\n",
        "dimension_2 = [\"long\", \"longsome\", \"lengthy\", \"wiredrawn\", \"outstretched\", \"lengthened\", \"sesquipedalian\", \"words\", \"interminable\", \"macrocolous\", \"linear\", \"lineal\", \"longitudinal\", \"oblong\", \"unshortened\", \"shorten\", \"short\", \"brief\", \\\n",
        "\"curt\", \"compendious\", \"compact\", \"stubby\", \"scrimp\", \"shorn\", \"stubbed\", \"stumpy\", \"thickset\", \"pug\", \"chunky\", \"decurtate\", \"retrousse\", \"stocky\", \"squab\", \"squabby\", \"squat\", \"dumpy\", \"little\", \"oblate\", \"concise\", \"summary\", \\\n",
        "\"broad\", \"wide\", \"ample\", \"extended\", \"discous\", \"fanlike\", \"outspread\", \"outstretched\", \"latifoliate\", \"latifolous\", \"thick\", \"dumpy\", \"squab\", \"squat\", \"thickset\", \"narrow\", \"close\", \"slender\", \"thin\", \"fine\", \"thread-like\", \\\n",
        "\"filament\", \"finespun\", \"gossamer\", \"paper-thin\", \"taper\", \"slim\", \"slight-made\", \"scant\", \"scanty\", \"spare\", \"delicate\", \"incapacious\", \"contracted\", \"unexpanded\", \"expand\", \"emaciated\", \"lean\", \"meager\", \"gaunt\", \"macilent\", \\\n",
        "\"lank\", \"lanky\", \"weedy\", \"skinny\", \"scrawny\" \"slinky\", \"starved\", \"starveling\", \"herring\", \"gutted\", \"hatchet-faced\", \"lantern-jawed\", \"attenuated\", \"shriveled\", \"extenuated\", \"tabid\", \"marcid\", \"barebone\", \"rawboned\", \"monomolecular\", \\\n",
        "\"lamellar\", \"lamellated\", \"lamelliform\", \"layered\", \"laminated\", \"laminiferous\", \"micaceous\", \"schistose\", \"schistous\", \"scaly\", \"filmy\", \"membranous\", \"pellicular\", \"flaky\", \"squamous\", \"foliated\", \"foliaceous\", \"stratified\", \\\n",
        "\"stratiform\", \"tabular\", \"discoid\", \"spathic\", \"spathose\", \"trilamellar\", \"graphitic\", \"filamentous\", \"filamentiferous\", \"filaceous\", \"filiform\", \"fibrous\", \"fibrillous\", \"thread-like\", \"wiry\", \"stringy\", \"ropy\", \"capillary\", \\\n",
        "\"capilliform\", \"funicular\", \"wire-drawn\", \"anguilliform\", \"flagelliform\", \"hairy\", \"rough\", \"taeniate\", \"taeniform\", \"taenioid\", \"venose\", \"venous\", \"high\", \"elevated\", \"eminent\", \"exalted\", \"lofty\", \"tall\", \"gigantic\", \"big\", \\\n",
        "\"Patagonian\", \"towering\", \"beetling\", \"soaring\", \"hanging\", \"gardens\", \"elevated\", \"upper\", \"highest\", \"topmost\", \"high-reaching\", \"insessorial\", \"perching\", \"upland\", \"moorland\", \"hilly\", \"knobby\", \"mountainous\", \"alpine\", \"subalpine\", \\\n",
        "\"heaven\" \"kissing\", \"cloudtopt\", \"cloudcapt\", \"cloudtouching\", \"aerial\", \"overhanging\", \"incumbent\", \"overlying\", \"superincumbent\", \"supernatant\", \"superimposed\", \"prominent\", \"lanky\", \"thin\", \"low\", \"neap\", \"debased\", \"nether\", \"flat\", \\\n",
        "\"crouched\", \"subjacent\", \"squat\", \"prostrate\", \"horizontal\", \"deep\", \"deep-seated\", \"profound\", \"sunk\", \"buried\", \"submerged\", \"subaqueous\", \"submarine\", \"subterranean\", \"subterraneous\", \"subterrene\", \"underground\", \"bottomless\", \\\n",
        "\"soundless\", \"fathomless\", \"unfathomed\", \"unfathomable\", \"abysmal\", \"bathycolpian\", \"benthal\", \"benthopelagic\", \"downreaching\", \"yawning\", \"knee-deep\", \"ankle-deep\", \"shallow\", \"slight\", \"superficial\", \"skin-deep\", \"ankle-deep\", \\\n",
        "\"knee-deep\", \"shoal\", \"shoaly\", \"highest\", \"high\", \"top\", \"topmost\", \"uppermost\", \"tiptop\", \"culminating\", \"meridian\", \"meridional\", \"capital\", \"head\", \"polar\", \"supreme\", \"supernal\", \"topgallant\", \"bottom\", \"undermost\", \"nethermost\", \\\n",
        "\"fundamental\", \"vertical\", \"upright\", \"erect\", \"perpendicular\", \"plumb\", \"normal\", \"straight\", \"bolt\", \"upright\", \"rampant\", \"rectangular\", \"orthogonal\", \"horizontal\", \"level\", \"even\", \"plane\", \"flat\", \"alluvial\", \"calm\", \"smooth\", \\\n",
        "\"recumbent\", \"decumbent\", \"procumbent\", \"accumbent\", \"lying\", \"prone\", \"supine\", \"couchant\", \"jacent\", \"prostrate\", \"recubant\", \"pendent\", \"pendulous\", \"pensile\", \"hanging\", \"beetling\", \"overhanging\", \"projecting\", \"dependent\", \\\n",
        "\"suspended\", \"loose\", \"flowing\", \"pedunculate\", \"tailed\", \"caudate\", \"supporting\", \"supported\", \"fundamental\", \"dorsigerous\", \"parallel\", \"coextensive\", \"equidistant\", \"orthogonal\", \"perpendicular\", \"rectangular\", \"uncorrelated\", \\\n",
        "\"inverted\", \"supine\", \"topsy-turvy\", \"inverse\", \"reverse\", \"contrary\", \"opposite\", \"top-heavy\", \"crossing\", \"crossed\", \"matted\", \"transverse\", \"cross\", \"cruciform\", \"crucial\", \"retiform\", \"reticular\", \"reticulated\", \"areolar\", \\\n",
        "\"cancellated\", \"grated\", \"barred\", \"streaked\", \"textile\", \"crossbarred\", \"cruciate\", \"palmiped\", \"secant\", \"web-footed\"]"
      ],
      "metadata": {
        "id": "jT8ms8Ge1X6q"
      },
      "execution_count": null,
      "outputs": []
    },
    {
      "cell_type": "code",
      "source": [
        "# centrical dimensions\n",
        "dimension_3 = [\"exterior\", \"external\", \"outermost\", \"outward\", \"outlying\", \"outside\", \"outdoor\", \"extramural\", \"extralimitary\", \"extramundane\", \"superficial\", \"skin-deep\", \"frontal\", \"discoid\", \"extraregarding\", \"excentric\", \"eccentric\", \\\n",
        "\"outstanding\", \"extrinsic\", \"ecdemic\", \"exomorphic\", \"interior\", \"internal\", \"inner\", \"inside\", \"inward\", \"intraregarding\", \"inmost\", \"innermost\", \"deep-seated\", \"gut\", \"intestine\", \"intestinal\", \"inland\", \"subcutaneous\", \"abdominal\", \\\n",
        "\"coeliac\", \"endomorphic\", \"interstitial\", \"interjacent\", \"inwrought\", \"intrinsic\", \"inclosed\", \"home\", \"domestic\", \"indoor\", \"intramural\", \"vernacular\", \"endemic\", \"central\", \"centrical\", \"middle\", \"azygous\", \"axial\", \"focal\", \"umbilical\", \\\n",
        "\"concentric\", \"middlemost\", \"rachidian\", \"spinal\", \"vertebral\", \"covering\", \"superimposed\", \"overlaid\", \"plated\", \"cutaneous\", \"dermal\", \"cortical\", \"cuticular\", \"tegumentary\", \"skinny\", \"scaly\", \"squamous\", \"covered\", \"imbricated\", \\\n",
        "\"loricated\", \"armor-plated\", \"ironclad\", \"undercover\", \"cowled\", \"cucullate\", \"dermatoid\", \"encuirassed\", \"hooded\", \"squamiferous\", \"tectiform\", \"vaginate\", \"lined\", \"invested\", \"habited\", \"dighted\", \"barbed\", \"barded\", \"clad\", \"costume\", \\\n",
        "\"shod\", \"chausse\", \"show\", \"sartorial\", \"divested\", \"bare\", \"naked\", \"nude\", \"undressed\", \"undraped\", \"denuded\", \"exposed\", \"bald\", \"threadbare\", \"ragged\", \"callow\", \"roofless\", \"barefoot\", \"bareback\", \"barebacked\", \"leafless\", \"napless\", \\\n",
        "\"hairless\", \"circumjacent\", \"circumambient\", \"circumfluent\", \"ambient\", \"surrounding\", \"circumferential\", \"suburban\", \"interjacent\", \"intercurrent\", \"intervenient\", \"intervening\", \"intermediate\", \"intermediary\", \"intercalary\", \"interstitial\", \\\n",
        "\"embolismal\", \"parenthetical\", \"episodic\", \"mediterranean\", \"intrusive\", \"embosomed\", \"merged\", \"circumscribed\", \"begirt\", \"lapt\", \"embosomed\", \"imbedded\", \"embedded\", \"encysted\", \"imprisoned\", \"landlocked\", \"border\", \"marginal\", \"skirting\", \\\n",
        "\"labial\", \"labiated\", \"marginated\", \"definite\", \"conterminate\", \"conterminable\", \"terminal\", \"frontier\", \"bordering\", \"fore\", \"anterior\", \"front\", \"frontal\", \"back\", \"rear\", \"hind\", \"hinder\", \"hindmost\", \"hindermost\", \"postern\", \"posterior\", \\\n",
        "\"dorsal\", \"after\", \"caudal\", \"lumbar\", \"mizzen\", \"tergal\", \"lateral\", \"sidelong\", \"collateral\", \"parietal\", \"flanking\", \"skirting\", \"flanked\", \"sideling\", \"many-sided\", \"multilateral\", \"bilateral\", \"trilateral\", \"quadrilateral\", \"Eastern\", \\\n",
        "\"orient\", \"oriental\", \"Levantine\", \"Western\", \"occidental\", \"Hesperian\", \"opposite\", \"reverse\", \"inverse\", \"converse\", \"antipodal\", \"subcontrary\", \"fronting\", \"facing\", \"Northern\", \"septentrional\", \"Boreal\", \"arctic\", \"Southern\", \\\n",
        "\"Austral\", \"antarctic\", \"dextral\", \"right-handed\", \"dexter\", \"dextrorsal\", \"dextrorse\", \"ambidextral\", \"ambidextrous\", \"left-handed\", \"sinister\", \"sinistral\", \"sinistrorsal\", \"sinistrorse\", \"sinistrous\"]"
      ],
      "metadata": {
        "id": "AFEH7JZa1dA1"
      },
      "execution_count": null,
      "outputs": []
    },
    {
      "cell_type": "code",
      "source": [
        "# general form\n",
        "form_1 = [\"formed\", \"plastic\", \"fictile\", \"formative\", \"fluid\", \"plasmic\", \"isomorphous\", \"pleomorphic\", \"protean\", \"changeable\", \"shapeless\", \"amorphous\", \"formless\", \"unformed\", \"unhewn\", \"unfashioned\", \"unshaped\", \"unshapen\", \"rough\", \\\n",
        "\"rude\", \"Gothic\", \"barbarous\", \"rugged\", \"symmetrical\", \"shapely\", \"finished\", \"beautiful\", \"classic\", \"chaste\", \"severe\", \"regular\", \"uniform\", \"balanced\", \"equal\", \"parallel\", \"coextensive\", \"arborescent\", \"arboriform\", \"dendriform\", \\\n",
        "\"dendroid\", \"branching\", \"ramous\", \"ramose\", \"filiciform\", \"filicoid\", \"subarborescent\", \"papilionaceous\", \"fuji-shaped\", \"fujigata\", \"distorted\", \"irregular\", \"asymmetric\", \"unsymmetric\", \"awry\", \"wry\", \"askew\", \"crooked\", \"crump\", \\\n",
        "\"deformed\", \"harelipped\", \"misshapen\", \"misbegotten\", \"misproportioned\", \"ill-proportioned\", \"ill-made\", \"grotesque\", \"monstrous\", \"crooked\", \"camel-backed\", \"hump-backed\", \"hunch-backed\", \"bunch-backed\", \"crook-backed\", \"bandy\", \\\n",
        "\"bandy-legged\", \"bow-legged\", \"bow-kneed\", \"knock-kneed\", \"splay-footed\", \"club-footed\", \"round-shouldered\", \"snub-nosed\", \"stumpy\", \"short\", \"gaunt\", \"thin\", \"bloated\", \"scalene\", \"simous\", \"taliped\", \"talipedic\"]"
      ],
      "metadata": {
        "id": "vum92sQf1irl"
      },
      "execution_count": null,
      "outputs": []
    },
    {
      "cell_type": "code",
      "source": [
        "# special form\n",
        "form_2 = [\"angular\", \"bent\", \"crooked\", \"aduncous\", \"uncinated\", \"aquiline\", \"jagged\", \"serrated\", \"falciform\", \"falcated\", \"furcated\", \"forked\", \"bifurcate\", \"zigzag\", \"furcular\", \"hooked\", \"dovetailed\", \"crinkled\", \"akimbo\", \\\n",
        "\"kimbo\", \"geniculated\", \"oblique\", \"fusiform\", \"wedge-shaped\", \"cuneiform\", \"cuneate\", \"multangular\", \"oxygonal\", \"triangular\", \"trigonal\", \"trilateral\", \"quadrangular\", \"quadrilateral\", \"foursquare\", \"rectangular\", \"square\", \\\n",
        "\"multilateral\", \"polygonal\", \"cubical\", \"rhomboid\", \"rhomboidal\", \"pyramidal\", \"curved\", \"curviform\", \"curvilineal\", \"curvilinear\", \"devex\", \"devious\", \"recurved\", \"recurvous\", \"crump\", \"bowed\", \"vaulted\", \"hooked\", \\\n",
        "\"falciform\", \"falcated\", \"semicircular\", \"crescentic\", \"sinusoid\", \"parabolic\", \"paraboloid\", \"luniform\", \"lunular\", \"semilunar\", \"conchoidal\", \"helical\", \"double-helical\", \"spiral\", \"kinky\", \"cordiform\", \"cordated\", \\\n",
        "\"cardioid\", \"heart-shaped\", \"bell-shaped\", \"boat-shaped\", \"crescent-shaped\", \"lens-shaped\", \"moon-shaped\", \"oar-shaped\", \"shield-shaped\", \"sickle-shaped\", \"tongue-shaped\", \"pear-shaped\", \"fig-shaped\", \"kidney-shaped\", \\\n",
        "\"reniform\", \"lentiform\", \"lenticular\", \"bow-legged\", \"distorted\", \"oblique\", \"circular\", \"aduncated\", \"arclike\", \"arcuate\", \"arched\", \"beaked\", \"bicorn\", \"bicornuous\", \"bicornute\", \"clypeate\", \"clypeiform\", \"cymbiform\", \\\n",
        "\"embowed\", \"galeiform\", \"hamate\", \"hamiform\", \"hamous\", \"hooked\", \"linguiform\", \"lingulate\", \"lobiform\", \"lunate\", \"navicular\", \"peltate\", \"remiform\", \"rhamphoid\", \"rostrate\", \"rostriferous\", \"rostroid\", \"scutate\", \\\n",
        "\"scaphoid\", \"uncate\", \"unguiculate\", \"unguiform\", \"straight\", \"rectilinear\", \"rectilineal\", \"direct\", \"even\", \"right\", \"true\", \"unbent\", \"virgate\", \"undeviating\", \"unturned\", \"undistorted\", \"unswerving\", \"direct\", \\\n",
        "\"inflexible\", \"laser-straight\", \"ramrod-straight\", \"round\", \"rounded\", \"circular\", \"annular\", \"orbicular\", \"oval\", \"ovate\", \"elliptic\", \"elliptical\", \"egg-shaped\", \"pear-shaped\", \"cycloidal\", \"spherical\", \"convoluted\", \\\n",
        "\"winding\", \"twisted\", \"tortile\", \"tortive\", \"wavy\", \"undated\", \"undulatory\", \"circling\", \"snaky\", \"snake-like\", \"serpentine\", \"serpent\", \"anguill\", \"vermiform\", \"vermicular\", \"mazy\", \"tortuous\", \"sinuous\", \"flexuous\", \\\n",
        "\"anfractuous\", \"reclivate\", \"rivulose\", \"scolecoid\", \"sigmoid\", \"sigmoidal\", \"spiriferous\", \"spiroid\", \"involved\", \"intricate\", \"complicated\", \"perplexed\", \"labyrinth\", \"labyrinthic\", \"labyrinthian\", \"labyrinthine\", \\\n",
        "\"peristaltic\", \"daedalian\", \"kinky\", \"knotted\", \"wreathy\", \"frizzly\", \"crepe\", \"buckled\", \"raveled\", \"spiral\", \"coiled\", \"helical\", \"cochleate\", \"cochleous\", \"screw-shaped\", \"turbinated\", \"turbiniform\", \"rotund\", \"round\", \\\n",
        "\"circular\", \"cylindric\", \"cylindrical\", \"cylindroid\", \"columnar\", \"lumbriciform\", \"conic\", \"conical\", \"spherical\", \"spheroidal\", \"globular\", \"globated\", \"globous\", \"globose\", \"ovoid\", \"oviform\", \"gibbous\", \"rixiform\", \\\n",
        "\"campaniform\", \"campanulate\", \"campaniliform\", \"fungiform\", \"bead-like\", \"moniliform\", \"pyriform\", \"bulbous\"]"
      ],
      "metadata": {
        "id": "j_JOVZ4I2KTO"
      },
      "execution_count": null,
      "outputs": []
    },
    {
      "cell_type": "code",
      "source": [
        "# superficial form\n",
        "form_3 = [\"convex\", \"prominent\", \"protuberant\", \"projecting\", \"bossed\", \"embossed\", \"bossy\", \"nodular\", \"bunchy\", \"clavate\", \"clavated\", \"claviform\", \"hummocky\", \"moutonne\", \"mammiliform\", \"papulous\", \"papilose\", \"hemispheric\", \\\n",
        "\"bulbous\", \"bowed\", \"arched\", \"bold\", \"bellied\", \"tuberous\", \"tuberculous\", \"tumous\", \"cornute\", \"odontoid\", \"lentiform\", \"lenticular\", \"gibbous\", \"club-shaped\", \"hubby\", \"hubbly\", \"knobby\", \"papillose\", \"saddle-shaped\", \\\n",
        "\"selliform\", \"subclavate\", \"torose\", \"ventricose\", \"verrucose\", \"salient\", \"raised\", \"repousse\", \"bloated\", \"expanded\", \"depressed\", \"alveolate\", \"calathiform\", \"cup-shaped\", \"dishing\", \"favaginous\", \"faveolate\", \"favose\", \\\n",
        "\"scyphiform\", \"scyphose\", \"concave\", \"hollow\", \"retiring\", \"retreating\", \"cavernous\", \"porous\", \"infundibul\", \"infundibular\", \"infundibuliform\", \"funnel-shaped\", \"bell-shaped\", \"campaniform\", \"capsular\", \"vaulted\", \"arched\", \\\n",
        "\"cellular\", \"spongy\", \"spongious\", \"honeycombed\", \"alveolar\", \"sintered\", \"porous\", \"opening\", \"sharp\", \"keen\", \"acute\", \"acicular\", \"aciform\", \"aculeated\", \"acuminated\", \"pointed\", \"tapering\", \"conical\", \"pyramidal\", \\\n",
        "\"mucronate\", \"mucronated\", \"spindle-shaped\", \"needle-shaped\", \"spiked\", \"spiky\", \"ensiform\", \"peaked\", \"salient\", \"cusped\", \"cuspidate\", \"cuspidated\", \"cornute\", \"cornuted\", \"cornicultate\", \"prickly\", \"spiny\", \"spinous\", \\\n",
        "\"spicular\", \"thorny\", \"bristling\", \"muricated\", \"pectinated\", \"studded\", \"thistly\", \"briary\", \"craggy\", \"rough\", \"snaggy\", \"digitated\", \"two-edged\", \"fusiform\", \"dentiform\", \"denticulated\", \"toothed\", \"odontoid\", \"starlike\", \\\n",
        "\"stellated\", \"stelliform\", \"sagittate\", \"sagittiform\", \"arrowheaded\", \"arrowy\", \"barbed\", \"spurred\", \"acinaciform\", \"apiculate\", \"apiculated\", \"aristate\", \"awned\", \"awny\", \"bearded\", \"calamiform\", \"cone-shaped\", \"coniform\", \\\n",
        "\"crestate\", \"echinate\", \"gladiate\", \"lanceolate\", \"lanciform\", \"awl\", \"awl-shaped\", \"lance-shaped\", \"awl-shaped\", \"scimitar-shaped\", \"sword-shaped\", \"setarious\", \"spinuliferous\", \"subulate\", \"tetrahedral\", \"xiphoid\", \\\n",
        "\"cutting\", \"sharp-edged\", \"knife-edged\", \"sharpened\", \"set\", \"blunt\", \"obtuse\", \"dull\", \"bluff\", \"edentate\", \"toothless\", \"smooth\", \"polished\", \"leiodermatous\", \"slick\", \"velutinous\", \"even\", \"level\", \"plane\", \"flat\", \\\n",
        "\"sleek\", \"glossy\", \"silken\", \"silky\", \"lanate\", \"downy\", \"velvety\", \"glabrous\", \"slippery\", \"glassy\", \"lubricous\", \"oily\", \"soft\", \"unwrinkled\", \"woolly\", \"feathery\", \"rough\", \"uneven\", \"scabrous\", \"scaly\", \"knotted\", \\\n",
        "\"rugged\", \"rugose\", \"rugous\", \"knurly\", \"asperous\", \"crisp\", \"salebrous\", \"gnarled\", \"unpolished\", \"unsmooth\", \"roughhewn\", \"craggy\", \"cragged\", \"crankling\", \"scraggy\", \"prickly\", \"sharp\", \"arborescent\", \"leafy\", \\\n",
        "\"well-wooded\", \"feathery\", \"plumose\", \"plumigerous\", \"laciniate\", \"laciniform\", \"laciniose\", \"pappose\", \"pileous\", \"pilose\", \"trichogenous\", \"trichoid\", \"tufted\", \"fimbriated\", \"hairy\", \"ciliated\", \"filamentous\", \\\n",
        "\"hirsute\", \"crinose\", \"crinite\", \"bushy\", \"hispid\", \"villous\", \"pappous\", \"bearded\", \"pilous\", \"shaggy\", \"shagged\", \"fringed\", \"befringed\", \"setous\", \"setose\", \"setaceous\", \"downy\", \"velvety\", \"flocculent\", \"woolly\", \\\n",
        "\"lanate\", \"lanated\", \"lanuginous\", \"lanuginose\", \"tomentose\", \"fluffy\", \"notched\", \"crenate\", \"crenated\", \"dentate\", \"dentated\", \"denticulate\", \"denticulated\", \"toothed\", \"palmated\", \"serrated\",  \"folded\", \"fluted\", \\\n",
        "\"pleated\", \"furrowed\", \"ribbed\", \"striated\", \"sulcated\", \"fluted\", \"canaliculated\", \"bisulcous\", \"bisulcate\", \"bisulcated\", \"canaliferous\", \"trisulcate\", \"corduroy\", \"unisulcate\", \"costate\", \"rimiform\", \"open\", \\\n",
        "\"perforated\", \"perforate\", \"ajar\", \"unclosed\", \"unstopped\", \"oscitant\", \"gaping\", \"yawning\", \"patent\", \"tubular\", \"cannular\", \"fistulous\", \"pervious\", \"permeable\", \"foraminous\", \"vesicular\", \"vasicular\", \"porous\", \\\n",
        "\"follicular\", \"cribriform\", \"honeycombed\", \"infundibular\", \"riddled\", \"tubulous\", \"tubulated\", \"piped\", \"tubate\", \"opening\", \"aperient\", \"closed\", \"shut\", \"operculated\", \"unopened\", \"unpierced\", \"imporous\", \"caecal\", \\\n",
        "\"closable\", \"imperforate\", \"impervious\", \"impermeable\", \"impenetrable\", \"impassable\", \"unpassable\", \"invious\", \"pathless\", \"wayless\", \"untrodden\", \"untrod\", \"unventilated\", \"air-tight\", \"water-tight\", \\\n",
        "\"hermetically-sealed\", \"tight\", \"snug\"]"
      ],
      "metadata": {
        "id": "wXIZ-BOP2S-4"
      },
      "execution_count": null,
      "outputs": []
    },
    {
      "cell_type": "code",
      "source": [
        "# motion in general\n",
        "motion_1 = [\"moving\", \"transitional\", \"motory\", \"motive\", \"shifting\", \"movable\", \"mobile\", \"mercurial\", \"unquiet\", \"restless\", \"changeable\", \"nomadic\", \"erratic\", \"quiescent\", \"still\", \"motionless\", \"moveless\", \"fixed\", \\\n",
        "\"stationary\", \"immotile\", \"stock\", \"still\", \"sedentary\", \"untraveled\", \"stay-at-home\", \"becalmed\", \"stagnant\", \"quiet\", \"unmoved\", \"undisturbed\", \"unruffled\", \"calm\", \"restful\", \"cataleptic\", \"immovable\", \"stable\", \\\n",
        "\"sleeping\", \"inactive\", \"silent\", \"vegetative\", \"vegetating\", \"traveling\", \"ambulatory\", \"itinerant\", \"peripatetic\", \"roving\", \"rambling\", \"gadding\", \"discursive\", \"vagrant\", \"migratory\", \"monadic\", \"circumforanean\", \\\n",
        "\"circumforaneous\", \"noctivagrant\", \"mundivagrant\", \"locomotive\", \"wayfaring\", \"wayworn\", \"travel-stained\", \"sailing\", \"volant\", \"aerostatic\", \"seafaring\", \"nautical\", \"maritime\", \"naval\", \"seagoing\", \"coasting\",\\\n",
        "\"afloat\", \"navigable\", \"aerial\", \"aeronautic\", \"grallatory\", \"transferred\", \"drifted\", \"movable\", \"portable\", \"portative\", \"mailable\", \"contagious\", \"equine\", \"asinine\"]"
      ],
      "metadata": {
        "id": "2aKSrRRE2lLA"
      },
      "execution_count": null,
      "outputs": []
    },
    {
      "cell_type": "code",
      "source": [
        "# degrees of motion\n",
        "motion_2 = [\"fast\", \"speedy\", \"swift\", \"rapid\", \"quick\", \"fleet\", \"aliped\", \"nimble\", \"agile\", \"expeditious\", \"express\", \"active\", \"flying\", \"galloping\", \"light-footed\", \"nimble-footed\", \"winged\", \"eagle-winged\", \\\n",
        "\"mercurial\", \"electric\", \"telegraphic\", \"light-legged\", \"slow\", \"slack\", \"tardy\", \"dilatory\", \"inactive\", \"gentle\", \"easy\", \"leisurely\", \"deliberate\", \"gradual\", \"insensible\", \"imperceptible\", \"glacial\", \\\n",
        "\"languid\", \"sluggish\", \"slow-paced\", \"tardigrade\", \"snail-like\", \"creeping\", \"reptatorial\"]"
      ],
      "metadata": {
        "id": "SEMCzMQV23Li"
      },
      "execution_count": null,
      "outputs": []
    },
    {
      "cell_type": "code",
      "source": [
        "# motion conjoined with force\n",
        "motion_3 = [\"impelling\", \"impulsive\", \"impellent\", \"booming\", \"dynamic\", \"dynamical\", \"impelled\", \\\n",
        "\"recoiling\", \"refluent\", \"repercussive\", \"recalcitrant\", \"reactionary\", \"retroactive\"]"
      ],
      "metadata": {
        "id": "wDJY7rkX27JK"
      },
      "execution_count": null,
      "outputs": []
    },
    {
      "cell_type": "code",
      "source": [
        "# motion with reference to direction\n",
        "motion_4 = [\"directed\", \"aligned\", \"direct\", \"straight\", \"undeviating\", \"unswerving\", \"straightforward\", \"North\", \"Northern\", \"Northerly\", \"deviating\", \"aberrant\", \"errant\", \"excursive\", \"discursive\", \"devious\", \\\n",
        "\"desultory\", \"loose\", \"rambling\", \"stray\", \"erratic\", \"vagrant\", \"undirected\", \"circuitous\", \"indirect\", \"zigzag\", \"crab-like\", \"leading\", \"precedent\", \"subsequent\", \"next\", \"succeeding\", \"following\", \"advancing\", \\\n",
        "\"progressive\", \"profluent\", \"advanced\", \"receding\", \"retrograde\", \"retrogressive\", \"regressive\", \"refluent\", \"reflex\", \"recidivous\", \"resilient\", \"crab-like\", \"balky\", \"reactionary\", \"propelled\", \"propelling\", \\\n",
        "\"propulsive\", \"projectile\", \"drawing\", \"tractile\", \"tractive\", \"approaching\", \"approximative\", \"affluent\", \"impending\", \"imminent\", \"destined\",  \"receding\", \"attracting\", \"attrahent\", \"attractive\", \"adducent\", \\\n",
        "\"adductive\", \"centrifugal\", \"repelling\", \"repellent\", \"repulsive\", \"abducent\", \"abductive\", \"centripetal\", \"converging\", \"convergent\", \"confluent\", \"concurrent\", \"centripetal\", \"asymptotical\", \"asymptotic\", \\\n",
        "\"confluxible\", \"diverging\", \"divergent\", \"radiant\", \"centrifugal\", \"aberrant\", \"arriving\", \"departing\", \"valedictory\", \"incoming\",  \"effused\", \"outgoing\", \"admitting\", \"admitted\", \"admissable\", \"absorbent\", \\\n",
        "\"emitting\", \"emitted\", \"eatable\", \"edible\", \"esculent\", \"comestible\", \"alimentary\", \"cereal\", \"cibarious\", \"dietetic\", \"culinary\", \"nutritive\", \"nutritious\", \"gastric\", \"succulent\", \"potable\", \"potulent\", \\\n",
        "\"bibulous\", \"omnivorous\", \"carnivorous\", \"herbivorous\", \"granivorous\", \"graminivorous\", \"phytivorous\", \"ichthyivorous\", \"omophagic\", \"omophagous\", \"pantophagous\", \"phytophagous\", \"xylophagous\", \"inserted\", \\\n",
        "\"extracted\", \"passing\", \"intercurrent\", \"endosmosmic\", \"endosmotic\", \"surpassing\", \"unreached\", \"deficient\", \"short\", \"minus\", \"perfunctory\", \"neglect\",  \"rising\", \"scandent\", \"buoyant\", \"supernatant\", \\\n",
        "\"superfluitant\", \"excelsior\", \"descending\", \"descendent\", \"decurrent\", \"decursive\", \"labent\", \"deciduous\", \"elevated\", \"stilted\", \"attollent\", \"rampant\", \"depressed\", \"prostrate\", \"horizontal\", \"detrusive\", \\\n",
        "\"leaping\", \"saltatory\", \"frisky\", \"turning\", \"circuitous\", \"circumforaneous\", \"circumfluent\", \"rotating\", \"rotary\", \"rotary\", \"circumrotatory\", \"trochilic\", \"vertiginous\", \"gyratory\", \"vortical\", \"vorticose\", \\\n",
        "\"evolving\", \"evolved\", \"oscillating\", \"oscillatory\", \"undulatory\", \"pulsatory\", \"libratory\", \"rectilinear\", \"vibratory\", \"vibratile\", \"pendulous\", \"shaking\", \"agitated\", \"tremulous\", \"desultory\", \"subsultory\", \\\n",
        "\"saltatoric\", \"quasative\", \"shambling\", \"giddy-paced\", \"saltatory\", \"convulsive\", \"unquiet\", \"restless\"]"
      ],
      "metadata": {
        "id": "85xv8V2a3DR6"
      },
      "execution_count": null,
      "outputs": []
    },
    {
      "cell_type": "code",
      "source": [
        "# matter in general\n",
        "mattergen_1 = [\"material\", \"bodily\", \"corporeal\", \"corporal\", \"physical\", \"somatic\", \"somatoscopic\", \"sensible\", \"tangible\", \"ponderable\", \"palpable\", \"substantial\", \"objective\", \"impersonal\", \"nonsubjective\", \"neuter\", \\\n",
        "\"unspiritual\", \"materialistic\", \"immaterial\", \"immateriate\", \"incorporeal\", \"incorporal\", \"incorporate\", \"unfleshly\", \"supersensible\", \"asomatous\", \"unextended\", \"unembodied\", \"disembodied\", \"extramundane\", \"unearthly\", \\\n",
        "\"pneumatoscopic\", \"spiritual\", \"psychical\", \"personal\", \"subjective\", \"nonobjective\", \"cosmic\", \"cosmical\", \"mundane\", \"terrestrial\", \"terrestrious\", \"terraqueous\", \"terrene\", \"terreous\", \"telluric\", \"earthly\", \\\n",
        "\"geotic\", \"sublunary\", \"subastral\", \"solar\", \"heliacal\", \"lunar\", \"celestial\", \"heavenly\", \"sphery\", \"starry\", \"stellar\", \"sidereal\", \"sideral\", \"astral\", \"nebular\", \"uranic\", \"weighty\", \"weighing\", \"ponderous\", \\\n",
        "\"ponderable\", \"lumpish\", \"lumpy\", \"cumbersome\", \"burdensome\", \"cumbrous\", \"unwieldy\", \"massive\", \"incumbent\", \"superincumbent\", \"light\", \"subtile\", \"airy\", \"imponderous\", \"imponderable\", \"astatic\", \"weightless\", \\\n",
        "\"ethereal\", \"sublimated\", \"gossamery\", \"suberose\", \"suberous\", \"uncompressed\", \"volatile\", \"buoyant\", \"floating\", \"portable\"]"
      ],
      "metadata": {
        "id": "UjaP4lde3Nia"
      },
      "execution_count": null,
      "outputs": []
    },
    {
      "cell_type": "code",
      "source": [
        "# solid matter\n",
        "inorganic_1 = [\"dense\", \"solid\", \"solidified\", \"caseous\", \"pukka\", \"coherent\", \"cohesive\", \"compact\", \"close\", \"serried\", \"thickset\", \"substantial\", \"massive\", \"lumpish\", \"impenetrable\", \"impermeable\", \"nonporous\", \"imporous\", \\\n",
        "        \"incompressible\", \"constipated\", \"concrete\", \"knotted\", \"knotty\", \"gnarled\", \"crystalline\", \"crystallizable\", \"thick\", \"grumous\", \"stuffy\", \"undissolved\", \"unmelted\", \"unliquefied\", \"unthawed\", \"indivisible\", \\\n",
        "        \"indiscerptible\", \"infrangible\", \"indissolvable\", \"indissoluble\", \"insoluble\", \"infusible\", \"rare\", \"subtile\", \"thin\", \"fine\", \"tenuous\", \"compressible\", \"flimsy\", \"slight\", \"light\", \"cavernous\", \"spongy\", \"hollow\", \\\n",
        "        \"rarefied\", \"unsubstantial\", \"uncompact\", \"incompressed\", \"rarefiable\", \"hard\", \"rigid\", \"stubborn\", \"stiff\", \"firm\", \"starch\", \"starched\", \"stark\", \"unbending\", \"unlimber\", \"unyielding\", \"inflexible\", \"tense\", \"indurate\", \\\n",
        "        \"indurated\", \"gritty\", \"proof\", \"adamant\", \"adamantine\", \"adamantean\", \"concrete\", \"stony\", \"granitic\", \"calculous\", \"lithic\", \"vitreous\", \"horny\", \"corneous\", \"bony\", \"osseous\", \"ossific\", \"cartilaginous\", \"soft\", \"tender\", \\\n",
        "        \"supple\", \"pliant\", \"pliable\", \"flexible\", \"flexile\", \"lithe\", \"lithesome\", \"lissom\", \"limber\", \"plastic\", \"ductile\", \"tractile\", \"tractable\", \"malleable\", \"extensile\", \"sequacious\", \"inelastic\", \"aluminous\", \"remollient\", \\\n",
        "        \"yielding\", \"flabby\", \"limp\", \"flimsy\", \"doughy\", \"spongy\", \"penetrable\", \"foamy\", \"cushiony\", \"flaccid\", \"flocculent\", \"downy\", \"edematous\", \"oedematous\", \"medullary\", \"argillaceous\", \"mellow\", \"elastic\", \"flexible\", \\\n",
        "        \"tensile\", \"spring\", \"resilient\", \"renitent\", \"buoyant\", \"ductile\", \"stretchable\", \"extendable\", \"unyielding\", \"inelastic\", \"inflexible\", \"soft\", \"irresilient\", \"tenacious\", \"tough\", \"strong\", \"resisting\", \"sequacious\", \\\n",
        "        \"stringy\", \"gristly\", \"cartilaginous\", \"leathery\", \"coriaceous\", \"tough\", \"obstinate\", \"unbreakable\", \"indivisible\", \"atomic\", \"brittle\", \"brash\", \"breakable\", \"weak\", \"frangible\", \"fragile\", \"frail\", \"gimcrack\", \"shivery\", \\\n",
        "        \"fissile\", \"splitting\", \"lacerable\", \"splintery\", \"crisp\", \"crimp\", \"short\", \"structural\", \"organic\", \"anatomic\", \"anatomical\", \"textural\", \"textile\", \"fine-grained\", \"coarse-grained\", \"fine\", \"delicate\", \"subtile\", \\\n",
        "        \"gossamery\", \"filmy\", \"silky\", \"satiny\", \"coarse\", \"homespun\", \"rough\", \"gritty\", \"smooth\", \"powdery\", \"pulverulent\", \"granular\", \"mealy\", \"floury\", \"farinaceous\", \"branny\", \"furfuraceous\", \"flocculent\", \"dusty\", \"sandy\", \\\n",
        "        \"sabulous\", \"psammous\", \"arenose\", \"arenarious\", \"arenaceous\", \"gritty\", \"efflorescent\", \"impalpable\", \"lentiginous\", \"lepidote\", \"sabuline\", \"sporaceous\", \"sporous\", \"pulverizable\", \"friable\", \"crumbly\", \"shivery\", \\\n",
        "        \"pulverized\", \"attrite\", \"anatriptic\", \"attrite\", \"lubricated\", \"lubricous\"]"
      ],
      "metadata": {
        "id": "0NaTKaontXOQ"
      },
      "execution_count": null,
      "outputs": []
    },
    {
      "cell_type": "code",
      "source": [
        "# fluid matter\n",
        "inorganic_2 = [\"liquid\", \"fluid\", \"serous\", \"juicy\", \"succulent\", \"sappy\", \"ichorous\", \"fluent\", \"flowing\", \"liquefied\", \"uncongealed\", \"soluble\", \"gaseous\", \"aeriform\", \"ethereal\", \"aerial\", \"airy\", \"vaporous\", \"volatile\", \\\n",
        "        \"evaporable\", \"flatulent\", \"liquefied\", \"liquescent\", \"liquefiable\", \"deliquescent\", \"soluble\", \"colliquative\", \"volatilized\", \"reeking\", \"volatile\", \"evaporable\", \"vaporizable\", \"bubbly\", \"effervescent\", \"boiling\", \"watery\", \\\n",
        "        \"aqueous\", \"aquatic\", \"hydrous\", \"lymphatic\", \"balneal\", \"diluent\", \"drenching\", \"diluted\", \"weak\", \"wet\", \"moist\", \"flatulent\", \"effervescent\", \"windy\", \"atmospheric\", \"airy\", \"aerial\", \"aeriform\", \"meteorological\", \\\n",
        "        \"weatherwise\", \"moist\", \"damp\", \"watery\", \"madid\", \"roric\", \"undried\", \"humid\", \"sultry\", \"wet\", \"dank\", \"luggy\", \"dewy\", \"roral\", \"rorid\", \"roscid\", \"juicy\", \"saturated\", \"swashy\", \"soggy\", \"dabbled\", \"reeking\", \"dripping\", \\\n",
        "        \"soaking\", \"soft\", \"sodden\", \"sloppy\", \"muddy\", \"swampy\", \"marshy\", \"irriguous\", \"dry\", \"anhydrous\", \"arid\", \"adust\", \"arescent\", \"dried\", \"undamped\", \"juiceless\", \"sapless\", \"sear\", \"husky\", \"rainless\", \"fine\", \"ehydrated\", \\\n",
        "        \"dessicated\", \"oceanic\", \"marine\", \"maritime\", \"pelagic\", \"pelagian\", \"seagoing\", \"hydrographic\", \"bathybic\", \"cotidal\", \"earthy\", \"continental\", \"midland\", \"coastal\", \"littoral\", \"riparian\", \"alluvial\", \"terrene\", \"world\", \\\n",
        "        \"landed\", \"predial\", \"territorial\", \"geophilous\", \"ripicolous\", \"lacustrine\", \"champaign\", \"alluvial\", \"campestral\", \"campestrial\", \"campestrian\", \"campestrine\", \"marsh\", \"marshy\", \"swampy\", \"boggy\", \"plashy\", \"poachy\", \"quaggy\", \\\n",
        "        \"soft\", \"muddy\", \"sloppy\", \"squashy\", \"paludal\", \"moorish\", \"moory\", \"fenny\", \"insular\", \"seagirt\", \"archipelagic\", \"fluent\", \"diffluent\", \"profluent\", \"affluent\", \"tidal\", \"flowing\", \"meandering\", \"meandry\", \"meandrous\", \\\n",
        "        \"fluvial\", \"fluviatile\", \"streamy\", \"showery\", \"rainy\", \"pluvial\", \"stillicidous\", \"stillatitious\", \"blowing\", \"windy\", \"flatulent\", \"breezy\", \"gusty\", \"squally\", \"stormy\", \"tempestuous\", \"blustering\", \"boisterous\", \"violent\", \\\n",
        "        \"pulmonic\", \"pulmonary\", \"vascular\"]"
      ],
      "metadata": {
        "id": "MOkpZEEftdwW"
      },
      "execution_count": null,
      "outputs": []
    },
    {
      "cell_type": "code",
      "source": [
        "# imperfect fluids\n",
        "inorganic_3 = [\"semifluid\", \"semiliquid\", \"tremellose\", \"milky\", \"muddy\", \"lacteal\", \"lactean\", \"lacteous\", \"lactescent\", \"lactiferous\", \"emulsive\", \"curdled\", \"thick\", \"succulent\", \"uliginous\", \"gelatinous\", \"albuminous\", \\\n",
        "    \"mucilaginous\", \"glutinous\", \"glutenous\", \"gelatin\", \"mastic\", \"amylaceous\", \"ropy\", \"clammy\", \"clotted\", \"viscid\", \"viscous\", \"sticky\", \"tacky\", \"gooey\", \"slab\", \"slabby\", \"lentous\", \"pituitous\", \"mucid\", \"muculent\", \"mucous\", \\\n",
        "    \"gummy\", \"bubbling\", \"frothy\", \"nappy\", \"effervescent\", \"sparkling\", \"mousseux\", \"frothy\", \"up\", \"cloudy\", \"thunderheaded\", \"vaporous\", \"nebulous\", \"overcast\", \"pulpy\", \"pultaceous\", \"grumous\", \"baccate\", \"unctuous\", \"oily\", \\\n",
        "    \"oleaginous\", \"adipose\", \"sebaceous\", \"unguinous\", \"fat\", \"fatty\", \"greasy\", \"waxy\", \"butyraceous\", \"soapy\", \"saponaceous\", \"pinguid\", \"lardaceous\", \"slippery\", \"resiny\", \"resinous\", \"bituminous\", \"pitchy\", \"tarry\", \"asphaltic\", \\\n",
        "    \"asphaltite\"]"
      ],
      "metadata": {
        "id": "bRVk7qqlG53I"
      },
      "execution_count": null,
      "outputs": []
    },
    {
      "cell_type": "code",
      "source": [
        "# vitality\n",
        "organic_1 = [\"organic\", \"organized\", \"karyoplasmic\", \"unsegmentic\", \"vacuolar\", \"zoogloeic\", \"zoogloeoid\", \"inorganic\", \"inanimate\", \"inorganized\", \"lithoidal\", \"azoic\", \"mineral\", \"living\", \"alive\", \"breathing\", \"quick\", \"animated\", \\\n",
        "        \"animative\", \"lively\", \"active\", \"yeasty\", \"vital\", \"vitalic\", \"vivifying\", \"vivified\", \"viable\", \"zoetic\", \"Promethean\", \"dead\", \"lifeless\", \"deceased\", \"demised\", \"departed\", \"defunct\", \"extinct\", \"late\", \"gone\", \"exanimate\", \\\n",
        "        \"inanimate\", \"moribund\", \"morient\", \"hippocratic\", \"booked\", \"stillborn\", \"mortuary\", \"deadly\", \"killing\", \"murderous\", \"slaughterous\", \"sanguinary\", \"sanguinolent\", \"blood-stained\", \"blood-thirsty\", \"homicidal\", \"red-handed\", \\\n",
        "        \"bloody\", \"bloody-minded\", \"ensanguined\", \"gory\", \"thuggish\", \"mortal\", \"fatal\", \"lethal\", \"dead\", \"deadly\", \"mortiferous\", \"lethiferous\", \"unhealthy\", \"internecine\", \"suicidal\", \"sporting\", \"piscatorial\", \"piscatory\", \\\n",
        "        \"cadaverous\", \"corpse-like\", \"unburied\", \"sapromyiophyllous\", \"burried\", \"burial\", \"funereal\", \"funebrial\", \"mortuary\", \"sepulchral\", \"cinerary\", \"elegiac\", \"necroscopic\", \"fleshly\", \"human\", \"corporeal\", \"rank\", \"lush\", \\\n",
        "        \"vegetable\", \"vegetal\", \"vegetive\", \"animal\", \"zoological\", \"equine\", \"bovine\", \"vaccine\", \"canine\", \"feline\", \"fishy\", \"piscatory\", \"piscatorial\", \"molluscous\", \"vermicular\", \"gallinaceous\", \"rasorial\", \"solidungulate\", \\\n",
        "        \"soliped\", \"vegetable\", \"vegetal\", \"vegetive\", \"vegitous\", \"herbaceous\", \"herbal\", \"botanic\", \"sylvan\", \"silvan\", \"arborary\", \"arboreous\", \"arborescent\", \"arborical\", \"woody\", \"grassy\", \"verdant\", \"verdurous\", \"floral\", \\\n",
        "        \"mossy\", \"lignous\", \"ligneous\", \"wooden\", \"leguminous\", \"vosky\", \"cespitose\", \"turf-like\", \"turfy\", \"endogenous\", \"exogenous\", \"zoological\", \"botanical\", \"botanic\", \"pastoral\", \"bucolic\", \"tame\", \"domestic\", \"agricultural\", \\\n",
        "        \"agrarian\", \"agrestic\", \"arable\", \"predial\", \"rural\", \"rustic\", \"country\", \"horticultural\", \"human\", \"mortal\", \"personal\", \"individual\", \"national\", \"civic\", \"public\", \"social\", \"cosmopolitan\", \"anthropoid\", \"male\", \"masculine\", \\\n",
        "        \"manly\", \"virile\", \"unwomanly\", \"unfeminine\", \"his\", \"female\", \"feminine\", \"womanly\", \"ladylike\", \"matronly\", \"maidenly\", \"wifely\", \"womanish\", \"effeminate\", \"unmanly\", \"gynecic\", \"gynaecic\", \"her\", \"exy\", \"erotic\", \"sexual\", \\\n",
        "        \"carnal\", \"sensual\", \"hot\", \"horny\", \"randy\", \"rutting\", \"passionate\", \"lusty\", \"hot-blooded\", \"libidinous\", \"up\", \"homosexual\", \"gay\", \"lesbian\", \"bisexual\"]"
      ],
      "metadata": {
        "id": "5Ecn0RqnthWP"
      },
      "execution_count": null,
      "outputs": []
    },
    {
      "cell_type": "code",
      "source": [
        "# sensation\n",
        "organic_2 = [\"sensible\", \"sensitive\", \"sensuous\", \"aesthetic\", \"perceptive\", \"sentient\", \"conscious\", \"aware\", \"acute\", \"sharp\", \"keen\", \"vivid\", \"lively\", \"impressive\", \"thin-skinned\", \"insensible\", \"unfeeling\", \"senseless\", \\\n",
        "        \"impercipient\", \"callous\", \"thick-skinned\", \"pachydermatous\", \"hard\", \"hardened\", \"case-hardened\", \"proof\", \"obtuse\", \"dull\", \"anaesthetic\", \"comatose\", \"paralytic\", \"palsied\", \"numb\", \"dead\", \"enjoying\", \"luxurious\", \"voluptuous\", \\\n",
        "        \"sensual\", \"comfortable\", \"cosy\", \"snug\", \"pleasant\", \"agreeable\", \"pained\", \"gouty\", \"podagric\", \"torminous\", \"painful\", \"aching\", \"sore\", \"raw\", \"tactual\", \"tactile\", \"tangible\", \"palpable\", \"lambent\", \"itching\", \"stereognostic\", \\\n",
        "        \"titillative\", \"numb\", \"benumbed\", \"deadened\", \"intangible\", \"impalpable\", \"hot\", \"warm\", \"mild\", \"genial\", \"tepid\", \"lukewarm\", \"unfrozen\", \"thermal\", \"thermic\", \"calorific\", \"fervent\", \"fervid\", \"ardent\", \"aglow\", \"sunny\", \"torrid\", \\\n",
        "        \"tropical\", \"estival\", \"canicular\", \"steamy\", \"close\", \"sultry\", \"stifling\", \"stuffy\", \"suffocating\", \"oppressive\", \"reeking\", \"baking\", \"fiery\", \"incandescent\", \"incalescent\", \"candent\", \"ebullient\", \"glowing\", \"smoking\", \"live\", \\\n",
        "        \"dazzling\", \"blazing\", \"alight\", \"afire\", \"ablaze\", \"unquenched\", \"unextinguished\", \"smoldering\", \"sudorific\", \"sweltering\", \"sweltered\", \"volcanic\", \"plutonic\", \"igneous\", \"isothermal\", \"isothermic\", \"isotheral\", \"cold\", \"cool\", \"chill\", \\\n",
        "        \"chilly\", \"icy\", \"gelid\", \"frigid\", \"algid\", \"fresh\", \"keen\", \"bleak\", \"raw\", \"inclement\", \"bitter\", \"biting\", \"niveous\", \"cutting\", \"nipping\", \"piercing\", \"pinching\", \"clay-cold\", \"starved\", \"shivering\", \"aguish\", \"frostbitten\", \\\n",
        "        \"frost-bound\", \"frost-nipped\", \"icy\", \"glacial\", \"frosty\", \"freezing\", \"pruinose\", \"wintry\", \"brumal\", \"hibernal\", \"boreal\", \"arctic\", \"Siberian\", \"hyemal\", \"hyperborean\", \"hyperboreal\", \"icebound\", \"unwarmed\", \"unthawed\", \"lukewarm\", \\\n",
        "        \"tepid\", \"isocheimal\", \"isocheimenal\", \"isocheimic\", \"frozen\", \"numb\", \"frost-bitten\", \"heated\", \"molten\", \"sodden\", \"heating\", \"adust\", \"inflammable\", \"combustible\", \"diathermal\", \"diathermanous\", \"burnt\", \"volcanic\", \"radioactive\", \\\n",
        "        \"cooled\", \"cooling\", \"frigorific\", \"carbonaceous\", \"combustible\", \"inflammable\", \"ncombustible\", \"nonflammable\", \"uninflammable\", \"unflammable\", \"fireproof\", \"sapid\", \"saporific\", \"gustable\", \"gustatory\", \"gustful\", \"strong\", \"gamy\", \\\n",
        "        \"palatable\", \"bland\", \"insipid\", \"tasteless\", \"gustless\", \"savorless\", \"ingustible\", \"mawkish\", \"weak\", \"stale\", \"flat\", \"vapid\", \"fade\", \"wishy-washy\", \"mild\", \"untasted\", \"pungent\", \"strong\", \"full-flavored\", \"high-tasted\", \\\n",
        "        \"high-seasoned\", \"gamy\", \"sharp\", \"stinging\", \"rough\", \"piquant\", \"racy\", \"biting\", \"mordant\", \"spicy\", \"seasoned\", \"hot\", \"peppery\", \"vellicating\", \"escharotic\", \"meracious\", \"acrid\", \"acrimonious\", \"bitter\", \"rough\", \"sour\", \\\n",
        "        \"unsavory\", \"salty\", \"salt\", \"saline\", \"brackish\", \"briny\", \"salty\", \"racy\", \"indecent\", \"bitter\", \"bitterish\", \"acrid\", \"acerb\", \"acerbic\", \"savory\", \"delicious\", \"tasty\", \"well-tasted\", \"good\", \"palatable\", \"nice\", \"dainty\", \\\n",
        "        \"delectable\", \"toothful\", \"toothsome\", \"gustful\", \"appetizing\", \"lickerish\", \"delicate\", \"exquisite\", \"rich\", \"luscious\", \"ambrosial\", \"scrumptious\", \"delightful\", \"unsavory\", \"unpalatable\", \"unsweetened\", \"unsweet\", \"ill-flavored\", \\\n",
        "        \"bitter\", \"acrid\", \"acrimonious\", \"rough\", \"offensive\", \"repulsive\", \"nasty\", \"sickening\", \"nauseous\", \"loathsome\", \"fulsome\", \"unpleasant\", \"sweet\", \"saccharine\", \"sacchariferous\", \"dulcet\", \"candied\", \"honied\", \"luscious\", \"lush\", \\\n",
        "        \"nectarious\", \"melliferous\", \"sweetened\", \"sour\", \"acid\", \"acidulous\", \"acidulated\", \"tart\", \"crabbed\", \"acetous\", \"acetose\", \"acerb\", \"acetic\", \"sourish\", \"acescent\", \"subacid\", \"styptic\", \"hard\", \"rough\", \"odorous\", \"odoriferous\", \\\n",
        "        \"smelling\", \"reeking\", \"foul-smelling\", \"strong-scented\", \"redolent\", \"graveolent\", \"nidorous\", \"pungent\", \"putrid\", \"foul\", \"olfactory\", \"quick-scented\", \"inodorous\", \"onodorate\", \"scentless\", \"deodorized\", \"deodorizing\", \"fragrant\", \\\n",
        "        \"aromatic\", \"redolent\", \"spicy\", \"savory\", \"balmy\", \"scented\", \"sweet-smelling\", \"sweet-scented\", \"perfumed\", \"perfumatory\", \"thuriferous\", \"muscadine\", \"ambrosial\", \"fetid\", \"strong-smelling\", \"high\", \"bad\", \"strong\", \"fulsome\", \\\n",
        "        \"offensive\", \"noisome\", \"rank\", \"rancid\", \"reasty\", \"tainted\", \"musty\", \"fusty\", \"frouzy\", \"olid\", \"olidous\", \"nidorous\", \"smelling\", \"stinking\", \"putrid\", \"suffocating\", \"mephitic\", \"empyreumatic\", \"acrid\", \"biting\", \"astringent\", \\\n",
        "        \"sharp\", \"harsh\", \"bitter\", \"sounding\", \"soniferous\", \"sonorous\", \"sonorific\", \"resonant\", \"audible\", \"distinct\", \"stertorous\", \"phonetic\", \"phonic\", \"phonocamptic\", \"silent\", \"still\", \"stilly\", \"noiseless\", \"soundless\", \"hushed\", \\\n",
        "        \"mute\", \"soft\", \"solemn\", \"awful\", \"deathlike\", \"inaudible\", \"faint\", \"loud\", \"sonorous\", \"high-sounding\", \"big-sounding\", \"deep\", \"full\", \"powerful\", \"noisy\", \"blatant\", \"clangorous\", \"multisonous\", \"thundering\", \"deafening\", \\\n",
        "        \"trumpet-tongued\", \"ear-splitting\", \"ear-rending\", \"ear-deafening\", \"piercing\", \"obstreperous\", \"rackety\", \"uproarious\", \"shrill\", \"clamorous\", \"vociferous\", \"stentorian\", \"stentorophonic\", \"inaudible\", \"low\", \"dull\", \\\n",
        "        \"stifled\", \"muffled\", \"hoarse\", \"husky\", \"gentle\", \"soft\", \"faint\", \"floating\", \"purling\", \"flowing\", \"whispered\", \"liquid\", \"soothing\", \"dulcet\", \"melodious\", \"susurrant\", \"susurrous\", \"rapping\", \"rolling\", \"monotonous\", \\\n",
        "        \"repeated\", \"resounding\", \"resonant\", \"reverberant\", \"tinnient\", \"tintinnabulary\", \"sonorous\", \"booming\", \"deep-toned\", \"deep-sounding\", \"deep-mouthed\", \"vibrant\", \"hollow\", \"sepulchral\", \"gruff\", \"harsh\", \"nonresonant\", \"dead\", \\\n",
        "        \"dampened\", \"muffled\", \"sibilant\", \"hissing\", \"wheezy\", \"sternutative\", \"creaking\", \"stridulous\", \"harsh\", \"coarse\", \"hoarse\", \"horrisonous\", \"rough\", \"gruff\", \"grum\", \"sepulchral\", \"hollow\" \"sharp\", \"high\", \"acute\", \"shrill\", \\\n",
        "        \"trumpet-toned\", \"piercing\", \"ear-piercing\", \"high-pitched\", \"high-toned\", \"cracked\", \"discordant\", \"cacophonous\", \"crying\", \"clamant\", \"clamorous\", \"vociferous\", \"stentorian\", \"loud\", \"open-mouthed\", \"crying\", \"blatant\",\\\n",
        "        \"latrant\", \"remugient\", \"mugient\", \"deep-mouthed\", \"full-mouthed\", \"rebellowing\", \"reboant\", \"harmonious\", \"harmonical\", \"unisonant\", \"concentual\", \"symphonizing\", \"isotonic\", \"homophonous\", \"assonant\", \"ariose\", \"consonant\", \\\n",
        "        \"measured\", \"rhythmical\", \"diatonic\", \"chromatic\", \"enharmonic\", \"melodious\", \"musical\", \"melic\", \"tuneful\", \"tunable\", \"sweet\", \"dulcet\", \"canorous\", \"mellow\", \"mellifluous\", \"soft\", \"clear\", \"silvery\", \"euphonious\", \"euphonic\", \\\n",
        "        \"euphonical\", \"symphonious\", \"enchanting\", \"pleasure-giving\", \"fine-toned\", \"full-toned\", \"silver-toned\", \"discordant\", \"dissonant\", \"absonant\", \"tuneless\", \"unmusical\", \"untunable\", \"unmelodious\", \"immelodious\", \"unharmonious\", \\\n",
        "        \"inharmonious\", \"singsong\", \"cacophonous\", \"harsh\", \"jarring\", \"musical\", \"instrumental\", \"vocal\", \"choral\", \"lyric\", \"operatic\", \"harmonious\", \"Wagnerian\", \"playing\", \"musical\", \"hearing\", \"auditory\", \"auricular\", \"acoustic\", \\\n",
        "        \"phonic\", \"deaf\", \"earless\", \"surd\", \"deaf-mute\", \"stunned\", \"deafened\", \"inaudible\", \"shining\", \"luminous\", \"luminiferous\", \"lucid\", \"lucent\", \"luculent\", \"lucific\", \"luciferous\", \"light\", \"lightsome\", \"bright\", \"vivid\", \"splendent\", \\\n",
        "        \"nitid\", \"lustrous\", \"shiny\", \"beamy\", \"scintillant\", \"radiant\", \"lambent\", \"sheen\", \"sheeny\", \"glossy\", \"burnished\", \"glassy\", \"sunny\", \"orient\", \"meridian\", \"noonday\", \"tide\", \"cloudless\", \"clear\", \"unclouded\", \"unobscured\", \"gairish\", \\\n",
        "        \"garish\", \"resplendent\", \"transplendent\", \"refulgent\", \"effulgent\", \"fulgid\", \"fulgent\", \"relucent\", \"splendid\", \"blazing\", \"ablaze\", \"rutilant\", \"meteoric\", \"phosphorescent\", \"aglow\", \"actinic\", \"photogenic\", \"graphic\", \"heliographic\", \\\n",
        "        \"heliophagous\", \"dark\", \"darksome\", \"darkling\", \"obscure\", \"tenebrious\", \"sombrous\", \"pitchy\", \"caliginous\", \"black\", \"color\", \"sunless\", \"lightless\", \"sunlight\", \"somber\", \"dusky\", \"unilluminated\", \"illuminate\", \"nocturnal\", \"dingy\", \\\n",
        "        \"lurid\", \"gloomy\", \"murky\", \"murksome\", \"shady\", \"umbrageous\", \"overcast\", \"dim\", \"cloudy\", \"opaque\", \"darkened\", \"dark\", \"pitch\", \"pit\", \"benighted\", \"noctivagant\", \"noctivagous\", \"dull\", \"lackluster\", \"dingy\", \"darkish\", \"dark\", \"faint\", \\\n",
        "        \"shadowed\", \"glassy\", \"cloudy\", \"misty\", \"opaque\", \"blear\", \"muggy\", \"fuliginous\", \"nebulous\", \"nebular\", \"obnubilated\", \"overcast\", \"crepuscular\", \"muddy\", \"lurid\", \"leaden\", \"dun\", \"dirty\", \"looming\", \"pale\", \"colorless\", \"confused\", \\\n",
        "        \"invisible\", \"self-luminous\", \"glowing\", \"phosphoric\", \"phosphorescent\", \"fluorescent\", \"incandescent\", \"luminescent\", \"chemiluminescent\", \"radiant\", \"light\", \"shady\", \"umbrageous\", \"transparent\", \"pellucid\", \"lucid\", \"diaphanous\", \\\n",
        "        \"translucent\", \"tralucent\", \"relucent\", \"limpid\", \"clear\", \"serene\", \"crystalline\", \"clear\", \"crystal\", \"vitreous\", \"transpicuous\", \"glassy\", \"hyaline\", \"hyaloid\", \"vitreform\", \"opaque\", \"impervious\", \"adiaphanous\", \"turbid\", \"thick\", \\\n",
        "        \"muddy\", \"opacous\", \"obfuscated\", \"fuliginous\", \"cloud\", \"hazy\", \"misty\", \"foggy\", \"vaporous\", \"nubiferous\", \"muggy\", \"turbidity\", \"smoky\", \"fumid\", \"murky\", \"dirty\", \"turbid\", \"thick\", \"muddy\", \"obfuscated\", \"fuliginous\", \"hazy\", \"misty\", \\\n",
        "        \"foggy\", \"vaporous\", \"nubiferous\", \"cloudy\", \"smoky\", \"fumid\", \"murky\", \"dirty\", \"semitransparent\", \"translucent\", \"semipellucid\", \"semidiaphanous\", \"semiopacous\", \"semiopaque\", \"opalescent\", \"opaline\", \"pearly\", \"milky\", \"frosted\", \"nacreous\", \\\n",
        "        \"colored\", \"colorific\", \"tingent\", \"tinctorial\", \"chromatic\", \"prismatic\", \"full-colored\", \"high-colored\", \"deep-colored\", \"doubly-dyed\", \"polychromatic\", \"chromatogenous\", \"tingible\", \"bright\", \"vivid\", \"intense\", \"deep\", \"fresh\", \"unfaded\", \\\n",
        "        \"rich\", \"gorgeous\", \"gay\", \"gaudy\", \"florid\", \"gay\", \"garish\", \"rainbow-colored\", \"multihued\", \"showy\", \"flaunting\", \"flashy\", \"raw\", \"crude\", \"glaring\", \"flaring\", \"discordant\", \"inharmonious\", \"mellow\", \"pastel\", \"harmonious\", \"pearly\", \"sweet\", \\\n",
        "        \"delicate\", \"tender\", \"refined\", \"uncolored\", \"color\", \"colorless\", \"achromatic\", \"aplanatic\", \"etiolate\", \"etiolated\", \"hueless\", \"pale\", \"pallid\", \"palefaced\", \"tallow-faced\", \"faint\", \"dull\", \"cold\", \"muddy\", \"leaden\", \"dun\", \"wan\", \"sallow\", \\\n",
        "        \"dead\", \"dingy\", \"ashy\", \"ashen\", \"ghastly\", \"cadaverous\", \"glassy\", \"lackluster\", \"discolored\", \"light-colored\", \"fair\", \"blond\", \"white\", \"milk-white\", \"snow-white\", \"snowy\", \"niveous\", \"candid\", \"chalky\", \"hoar\", \"hoary\", \"silvery\", \\\n",
        "        \"argent\", \"argentine\", \"canescent\", \"cretaceous\", \"lactescent\", \"whitish\", \"creamy\", \"pearly\", \"fair\", \"blond\", \"blanched\", \"black\", \"sable\", \"swarthy\", \"somber\", \"dark\", \"inky\", \"ebony\", \"ebon\", \"atramentous\", \"jetty\", \"coal-black\", \"jet-black\", \\\n",
        "        \"fuliginous\", \"pitchy\", \"sooty\", \"swart\", \"dusky\", \"dingy\", \"murky\", \"Ethiopic\", \"low-toned\", \"nocturnal\", \"dark\", \"nigrescent\", \"gray\", \"obscure\", \"grey\", \"iron-gray\", \"dun\", \"drab\", \"dingy\", \"leaden\", \"livid\", \"somber\", \"sad\", \"pearly\", \"russet\", \\\n",
        "        \"roan\", \"calcareous\", \"limy\", \"favillous\", \"silver\", \"silvery\", \"silvered\", \"ashen\", \"ashy\", \"cinereous\", \"cineritious\", \"grizzly\", \"grizzled\", \"slate-colored\", \"stone-colored\", \"mouse-colored\", \"ash-colored\", \"cool\", \"brown\", \"bay\", \"dapple\", \\\n",
        "        \"auburn\", \"castaneous\", \"chestnut\", \"nut-brown\", \"cinnamon\", \"russet\", \"tawny\", \"fuscous\", \"chocolate\", \"maroon\", \"foxy\", \"tan\", \"brunette\", \"whitey\", \"brown\", \"fawn-colored\", \"snuff-colored\", \"liver-colored\", \"brown\", \"berry\", \"mahogany\", \\\n",
        "        \"oak\", \"khaki\", \"sun-burnt\", \"tanned\", \"red\", \"reddish\", \"rufous\", \"ruddy\", \"florid\", \"incarnadine\", \"sanguine\", \"rosy\", \"roseate\", \"blowzy\", \"blowed\", \"burnt\", \"rubicund\", \"rubiform\", \"lurid\", \"stammell\", \"blood\", \"red\", \"russet\", \"buff\", \\\n",
        "        \"murrey\", \"carroty\", \"sorrel\", \"lateritious\", \"rubineous\", \"rubricate\", \"rubricose\", \"rufulous\", \"rose-colored\", \"ruby-colored\", \"cherry-colored\", \"claret-colored\", \"flame-colored\", \"flesh-colored\", \"peach-colored\", \"salmon-colored\", \\\n",
        "        \"brick-colored\", \"brick-colored\", \"dust-colored\", \"blushing\", \"erubescent\", \"reddened\", \"red\", \"fire\", \"scarlet\", \"warm\", \"hot\", \"foxy\", \"green\", \"verdant\", \"glaucous\", \"olive\", \"verdurous\", \"emerald\", \"greenish\", \"virent\", \\\n",
        "        \"unskillful\", \"new\", \"inexperienced\", \"novice\", \"green\", \"ill\", \"sick\", \"yellow\", \"aureate\", \"golden\", \"flavous\", \"citrine\", \"fallow\", \"fulvous\", \"fulvid\", \"sallow\", \"luteous\", \"tawny\", \"creamy\", \"sandy\", \"xanthic\", \"xanthous\", \\\n",
        "        \"jaundiced\", \"auricomous\", \"gold-colored\", \"citron-colored\", \"saffron-colored\", \"lemon-colored\", \"lemon\", \"yellow\", \"sulphur-colored\", \"amber-colored\", \"straw-colored\", \"primrose-colored\", \"creamcolored\", \"xanthocarpous\", \\\n",
        "        \"xanthochroid\", \"xanthopous\", \"warm\", \"advancing\", \"purple\", \"violet\", \"ultraviolet\", \"plum-colored\", \"lavender\", \"lilac\", \"puce\", \"mauve\", \"livid\", \"blue\", \"azure\", \"cerulean\", \"sky-blue\", \"sky-colored\", \"sky-dyed\", \\\n",
        "        \"cerulescent\",  \"bluish\", \"atmospheric\", \"retiring\", \"cold\", \"orange\", \"ochreous\", \"orange-colored\", \"gold-colored\", \"flame-colored\", \"copper-colored\", \"brass-colored\", \"apricot-colored\", \"warm\", \"hot\", \"glowing\", \"variegated\", \\\n",
        "        \"many-colored\", \"many-hued\", \"divers-colored\", \"party-colored\", \"dichromatic\", \"polychromatic\", \"bicolor\", \"tricolor\", \"versicolor\", \"kaleidoscopic\", \"iridescent\", \"opaline\", \"opalescent\", \"prismatic\", \"nacreous\", \"pearly\", \\\n",
        "        \"shot\", \"chatoyant\", \"irisated\", \"pavonine\", \"pied\", \"piebald\", \"motley\", \"mottled\", \"marbled\", \"paned\", \"dappled\", \"clouded\", \"cymophanous\", \"mosaic\", \"tesselated\", \"plaid\", \"spotted\", \"spotty\", \"punctated\", \"powdered\", \\\n",
        "        \"speckled\", \"freckled\", \"flea-bitten\", \"studded\", \"flecked\", \"fleckered\", \"striated\", \"barred\", \"veined\", \"brinded\", \"brindled\", \"tabby\", \"watered\", \"grizzled\", \"listed\", \"embroidered\", \"daedal\", \"naevose\", \"stipiform\", \\\n",
        "        \"strigose\", \"striolate\", \"seeing\", \"visual\", \"ocular\", \"optic\", \"optical\", \"ophthalmic\", \"clear-eyesighted\", \"eagle-eyed\", \"hawk-eyed\", \"lynx-eyed\", \"keen-eyed\", \"Argus-eyed\", \"visible\", \"blind\", \"eyeless\", \"sightless\", \\\n",
        "        \"visionless\", \"dark\", \"stone-blind\", \"sand-blind\", \"stark-blind\", \"undiscerning\", \"dimsighted\", \"wall-eyed\", \"blinded\", \"dim-sighted\", \"myopic\", \"presbyopic\", \"astigmatic\", \"moon-eyed\", \"mope-eyed\", \"blear-eyed\", \"goggle-eyed\", \\\n",
        "        \"gooseberry-eyed\", \"one-eyed\", \"monoculous\", \"half-blind\", \"purblind\", \"cock-eyed\", \"dim-eyed\", \"mole-eyed\", \"dichroic\", \"blind\", \"winking\", \"visible\", \"perceptible\", \"perceivable\", \"discernible\", \"apparent\", \"unclouded\", \\\n",
        "        \"unobscured\", \"obvious\", \"manifest\", \"plain\", \"clear\", \"distinct\", \"definite\", \"well-defined\", \"well-marked\", \"recognizable\", \"palpable\", \"autoptical\", \"glaring\", \"staring\", \"conspicuous\", \"stereoscopic\", \"periscopic\", \\\n",
        "        \"panoramic\", \"invisible\", \"imperceptible\", \"undiscernible\", \"indiscernible\", \"unapparent\", \"non-apparent\", \"viewless\", \"sightless\", \"inconspicuous\", \"unconspicuous\", \"unseen\", \"see\", \"covert\", \"latent\", \"eclipsed\", \\\n",
        "        \"dim\", \"faint\", \"mysterious\", \"dark\", \"obscure\", \"confused\", \"indistinct\", \"indistinguishable\", \"shadowy\", \"indefinite\", \"undefined\", \"ill-defined\", \"ill-marked\", \"blurred\", \"fuzzy\", \"misty\", \"opaque\", \"delitescent\", \\\n",
        "        \"hidden\", \"obscured\", \"covered\", \"veiled\", \"concealed\", \"apparent\", \"seeming\", \"ostensible\", \"disappearing\", \"evanescent\", \"missing\", \"lost\", \"gone\"]"
      ],
      "metadata": {
        "id": "g8weR_hJtoYt"
      },
      "execution_count": null,
      "outputs": []
    },
    {
      "cell_type": "code",
      "source": [
        "# operations of intellect in general\n",
        "formation_1 = [\"thoughtless\", \"vegetative\", \"moronic\", \"idiotic\", \"brainless\", \"thinking\", \"thoughtful\", \"pensive\", \"meditative\", \"reflective\", \"museful\", \"wistful\", \"contemplative\", \"speculative\", \"deliberative\", \"studious\", \\\n",
        "        \"sedate\", \"introspective\", \"Platonic\", \"philosophical\", \"lost\", \"inattentive\", \"vacant\", \"unintellectual\", \"unideal\", \"unoccupied\", \"unthinking\", \"inconsiderate\", \"thoughtless\", \"mindless\", \"no-brain\", \"vacuous\", \"absent\", \\\n",
        "        \"inattentive\", \"diverted\", \"irrational\", \"narrow-minded\", \"unconsidered\", \"incogitable\"]"
      ],
      "metadata": {
        "id": "WOoUuuX2ttu6"
      },
      "execution_count": null,
      "outputs": []
    },
    {
      "cell_type": "code",
      "source": [
        "# precursory conditions and operations\n",
        "formation_2 = [\"curious\", \"inquisitive\", \"overcurious\", \"inquiring\", \"prying\", \"snoopy\", \"nosy\", \"peering\", \"prurient\", \"inquisitorial\", \"inquisitory\", \"agape\", \"expectant\", \"incurious\", \"uninquisitive\", \"indifferent\", \\\n",
        "        \"impassive\", \"uninterested\", \"detached\", \"aloof\", \"attentive\", \"mindful\", \"observant\", \"regardful\", \"observing\", \"alert\", \"open-eyed\", \"absorbed\", \"rapt\", \"transfixed\", \"riveted\", \"mesmerized\", \"hypnotized\", \"breathless\", \\\n",
        "        \"preoccupied\", \"inattentive\", \"watchful\", \"careful\", \"breathless\", \"undistracted\", \"expectant\", \"steadfast\", \"interesting\", \"engrossing\", \"mesmerizing\", \"riveting\", \"inattentive\", \"unobservant\", \"unmindful\", \"heedless\", \\\n",
        "        \"unthinking\", \"unheeding\", \"undiscerning\", \"inadvertent\", \"mindless\", \"regardless\", \"respectless\", \"listless\", \"indifferent\", \"blind\", \"deaf\", \"bird-witted\", \"cursory\", \"percursory\", \"giddy-brained\", \"scatter-brained\", \\\n",
        "        \"hare-brained\", \"unreflective\", \"unreflecting\", \"ecervele\", \"offhand\", \"dizzy\", \"muzzy\", \"brainsick\", \"giddy\", \"wild\", \"harum-scarum\", \"rantipole\", \"highflying\", \"heedless\", \"careless\", \"neglectful\", \"inconsiderate\", \\\n",
        "        \"thoughtless\", \"absent\", \"abstracted\", \"distrait\", \"absentminded\", \"lost\", \"rapt\", \"bemused\", \"preoccupied\", \"engrossed\", \"attentive\", \"daydreaming\", \"inexpectant\", \"napping\", \"dreamy\", \"disconcerted\", \"distracted\", \\\n",
        "        \"careful\", \"regardful\", \"heedful\", \"particular\", \"prudent\", \"cautious\", \"considerate\", \"thoughtful\", \"deliberative\", \"provident\", \"prepared\", \"alert\", \"active\", \"sure-footed\", \"guarded\", \"awake\", \"broad\", \"awake\", \\\n",
        "        \"vigilant\", \"watchful\", \"wakeful\", \"wistful\", \"Argus-eyed\", \"wide-awake\", \"intelligent\", \"expectant\", \"tidy\", \"orderly\", \"clean\", \"accurate\", \"exact\", \"scrupulous\", \"conscientious\", \"safe\", \"neglecting\", \"unmindful\", \\\n",
        "        \"negligent\", \"neglectful\", \"heedless\", \"careless\", \"thoughtless\", \"perfunctory\", \"remiss\", \"feebleness\", \"inconsiderate\", \"uncircumspect\", \"incircumspect\", \"unwary\", \"unwatchful\", \"unguarded\", \"offhand\", \"supine\", \\\n",
        "        \"inactive\", \"inattentive\", \"insouciant\", \"indifferent\", \"imprudent\", \"reckless\", \"slovenly\", \"disorderly\", \"dirty\", \"inexact\", \"erroneous\", \"improvident\", \"neglected\", \"unheeded\", \"uncared-for\", \"unperceived\", \\\n",
        "        \"unseen\", \"unobserved\", \"unnoticed\", \"unnoted\", \"unmarked\", \"unattended\", \"unthought\", \"unregarded\", \"unremarked\", \"unmissed\", \"shunted\", \"shelved\", \"unexamined\", \"unstudied\", \"unsearched\", \"unscanned\", \"unweighed\", \\\n",
        "        \"unsifted\", \"unexplored\", \"abandoned\", \"inquiry\", \"inquisitive\", \"curious\", \"requisitive\", \"requisitory\", \"catechetical\", \"inquisitorial\", \"analytic\", \"interrogative\", \"zetetic\", \"undetermined\", \"untried\", \"undecided\", \\\n",
        "        \"moot\", \"proposed\", \"doubtful\", \"uncertain\", \"answering\", \"responsive\", \"respondent\", \"conclusive\", \"experimental\", \"empirical\", \"probative\", \"probatory\", \"probationary\", \"provisional\", \"analytic\", \"docimastic\", \\\n",
        "        \"tentative\", \"unverified\", \"unproven\", \"speculative\", \"untested\", \"comparative\", \"metaphorical\", \"comparable\", \"incommensurable\", \"incommensurate\", \"incomparable\", \"different\", \"discriminating\", \"dioristic\", \"discriminative\", \\\n",
        "        \"distinctive\", \"nice\", \"indiscriminate\", \"undistinguished\", \"indistinguishable\", \"undistinguishable\", \"unmeasured\", \"promiscuous\", \"undiscriminating\", \"measuring\", \"metric\", \"metrical\", \"measurable\", \"perceptible\", \\\n",
        "        \"noticeable\", \"detectable\", \"appreciable\", \"ponderable\", \"determinable\", \"fathomable\", \"geodetical\", \"topographic\", \"topographical\", \"cartographic\", \"cartographical\"]"
      ],
      "metadata": {
        "id": "Bb2a2zMCtyYX"
      },
      "execution_count": null,
      "outputs": []
    },
    {
      "cell_type": "code",
      "source": [],
      "metadata": {
        "id": "0TtEuzYMzkx0"
      },
      "execution_count": null,
      "outputs": []
    },
    {
      "cell_type": "code",
      "source": [
        "# materials for reasoning\n",
        "formation_3 = [\"showing\", \"indicative\", \"indicatory\", \"deducible\", \"grounded\", \"founded\", \"based\", \"corroborative\", \"confirmatory\", \"countervailing\", \"contradictory\", \"unattested\", \"unauthenticated\", \"unsupported\", \"supposititious\", \\\n",
        "        \"qualifying\", \"qualified\", \"conditioned\", \"restricted\", \"hedged\", \"conditional\", \"exceptional\", \"unconformable\", \"hypothetical\", \"supposed\", \"contingent\", \"uncertain\", \"possible\", \"conceivable\", \"credible\", \"compatible\", \"likely\", \\\n",
        "        \"practicable\", \"feasible\", \"performable\", \"achievable\", \"accessible\", \"superable\", \"surmountable\", \"attainable\", \"obtainable\", \"doubtful\", \"effect\", \"possible\", \"improbable\", \"impossible\", \"absurd\", \"unlikely\", \"unreasonable\", \\\n",
        "        \"incredible\", \"visionary\", \"inconceivable\", \"prodigious\", \"wonderful\", \"unimaginable\", \"inimaginable\", \"unthinkable\", \"impracticable\", \"unachievable\", \"unfeasible\", \"infeasible\", \"insuperable\", \"unsurmountable\", \"insurmountable\", \\\n",
        "        \"unattainable\", \"unobtainable\", \"desperate\", \"hopeless\", \"incompatible\", \"inaccessible\", \"uncomeatable\", \"impassable\", \"impervious\", \"innavigable\", \"inextricable\", \"self-contradictory\", \"probable\", \"likely\", \"hopeful\", \\\n",
        "        \"plausible\", \"specious\", \"ostensible\", \"colorable\", \"well-founded\", \"reasonable\", \"credible\", \"presumable\", \"presumptive\", \"apparent\", \"improbable\", \"unlikely\", \"wild\", \"outtasight\", \"heavy\", \"rare\", \"infrequent\", \\\n",
        "        \"inconceivable\", \"unimaginable\", \"inimaginable\", \"incredible\", \"strange\", \"bizarre\", \"uncomformable\", \"certain\", \"sure\", \"assured\", \"solid\", \"well-founded\", \"unqualified\", \"absolute\", \"positive\", \"determinate\", \\\n",
        "        \"definite\", \"clear\", \"unequivocal\", \"categorical\", \"unmistakable\", \"decisive\", \"decided\", \"ascertained\", \"inevitable\", \"unavoidable\", \"avoidless\", \"ineluctable\", \"unerring\", \"infallible\", \"unchangeable\", \"trustworthy\", \\\n",
        "        \"reliable\", \"bound\", \"unimpeachable\", \"undeniable\", \"unquestionable\", \"indisputable\", \"incontestable\", \"incontrovertible\", \"indubitable\", \"irrefutable\", \"proven\", \"conclusive\", \"indubious\", \"undoubted\", \"uncontested\", \\\n",
        "        \"unquestioned\", \"undisputed\", \"questionless\", \"doubtless\", \"authoritative\", \"authentic\", \"official\", \"evident\", \"self-evident\", \"axiomatic\", \"uncertain\", \"casual\", \"random\", \"aimless\", \"changeable\", \"doubtful\", \\\n",
        "        \"dubious\", \"indecisive\", \"unsettled\", \"undecided\", \"undetermined\", \"controvertible\", \"inquiry\", \"vague\", \"indeterminate\", \"indefinite\", \"ambiguous\", \"equivocal\", \"undefined\", \"undefinable\", \"confused\", \"indistinct\", \\\n",
        "        \"mystic\", \"oracular\", \"dazed\", \"perplexing\", \"enigmatic\", \"paradoxical\", \"apocryphal\", \"problematical\", \"hypothetical\", \"experimental\", \"unpredictable\", \"unforeseeable\", \"unknowable\", \"fallible\", \"questionable\", \\\n",
        "        \"precarious\", \"slippery\", \"ticklish\", \"debatable\", \"disputable\", \"unreliable\", \"untrustworthy\", \"contingent\", \"dependent\", \"occasional\", \"provisional\", \"unauthentic\", \"unauthenticated\", \"unauthoritative\", \"unascertained\", \\\n",
        "        \"unconfirmed\", \"undemonstrated\", \"untold\", \"uncounted\", \"ignorant\", \"astray\", \"adrift\", \"puzzled\", \"lost\", \"abroad\", \"disoriented\", \"distracted\", \"distraught\"]"
      ],
      "metadata": {
        "id": "h9h-wE7Ft2b9"
      },
      "execution_count": null,
      "outputs": []
    },
    {
      "cell_type": "code",
      "source": [
        "# reasoning processes\n",
        "formation_4 = [\"reasoning\", \"rationalistic\", \"argumentative\", \"controversial\", \"dialectic\", \"polemical\", \"discursory\", \"discursive\", \"disputatious\", \"Aristotelian\", \"eristic\", \"eristical\", \"debatable\", \"controvertible\", \\\n",
        "        \"logical\", \"relevant\", \"intuitive\", \"instinctive\", \"impulsive\", \"gratuitous\", \"hazarded\", \"unconnected\", \"unreasonable\", \"illogical\", \"false\", \"unsound\", \"invalid\", \"unwarranted\", \"inconsequent\", \"inconsequential\", \\\n",
        "        \"inconsistent\", \"absonous\", \"absonant\", \"unscientific\", \"untenable\", \"inconclusive\", \"incorrect\", \"fallacious\", \"fallible\", \"groundless\", \"unproved\", \"deceptive\", \"sophistical\", \"jesuitical\", \"illusive\", \"illusory\", \\\n",
        "        \"specious\", \"hollow\", \"plausible\", \"evasive\", \"irrelevant\", \"weak\", \"feeble\", \"poor\", \"flimsy\", \"loose\", \"vague\", \"irrational\", \"nonsensical\", \"absurd\", \"foolish\", \"imbecile\", \"frivolous\", \"pettifogging\", \"quibbling\", \\\n",
        "        \"finespun\", \"overrefined\", \"demonstrating\", \"demonstrative\", \"demonstrable\", \"probative\", \"unanswerable\", \"conclusive\", \"apodictic\", \"apodeictic\", \"apodeictical\", \"irresistible\", \"irrefutable\", \"irrefragable\", \\\n",
        "        \"necessary\", \"categorical\", \"decisive\", \"crucial\", \"demonstrated\", \"proven\", \"unconfuted\", \"unanswered\", \"unrefuted\", \"evident\", \"deducible\", \"consequential\", \"consectary\", \"inferential\", \"following\", \"convincing\", \\\n",
        "        \"cogent\", \"persuasive\", \"believable\", \"confuting\", \"confuted\", \"refutable\", \"confutable\", \"defeasible\", \"contravene\"]"
      ],
      "metadata": {
        "id": "h6ORJeDrt7u3"
      },
      "execution_count": null,
      "outputs": []
    },
    {
      "cell_type": "code",
      "source": [
        "formation_5 = [\"judging\", \"judicious\", \"wise\", \"determinate\", \"conclusive\", \"misjudging\", \"ill-judging\", \"wrong-headed\", \"prejudiced\", \"jaundiced\", \"shortsighted\", \"purblind\", \"partial\", \"one-sided\", \"superficial\", \\\n",
        "        \"narrow-minded\", \"narrow-souled\", \"mean-spirited\", \"confined\", \"illiberal\", \"intolerant\", \"besotted\", \"infatuated\", \"fanatical\", \"entete\", \"positive\", \"dogmatic\", \"conceited\", \"opinative\", \"opiniative\", \"opinioned\", \\\n",
        "        \"opinionate\", \"opinionative\", \"opinionated\", \"self-opinioned\", \"bigoted\", \"obstinate\", \"crotchety\", \"fussy\", \"impracticable\", \"unreasonable\", \"stupid\", \"credulous\", \"warped\", \"misjudged\", \"overestimated\", \"oversensitive\", \\\n",
        "        \"sensibility\", \"depreciating\", \"depreciated\", \"unvalued\", \"unprized\", \"believing\", \"certain\", \"sure\", \"assured\", \"positive\", \"cocksure\", \"satisfied\", \"confident\", \"unhesitating\", \"convinced\", \"secure\", \"confiding\", \\\n",
        "        \"suspectless\", \"unsuspecting\", \"unsuspicious\", \"credulous\", \"believed\", \"accredited\", \"putative\", \"unsuspected\", \"credible\", \"reliable\", \"trustworthy\", \"satisfactory\", \"probably\", \"fiducial\", \"fiduciary\", \"persuasive\", \\\n",
        "        \"impressive\", \"doctrinal\", \"unbelieving\", \"skeptical\", \"sceptical\", \"incredulous\", \"distrustful\", \"shy\", \"suspicious\", \"doubting\", \"doubtful\", \"uncertain\", \"disputable\", \"questionable\", \"suspect\", \"suspicious\", \\\n",
        "        \"staggering\", \"incredible\", \"unbelievable\", \"inconceivable\", \"impossible\", \"fallible\", \"uncertain\", \"undemonstrable\", \"controvertible\", \"untrue\", \"credulous\", \"gullible\", \"simple\", \"green\", \"soft\", \"childish\", \\\n",
        "        \"silly\", \"stupid\", \"over-credulous\", \"overconfident\", \"overtrustful\", \"infatuated\", \"superstitious\", \"confiding\", \"believing\", \"incredulous\", \"skeptical\", \"unbelieving\", \"inconvincible\", \"suspicious\", \"scrupulous\", \\\n",
        "        \"distrustful\", \"cynical\", \"assenting\", \"agreed\", \"acquiescent\", \"content\", \"willing\", \"uncontradicted\", \"unchallenged\", \"unquestioned\", \"uncontroverted\", \"carried\", \"agreed\", \"nem\", \"con\", \"unanimous\", \"affirmative\", \\\n",
        "        \"doubtless\", \"natch\", \"dissenting\", \"negative\", \"dissident\", \"dissentient\", \"unconsenting\", \"refusing\", \"non-content\", \"nonjuring\", \"protestant\", \"recusant\", \"unconvinced\", \"unconverted\", \"unavowed\", \"unacknowledged\", \\\n",
        "        \"discontented\", \"unwilling\", \"extorted\", \"sectarian\", \"denominational\", \"schismatic\", \"heterodox\", \"intolerant\", \"knowing\", \"cognitive\", \"acroamatic\", \"undeceived\", \"erudite\", \"instructed\", \"leaned\", \"lettered\", \\\n",
        "        \"educated\", \"well-conned\", \"well-informed\", \"well-read\", \"well-grounded\", \"well-educated\", \"enlightened\", \"shrewd\", \"savant\", \"blue\", \"bookish\", \"scholastic\", \"solid\", \"profound\", \"deep-read\", \"book-learned\", \\\n",
        "        \"accomplished\", \"skillful\", \"omniscient\", \"self-taught\", \"known\", \"ascertained\", \"well-known\", \"recognized\", \"received\", \"notorious\", \"noted\", \"proverbial\", \"familiar\", \"hackneyed\", \"trite\", \"trivial\", \"commonplace\", \\\n",
        "        \"cognoscible\", \"cognizable\", \"ignorant\", \"nescient\", \"unknowing\", \"unaware\", \"unacquainted\", \"unapprised\", \"unapprized\", \"unwitting\", \"unweeting\", \"unconscious\", \"witless\", \"weetless\", \"unconversant\", \"uninformed\", \\\n",
        "        \"uncultivated\", \"unversed\", \"uninstructed\", \"untaught\", \"uninitiated\", \"untutored\", \"unschooled\", \"misguided\", \"unenlightened\", \"Philistine\", \"shallow\", \"superficial\", \"green\", \"rude\", \"empty\", \"half-learned\", \\\n",
        "        \"illiterate\", \"unread\", \"uninformed\", \"uneducated\", \"unlearned\", \"unlettered\", \"unbookish\", \"empty-headed\", \"dizzy\", \"wooly-headed\", \"pedantic\", \"benighted\", \"belated\", \"blinded\", \"blindfolded\", \"hoodwinked\", \\\n",
        "        \"misinformed\", \"uncertain\", \"unknown\", \"unapprehended\", \"unexplained\", \"unascertained\", \"uninvestigated\", \"unexplored\", \"concealed\", \"novel\", \"learned\", \"bookless\", \"shallow\", \"ignorant\", \"real\", \"actual\", \\\n",
        "        \"existing\", \"veritable\", \"true\", \"right\", \"correct\", \"certain\", \"unimpeachable\", \"veracious\", \"unreconfuted\", \"unconfuted\", \"unideal\", \"unimagined\", \"realistic\", \"exact\", \"accurate\", \"definite\", \"precise\", \\\n",
        "        \"well-defined\", \"just\", \"so\", \"strict\", \"severe\", \"close\", \"similar\", \"literal\", \"rigid\", \"rigorous\", \"scrupulous\", \"conscientious\", \"exact\", \"punctual\", \"mathematical\", \"scientific\", \"faithful\", \"constant\", \\\n",
        "        \"unerring\", \"curious\", \"particular\", \"nice\", \"delicate\", \"fine\", \"clean-cut\", \"clear-cut\", \"verified\", \"substantiated\", \"proven\", \"demonstrated\", \"true\", \"genuine\", \"authentic\", \"legitimate\", \"orthodox\", \\\n",
        "        \"official\", \"pure\", \"natural\", \"sound\", \"sterling\", \"unsophisticated\", \"unadulterated\", \"unvarnished\", \"unalloyed\", \"uncolored\", \"pukka\", \"well-grounded\", \"well-founded\", \"solid\", \"substantial\", \"tangible\", \\\n",
        "        \"valid\", \"undistorted\", \"undisguised\", \"unaffected\", \"unexaggerated\", \"unromantic\", \"unflattering\", \"erroneous\", \"untrue\", \"false\", \"fallacious\", \"apocryphal\", \"unreal\", \"ungrounded\", \"groundless\", \"unsubstantial\", \\\n",
        "        \"heretical\", \"heterodox\", \"unsound\", \"illogical\", \"inexact\", \"unexact\", \"inaccurate\", \"incorrect\", \"indefinite\", \"uncertain\", \"illusive\", \"illusory\", \"delusive\", \"mock\", \"ideal\", \"imaginary\", \"spurious\", \"deceitful\", \\\n",
        "        \"perverted\", \"controvertible\", \"unsustainable\", \"unauthenticated\", \"untrustworthy\", \"exploded\", \"refuted\", \"discarded\", \"mistaken\", \"tripping\", \"out\", \"aberrant\", \"aphoristic\", \"proverbial\", \"phylacteric\", \"axiomatic\", \\\n",
        "        \"gnomic\", \"absurd\", \"nonsensical\", \"preposterous\", \"egregious\", \"senseless\", \"inconsistent\", \"ridiculous\", \"extravagant\", \"quibbling\", \"self-annulling\", \"self-contradictory\", \"macaronic\", \"punning\", \"foolish\", \\\n",
        "        \"sophistical\", \"unmeaning\", \"fantastic\", \"intelligent\", \"keen\", \"acute\", \"alive\", \"brainy\", \"awake\", \"bright\", \"quick\", \"sharp\", \"quick-witted\", \"keen-witted\", \"clear-witted\", \"sharp-eyed\", \"sharp-sighted\", \\\n",
        "        \"sharp-witted\", \"wide-awake\", \"canny\", \"shrewd\", \"astute\", \"clear-headed\", \"farsighted\", \"discerning\", \"perspicacious\", \"penetrating\", \"piercing\", \"argute\", \"quick-witted\", \"nimble-witted\", \"needle-witted\", \\\n",
        "        \"cognizant\", \"clever\", \"apt\", \"arch\", \"cunning\", \"acute\", \"wise\", \"sage\", \"sapient\", \"sagacious\", \"reasonable\", \"rational\", \"sound\", \"sensible\", \"judicious\", \"strong-minded\", \"unprejudiced\", \"unbiased\", \"unbigoted\",\\\n",
        "        \"unprepossessed\", \"undazzled\", \"unperplexed\", \"unwarped\", \"impartial\", \"equitable\", \"fair\", \"cool\", \"cool-headed\", \"long-headed\", \"hardheaded\", \"strong-headed\", \"long-sighted\", \"calculating\", \"thoughtful\", \"reflecting\", \\\n",
        "        \"solid\", \"deep\", \"profound\", \"oracular\", \"heaven-directed\", \"heaven-born\", \"prudent\", \"cautious\", \"sober\", \"stand\", \"solid\", \"considerate\", \"politic\", \"watchful\", \"provident\", \"prepared\", \"wise\", \"sensible\", \"reasonable\", \\\n",
        "        \"judicious\", \"well-thought-out\", \"well-planned\", \"well-judged\", \"well-advised\", \"prudent\", \"politic\", \"expedient\", \"unintelligent\", \"unintellectual\", \"unreasoning\", \"mindless\", \"witless\", \"reasoningless\", \"brainless\", \\\n",
        "        \"halfbaked\", \"inapprehensible\", \"weak-headed\", \"addle-headed\", \"puzzle-headed\", \"blunder-headed\", \"muddle-headed\", \"muddy-headed\", \"pig-headed\", \"beetle-headed\", \"buffle-headed\", \"chuckle-headed\", \"mutton-headed\", \\\n",
        "        \"maggoty-headed\", \"grossheaded\", \"beef-headed\", \"fat-witted\", \"fat-headed\", \"weak-minded\", \"feeble-minded\", \"dull-minded\", \"shallow-minded\", \"lack-brained\", \"rattle-brained\", \"rattle-headed\", \"half-witted\", \\\n",
        "        \"lean-witted\", \"short-witted\", \"dull-witted\", \"blunt-witted\", \"shallow-pated\", \"clod-pated\", \"addle-pated\", \"addle-brained\", \"dim-sighted\", \"short-sighted\", \"thick-skulled\", \"shallow\", \"borne\", \"weak\", \"wanting\", \\\n",
        "        \"soft\", \"sappy\", \"spoony\", \"dull\", \"stupid\", \"heavy\", \"insulse\", \"obtuse\", \"blunt\", \"stolid\", \"doltish\", \"asinine\", \"inapt\", \"prosaic\", \"hebetudinous\", \"childish\", \"child-like\", \"infantine\", \"infantile\", \\\n",
        "        \"babyish\", \"babish\", \"puerile\", \"anile\", \"simple\", \"credulous\", \"old-womanish\", \"fatuous\", \"idiotic\", \"imbecile\", \"driveling\", \"blatant\", \"babbling\", \"vacant\", \"sottish\", \"bewildered\", \"blockish\", \"unteachable\", \\\n",
        "        \"Boeotian\", \"Boeotic\", \"bovine\", \"ungifted\", \"undiscerning\", \"unenlightened\", \"unwise\", \"unphilosophical\", \"apish\", \"simious\", \"foolish\", \"silly\", \"senseless\", \"irrational\", \"insensate\", \"nonsensical\", \"inept\", \\\n",
        "        \"maudlin\", \"narrow-minded\", \"bigoted\", \"obstinate\", \"giddy\", \"thoughtless\", \"rash\", \"eccentric\", \"crazed\", \"foolish\", \"unwise\", \"injudicious\", \"improper\", \"unreasonable\", \"ridiculous\", \"absurd\", \"idiotic\", \"silly\", \\\n",
        "        \"stupid\", \"asinine\", \"ill-imagined\", \"ill-advised\", \"ill-judged\", \"ill-devised\", \"inconsistent\", \"irrational\", \"unphilosophical\", \"extravagant\", \"nonsensical\", \"sleeveless\", \"idle\", \"pointless\", \"useless\", \\\n",
        "        \"inexpedient\", \"frivolous\", \"trivial\", \"venerable\", \"reverenced\", \"emeritus\", \"sane\", \"rational\", \"reasonable\", \"sound\", \"sound-minded\", \"lucid\", \"self-possessed\", \"sober\", \"sober-minded\", \"insane\", \"mad\", \\\n",
        "        \"lunatic\", \"loony\", \"crazy\", \"crazed\", \"aliene\", \"cracked\", \"touched\", \"unhinged\", \"insensate\", \"reasonless\", \"demented\", \"daft\", \"phrenzied\", \"frenzied\", \"frenetic\", \"possessed\", \"deranged\", \"maddened\",\\\n",
        "        \"moonstruck\", \"shatterpated\", \"mad-brained\", \"scatter-brained\", \"shatter-brained\", \"crackbrained\", \"touched\", \"tetched\", \"maniacal\", \"delirious\", \"lightheaded\", \"incoherent\", \"rambling\", \"doting\", \"wandering\", \\\n",
        "        \"frantic\", \"raving\", \"stark\", \"staring\", \"mad\", \"wild-eyed\", \"berserk\", \"delusional\", \"hallucinatory\", \"corybantic\", \"dithyrambic\", \"rabid\", \"giddy\", \"vertiginous\", \"wild\", \"haggard\", \"mazed\", \"flighty\", \"distracted\", \\\n",
        "        \"distraught\", \"depressed\", \"agitated\", \"hyped-up\", \"bewildered\", \"uncertain\", \"mad\", \"fanatical\", \"infatuated\", \"odd\", \"eccentric\", \"hypped\", \"hyppish\", \"spaced\", \"imbecile\", \"silly\"]"
      ],
      "metadata": {
        "id": "qiPYNPD6uBTy"
      },
      "execution_count": null,
      "outputs": []
    },
    {
      "cell_type": "code",
      "source": [
        "# extension of thought\n",
        "formation_6 = [\"remembering\", \"remembered\", \"mindful\", \"reminiscential\", \"fresh\", \"green\", \"unforgotten\", \"indelible\", \"memorable\", \"important\", \"forgotten\", \"unremembered\", \"bygone\", \"forgetful\", \"oblivious\", \"mindless\", \\\n",
        "        \"Lethean\", \"insensible\", \"heedless\", \"expectant\", \"expecting\", \"vigilant\", \"open-eyed\", \"open-mouthed\", \"agape\", \"gaping\", \"ready\", \"curious\", \"expected\", \"foreseen\", \"prospective\", \"impending\", \"destiny\", \"nonexpectant\", \\\n",
        "        \"surprised\", \"unwarned\", \"unaware\", \"inattentive\", \"unexpected\", \"unanticipated\", \"unpredicted\", \"unforeseen\", \"exceptional\", \"startling\", \"surprising\", \"sudden\", \"instantaneous\", \"unpredictable\", \"unforeseeable\", \\\n",
        "        \"unknowable\", \"disappointed\", \"disconcerted\", \"aghast\", \"disgruntled\", \"foreseeing\", \"prescient\", \"farseeing\", \"farsighted\", \"sagacious\", \"intelligent\", \"weatherwise\", \"provident\", \"prepared\", \"prospective\", \"predicting\", \\\n",
        "        \"predictive\", \"prophetic\", \"fatidic\", \"fatidical\", \"vaticinal\", \"oracular\", \"fatiloquent\", \"haruspical\", \"Sibylline\", \"weatherwise\", \"ominous\", \"portentous\", \"augurous\", \"augurial\", \"augural\", \"auspicial\", \"auspicious\", \\\n",
        "        \"prescious\", \"monitory\", \"extispicious\", \"premonitory\", \"ill-boding\"]"
      ],
      "metadata": {
        "id": "QilSzt3HuEzZ"
      },
      "execution_count": null,
      "outputs": []
    },
    {
      "cell_type": "code",
      "source": [
        "# creative thought\n",
        "formation_7 = [\"supposing\", \"given\", \"mooted\", \"postulatory\", \"assumed\", \"supposititious\", \"suppositive\", \"suppositious\", \"gratuitous\", \"speculative\", \"conjectural\", \"hypothetical\", \"theoretical\", \"academic\", \"supposable\", \\\n",
        "        \"presumptive\", \"putative\", \"suppositional\", \"suggestive\", \"allusive\", \"analogical\", \"imagined\", \"airbuilt\", \"imagining\", \"imaginative\", \"original\", \"inventive\", \"creative\", \"fertile\", \"romantic\", \"high-flown\", \\\n",
        "        \"flighty\", \"extravagant\", \"fanatic\", \"enthusiastic\", \"unrealistic\", \"Utopian\", \"Quixotic\", \"ideal\", \"unreal\", \"unsubsantial\", \"illusory\", \"fallacious\", \"fabulous\", \"legendary\", \"mythical\", \"mythic\", \"mythological\", \\\n",
        "        \"chimerical\", \"imaginary\", \"visionary\", \"notional\", \"fancy\", \"fanciful\", \"fantastic\", \"fantastical\", \"whimsical\", \"fairy\", \"fairy-like\", \"gestic\"]"
      ],
      "metadata": {
        "id": "Yk8luDrKuIJ5"
      },
      "execution_count": null,
      "outputs": []
    },
    {
      "cell_type": "code",
      "source": [
        "# nature of ideas communicated\n",
        "comm_1 = [\"meaning\", \"expressive\", \"suggestive\", \"allusive\", \"significant\", \"significative\", \"significatory\", \"pithy\", \"pregnant\", \"declaratory\", \"intelligible\", \"literal\", \"synonymous\", \"tantamount\", \"equivalent\", \\\n",
        "        \"implied\", \"latent\", \"explicit\", \"unmeaning\", \"meaningless\", \"senseless\", \"nonsensical\", \"inexpressive\", \"unexpressive\", \"vacant\", \"insignificant\", \"trashy\", \"washy\", \"trumpery\", \"trivial\", \"fiddle-faddle\", \\\n",
        "        \"twaddling\", \"quibbling\", \"unmeant\", \"unexpressed\", \"tacit\", \"latent\", \"inexpressible\", \"undefinable\", \"incommunicable\", \"intelligible\", \"clear\", \"lucid\", \"perspicuous\", \"transpicuous\", \"luminous\", \"transparent\", \\\n",
        "        \"popularized\", \"plain\", \"distinct\", \"explicit\", \"positive\", \"definite\", \"precise\", \"graphic\", \"expressive\", \"meaning\", \"illustrative\", \"explanatory\", \"unambiguous\", \"unequivocal\", \"unmistakable\", \"manifest\", \\\n",
        "        \"unconfused\", \"legible\", \"recognizable\", \"obvious\", \"unintelligible\", \"unaccountable\", \"undecipherable\", \"undiscoverable\", \"unknowable\", \"unfathomable\", \"incognizable\", \"inexplicable\", \"inscrutable\", \\\n",
        "        \"inapprehensible\", \"incomprehensible\", \"insolvable\", \"insoluble\", \"impenetrable\", \"illegible\", \"unexplained\", \"paradoxical\", \"enigmatic\", \"enigmatical\", \"puzzling\", \"secret\", \"indecipherable\", \"obscure\", \\\n",
        "        \"dark\", \"muddy\", \"dim\", \"nebulous\", \"opaque\", \"dense\", \"undiscernible\", \"invisible\", \"misty\", \"opaque\", \"hidden\", \"latent\", \"indefinite\", \"garbled\", \"indistinct\", \"perplexed\", \"confused\", \"undetermined\", \\\n",
        "        \"vague\", \"loose\", \"ambiguous\", \"mysterious\", \"mystic\", \"mystical\", \"acroamatic\", \"acroamatical\", \"metempirical\", \"transcendental\", \"occult\", \"recondite\", \"abstruse\", \"crabbed\", \"inconceivable\", \"inconceptible\", \\\n",
        "        \"searchless\", \"unconceived\", \"inexpressible\", \"undefinable\", \"incommunicable\", \"unpredictable\", \"unforeseeable\", \"equivocal\", \"ambiguous\", \"amphibolous\", \"homonymous\", \"double-tongued\", \"lying\", \"enigmatical\", \\\n",
        "        \"indeterminate\", \"metaphorical\", \"figurative\", \"catachrestical\", \"typical\", \"tralatitious\", \"parabolic\", \"allegorical\", \"allusive\", \"anagogical\", \"ironical\", \"colloquial\", \"tropical\", \"explanatory\", \"expository\", \\\n",
        "        \"explicative\", \"explicatory\", \"exegetical\", \"construable\", \"polyglot\", \"literal\", \"paraphrastic\", \"metaphrastic\", \"consignificative\", \"synonymous\", \"equivalent\", \"misinterpreted\", \"untranslated\", \"untranslatable\"]"
      ],
      "metadata": {
        "id": "xZZzsGw6uLrD"
      },
      "execution_count": null,
      "outputs": []
    },
    {
      "cell_type": "code",
      "source": [
        "# modes of communication\n",
        "comm_2 = [\"manifest\", \"apparent\", \"salient\", \"striking\", \"demonstrative\", \"prominent\", \"notable\", \"pronounced\", \"flagrant\", \"notorious\", \"public\", \"arrant\", \"stark\", \"staring\", \"unshaded\", \"glaring\", \"defined\", \\\n",
        "        \"definite\", \"distinct\", \"conspicuous\", \"visible\", \"obvious\", \"evident\", \"unmistakable\", \"indubitable\", \"palpable\", \"self-evident\", \"autoptical\", \"intelligible\", \"plain\", \"clear\", \"explicit\", \"overt\", \"patent\", \\\n",
        "        \"express\", \"ostensible\", \"naked\", \"bare\", \"literal\", \"downright\", \"undisguised\", \"exoteric\", \"unreserved\", \"frank\", \"plain-spoken\", \"artless\", \"candid\", \"veracious\", \"barefaced\", \"manifested\", \"disclosed\", \"producible\", \\\n",
        "        \"inconcealable\", \"unconcealable\", \"latent\", \"lurking\", \"secret\", \"occult\", \"implied\", \"dormant\", \"abeyant\", \"unapparent\", \"unknown\", \"unseen\", \"invisible\", \"indiscoverable\", \"dark\", \"impenetrable\", \"unintelligible\", \\\n",
        "        \"unspied\", \"unsuspected\", \"unsaid\", \"unwritten\", \"unpublished\", \"unbreathed\", \"untold\", \"unsung\", \"unexposed\", \"unproclaimed\", \"undisclosed\", \"unexpressed\", \"tacit\", \"undeveloped\", \"solved\", \"unexplained\", \\\n",
        "        \"untraced\", \"undiscovered\", \"untracked\", \"unexplored\", \"uninvented\", \"indirect\", \"crooked\", \"inferential\", \"implicit\", \"constructive\", \"allusive\", \"covert\", \"muffled\", \"steganographic\", \"understood\", \"underhand\", \\\n",
        "        \"underground\", \"delitescent\", \"concealed\", \"informed\", \"communique\", \"reported\", \"published\", \"expressive\", \"explicit\", \"open\", \"clear\", \"artless\", \"nuncupative\", \"nuncupatory\", \"declaratory\", \"expository\", \\\n",
        "        \"enunciative\", \"communicative\", \"communicatory\", \"concealed\", \"hidden\", \"secret\", \"recondite\", \"mystic\", \"cabalistic\", \"occult\", \"dark\", \"cryptic\", \"cryptical\", \"private\", \"privy\", \"auricular\", \"clandestine\", \\\n",
        "        \"close\", \"inviolate\", \"tortuous\", \"undercover\", \"clouded\", \"invisible\", \"buried\", \"underground\", \"secluded\", \"undisclosed\", \"untold\", \"covert\", \"latent\", \"untraceable\", \"mysterious\", \"unintelligible\", \"irrevealable\", \\\n",
        "        \"inviolable\", \"confidential\", \"esoteric\", \"unmentionable\", \"obreptitious\", \"furtive\", \"stealthy\", \"feline\", \"skulking\", \"surreptitious\", \"underhand\", \"sly\", \"cunning\", \"secretive\", \"evasive\", \"reserved\", \\\n",
        "        \"reticent\", \"uncommunicative\", \"buttoned-up\", \"close\", \"taciturn\", \"disclosed\", \"public\", \"camouflaged\", \"hidden\", \"concealed\", \"published\", \"current\", \"news\", \"public\", \"notorious\", \"flagrant\", \"arrant\", \\\n",
        "        \"trumpet-tongued\", \"encyclical\", \"encyclic\", \"promulgatory\", \"exoteric\", \"many-tongued\", \"rumored\", \"rife\", \"current\", \"floating\", \"afloat\", \"live\", \"secret\", \"concealed\", \"involved\", \"labyrinthine\", \"labyrinthian\", \\\n",
        "        \"mazy\", \"confidential\", \"asserting\", \"declaratory\", \"predicatory\", \"pronunciative\", \"affirmative\", \"positive\", \"certain\", \"express\", \"explicit\", \"patent\", \"absolute\", \"emphatic\", \"flat\", \"broad\", \"round\", \"pointed\", \\\n",
        "        \"marked\", \"distinct\", \"decided\", \"confident\", \"trenchant\", \"dogmatic\", \"definitive\", \"formal\", \"solemn\", \"categorical\", \"peremptory\", \"unretracted\", \"predicable\", \"denying\", \"denied\", \"contradictory\", \"negative\", \\\n",
        "        \"negatory\", \"recusant\", \"dissenting\", \"teaching\", \"taught\", \"educational\", \"scholastic\", \"academic\", \"doctrinal\", \"disciplinal\", \"instructive\", \"instructional\", \"didactic\", \"propaedeutic\", \"propaedeutical\", \\\n",
        "        \"studious\", \"scholastic\", \"scholarly\", \"teachable\", \"docile\", \"willing\", \"apt\", \"industrious\", \"professorial\", \"scholastic\", \"academic\", \"collegiate\", \"educational\", \"truthful\", \"true\", \"veracious\", \"veridical\", \\\n",
        "        \"scrupulous\", \"honorable\", \"sincere\", \"candid\", \"frank\", \"straightforward\", \"unreserved\", \"open-hearted\", \"true-hearted\", \"simple-hearted\", \"honest\", \"trustworthy\", \"undissembling\", \"dissemble\", \"guileless\", \\\n",
        "        \"pure\", \"truth-loving\", \"unperjured\", \"unaffected\", \"unfeigned\", \"outspoken\", \"ingenuous\", \"artless\", \"undisguised\", \"real\", \"uncontrived\", \"false\", \"deceitful\", \"mendacious\", \"unveracious\", \"fraudulent\", \\\n",
        "        \"dishonest\", \"faithless\", \"truthless\", \"trothless\", \"unfair\", \"uncandid\", \"hollow-hearted\", \"evasive\", \"uningenuous\", \"disingenuous\", \"hollow\", \"sincere\", \"forsworn\", \"artificial\", \"contrived\", \"canting\", \\\n",
        "        \"hypocritical\", \"jesuitical\", \"pharisaical\", \"tartuffish\", \"Machiavellian\", \"double\", \"double-tongued\", \"double-faced\", \"double-handed\", \"double-minded\", \"double-hearted\", \"double-dealing\", \"Janus-faced\", \\\n",
        "        \"smooth-faced\", \"smooth-spoken\", \"smooth-tongued\", \"plausible\", \"mealy-mouthed,\" \"affected\", \"collusive\", \"collusory\", \"artful\", \"cunning\", \"perfidious\", \"spurious\", \"deceptive\", \"untrue\", \"falsified\", \\\n",
        "        \"covinous\", \"deceived\", \"deceiving\", \"cunning\", \"prestigious\", \"prestigiatory\", \"deceptive\", \"deceptious\", \"deceitful\", \"covinous\", \"delusive\", \"delusory\", \"illusive\", \"illusory\", \"elusive\", \"insidious\", \\\n",
        "        \"untrue\", \"mock\", \"sham\", \"make-believe\", \"counterfeit\", \"snide\", \"pseudo\", \"spurious\", \"supposititious\", \"so-called\", \"pretended\", \"feigned\", \"bogus\", \"scamped\", \"fraudulent\", \"tricky\", \"factitious\", \\\n",
        "        \"bastard\", \"surreptitious\", \"illegitimate\", \"contraband\", \"adulterated\", \"sophisticated\", \"unsound\", \"colorable\", \"disguised\", \"meretricious\", \"tinsel\", \"pinchbeck\", \"plated\", \"catchpenny\", \"Brummagem\", \\\n",
        "        \"artificial\", \"synthetic\", \"simulated\", \"untrue\", \"false\", \"phony\", \"trumped-up\", \"fictive\", \"unfounded\", \"invented\", \"fabulous\", \"fabricated\", \"forged\", \"fictitious\", \"factitious\", \"supposititious\", \\\n",
        "        \"surreptitious\", \"elusory\", \"illusory\", \"ironical\", \"misnamed\", \"credulous\", \"mistaken\", \"error\", \"exaggerated\", \"overwrought\", \"bombastic\", \"grandiloquent\", \"hyperbolical\", \"fabulous\", \"extravagant\", \\\n",
        "        \"preposterous\", \"egregious\", \"highflying\"]"
      ],
      "metadata": {
        "id": "Xi9MMj1muPXP"
      },
      "execution_count": null,
      "outputs": []
    },
    {
      "cell_type": "code",
      "source": [
        "# natural means\n",
        "means_comm_1 = [\"indicating\", \"indicative\", \"indicatory\", \"denotative\", \"connotative\", \"diacritical\", \"representative\", \"typical\", \"symbolic\", \"pantomimic\", \"pathognomonic\", \"symptomatic\", \"characteristic\",\\\n",
        "                \"demonstrative\", \"diagnostic\", \"exponential\", \"emblematic\", \"armorial\", \"individual\", \"special\", \"indicated\", \"pointed\", \"marked\", \"denotable\", \"indelible\", \"obliterated\", \"printless\", \"intestate\", \\\n",
        "                \"unrecorded\", \"unregistered\", \"unwritten\", \"represent\", \"representing\", \"representative\", \"illustrative\", \"represented\", \"imitative\", \"figurative\", \"iconic\", \"like\", \"graphic\", \"descriptive\", \\\n",
        "                \"trecento\", \"misrepresented\", \"painted\", \"pictorial\", \"graphic\", \"picturesque\", \"pencil\", \"oil\", \"sculptured\", \"anaglyptic\", \"ceroplastic\", \"ceramic\", \"parian\", \"marble\", \"xanthian\", \"insculptured\", \\\n",
        "                \"engraved\", \"lapidary\"]"
      ],
      "metadata": {
        "id": "dbVaZ7zNs2QF"
      },
      "execution_count": null,
      "outputs": []
    },
    {
      "cell_type": "code",
      "source": [
        "# conventional means\n",
        "means_comm_2 = [\"lingual\", \"linguistic\", \"dialectic\", \"vernacular\", \"current\", \"bilingual\", \"diglot\", \"hexaglot\", \"polyglot\", \"literary\", \"literal\", \"alphabetical\", \"abecedarian\", \"syllabic\", \"majuscular\", \\\n",
        "    \"minuscular\", \"uncial\", \"writing\", \"verbal\", \"literal\", \"titular\", \"nominal\", \"conjugate\", \"paronymous\", \"derivative\", \"neologic\", \"neological\", \"archaic\", \"obsolete\", \"old\", \"colloquial\", \"Anglice\", \\\n",
        "    \"amed\", \"hight\", \"ycleped\", \"nuncupatory\", \"nuncupative\", \"cognominal\", \"titular\", \"nominal\", \"orismological\", \"misnamed\", \"pseudonymous\", \"self-called\", \"self-styled\", \"self-christened\", \"so-called\", \\\n",
        "    \"nameless\", \"anonymous\", \"innominate\", \"unnamed\", \"unacknowledged\", \"expressed\", \"idiomatic\", \"ungrammatical\", \"incorrect\", \"inaccurate\", \"faulty\", \"improper\", \"incongruous\", \"solecistic\", \"solecistical\", \\\n",
        "    \"lucid\", \"intelligible\", \"explicit\", \"manifest\", \"exact\", \"obscure\", \"crabbed\", \"involved\", \"confused\", \"concise\", \"brief\", \"short\", \"terse\", \"close\", \"exact\", \"neat\", \"compact\", \"compressed\", \"condensed\", \\\n",
        "    \"pointed\", \"laconic\", \"curt\", \"pithy\", \"trenchant\", \"summary\", \"pregnant\", \"compendious\", \"compendium\", \"succinct\", \"elliptical\", \"epigrammatic\", \"quaint\", \"crisp\", \"sententious\", \"diffuse\", \"profuse\", \\\n",
        "    \"wordy\", \"verbose\", \"largiloquent\", \"copious\", \"exuberant\", \"pleonastic\", \"lengthy\", \"longsome\", \"long-winded\", \"longspun\", \"protracted\", \"prolix\", \"prosing\", \"maundering\", \"circumlocutory\", \\\n",
        "    \"periphrastic\", \"ambagious\", \"roundabout\", \"digressive\", \"discursive\", \"excursive\", \"loose\", \"flatulent\", \"frothy\", \"vigorous\", \"nervous\", \"powerful\", \"forcible\", \"trenchant\", \"incisive\", \"impressive\", \\\n",
        "    \"sensational\", \"spirited\", \"lively\", \"glowing\", \"sparkling\", \"racy\", \"bold\", \"slashing\", \"pungent\", \"piquant\", \"pointed\", \"pithy\", \"antithetical\", \"sententious\", \"lofty\", \"elevated\", \"sublime\", \"eloquent\", \\\n",
        "    \"vehement\", \"petulant\", \"impassioned\", \"poetic\", \"feeble\", \"bald\", \"tame\", \"meager\", \"jejune\", \"vapid\", \"bland\", \"trashy\", \"lukewarm\", \"cold\", \"frigid\", \"poor\", \"dull\", \"dry\", \"languid\", \"colorless\", \\\n",
        "    \"enervated\", \"proposing\", \"prosy\", \"prosaic\", \"unvaried\", \"monotonous\", \"weak\", \"washy\", \"wishy-washy\", \"sketchy\", \"slight\", \"careless\", \"slovenly\", \"loose\", \"lax\", \"negligent\", \"slipshod\", \"slipslop\", \\\n",
        "    \"inexact\", \"puerile\", \"childish\", \"flatulent\", \"rambling\", \"diffuse\", \"plain\", \"simple\", \"unornamented\", \"unadorned\", \"unvarnished\", \"homely\", \"homespun\", \"neat\", \"severe\", \"chaste\", \"pure\", \"Saxon\", \\\n",
        "    \"commonplace\", \"matter-of-fact\", \"natural\", \"prosaic\", \"dry\", \"unvaried\", \"monotonous\", \"ornament\", \"beautified\", \"ornate\", \"florid\", \"rich\", \"flowery\", \"euphuistic\", \"euphemistic\", \"sonorous\", \\\n",
        "    \"high-sounding\", \"big-sounding\", \"inflated\", \"swelling\", \"tumid\", \"turgid\", \"turgescent\", \"pedantic\", \"pompous\", \"stilted\", \"orotund\", \"high-flown\", \"high-flowing\", \"sententious\", \"rhetorical\", \\\n",
        "    \"declamatory\", \"grandiose\", \"grandiloquent\", \"magniloquent\", \"altiloquent\", \"sesquipedal\", \"sesquipedalian\", \"Johnsonian\", \"mouthy\", \"bombastic\", \"fustian\", \"frothy\", \"flashy\", \"flaming\", \"antithetical\", \\\n",
        "    \"alliterative\", \"figurative\", \"artificial\", \"inelegant\", \"elegant\", \"polished\", \"classical\", \"Attic\", \"correct\", \"Ciceronian\", \"artistic\", \"chaste\", \"pure\", \"Saxon\", \"academical\", \"graceful\", \"easy\", \\\n",
        "    \"readable\", \"fluent\", \"flowing\", \"tripping\", \"unaffected\", \"natural\", \"unlabored\", \"mellifluous\", \"euphonious\", \"euphemism\", \"euphemistic\", \"numerose\", \"rhythmical\", \"felicitous\", \"happy\", \"neat\", \\\n",
        "    \"inelegant\", \"graceless\", \"ungraceful\", \"harsh\", \"abrupt\", \"dry\", \"stiff\", \"cramped\", \"formal\", \"forced\", \"labored\", \"artificial\", \"mannered\", \"ponderous\", \"awkward\", \"uncourtly\", \"unpolished\", \\\n",
        "    \"turgid\", \"affected\", \"euphuistic\", \"barbarous\", \"uncouth\", \"grotesque\", \"rude\", \"crude\", \"halting\", \"vocal\", \"phonetic\", \"oral\", \"ejaculatory\", \"articulate\", \"distinct\", \"stertorous\", \"euphonious\", \\\n",
        "    \"melodious\", \"aphonous\", \"dumb\", \"mute\", \"deafmute\", \"mum\", \"tongue-tied\", \"breathless\", \"tongueless\", \"voiceless\", \"speechless\", \"wordless\", \"taciturn\", \"muzzled\", \"inarticulate\", \"inaudible\", \\\n",
        "    \"croaking\", \"raucous\", \"hoarse\", \"husky\", \"dry\", \"hollow\", \"sepulchral\", \"rough\", \"speaking\", \"spoken\", \"oral\", \"lingual\", \"phonetic\", \"unwritten\", \"outspoken\", \"eloquent\", \"elocutionary\", \"oratorical\", \\\n",
        "    \"rhetorical\", \"declamatory\", \"grandiloquent\", \"talkative\", \"Ciceronian\", \"nuncupative\", \"Tullian\", \"stammering\", \"inarticulate\", \"guttural\", \"nasal\", \"tremulous\", \"affected\", \"loquacious\", \"talkative\", \\\n",
        "    \"garrulous\", \"linguacious\", \"multiloquous\", \"largiloquent\", \"chattering\", \"chatty\", \"sociable\", \"declamatory\", \"open-mouthed\", \"fluent\", \"voluble\", \"glib\", \"flippant\", \"long-tongued\", \"long-winded\", \\\n",
        "    \"diffuse\", \"silent\", \"mute\", \"mum\", \"still\", \"dumb\", \"unconversable\", \"taciturn\", \"closetongued\", \"costive\", \"inconversable\", \"curt\", \"reserved\", \"reticent\", \"concealing\", \"conversing\", \"interlocutory\", \\\n",
        "    \"conversational\", \"conversable\", \"discursive\", \"discoursive\", \"chatty\", \"sociable\", \"colloquial\", \"soliloquizing\", \"writing\", \"written\", \"uncial\", \"Runic\", \"cuneiform\", \"hieroglyphical\", \"printed\", \\\n",
        "    \"typographical\", \"epistolary\", \"descriptive\", \"graphic\", \"narrative\", \"epic\", \"suggestive\", \"well-drawn\", \"historic\", \"traditional\", \"traditionary\", \"legendary\", \"anecdotic\", \"storied\", \"described\", \\\n",
        "    \"discursive\", \"discoursive\", \"disquisitionary\", \"expository\", \"compendious\", \"synoptic\", \"analectic\", \"abridged\", \"variorum\", \"poetic\", \"poetical\", \"lyric\", \"lyrical\", \"tuneful\", \"epic\", \"dithyrambic\", \\\n",
        "    \"metrical\", \"elegiac\", \"iambic\", \"trochaic\", \"anapestic\", \"amoebaeic\", \"Melibean\", \"skaldic\", \"Ionic\", \"Sapphic\", \"Alcaic\", \"Pindaric\", \"prosal\", \"prosy\", \"prosaic\", \"unpoetic\", \"unpoetical\", \"rhymeless\", \\\n",
        "    \"unrhymed\", \"dramatic\", \"theatric\", \"theatrical\", \"scenic\", \"histrionic\", \"comic\", \"tragic\", \"buskined\", \"farcical\", \"tragicomic\", \"melodramatic\", \"operatic\", \"stagy\"]"
      ],
      "metadata": {
        "id": "t1IVkMOQtWqr"
      },
      "execution_count": null,
      "outputs": []
    },
    {
      "cell_type": "code",
      "source": [
        "# volition in general\n",
        "individual_volition_1 = [\"voluntary\", \"volitional\", \"willful\", \"free\", \"optional\", \"discretional\", \"discretionary\", \"volitient\", \"volitive\", \"minded\", \"willing\", \"prepense\", \"predetermined\", \"intended\", \\\n",
        "  \"autocratic\", \"unbidden\", \"bid\", \"spontaneous\", \"original\", \"casual\", \"unconstrained\", \"necessary\", \"needful\", \"requisite\", \"fated\", \"destined\", \"elect\", \"spellbound\", \"compulsory\", \"compel\", \"uncontrollable\", \\\n",
        "  \"inevitable\", \"unavoidable\", \"irresistible\", \"irrevocable\", \"inexorable\", \"avoidless\", \"resistless\", \"involuntary\", \"instinctive\", \"automatic\", \"blind\", \"mechanical\", \"unconscious\", \"unwitting\", \"unthinking\", \\\n",
        "  \"unintentional\", \"undesigned\", \"impulsive\", \"willing\", \"minded\", \"fain\", \"disposed\", \"inclined\", \"favorable\", \"favorably-minded\", \"favorably-inclined\", \"favorably-disposed\", \"ready\", \"forward\", \"earnest\", \\\n",
        "  \"eager\", \"bent-upon\", \"desirous\", \"predisposed\", \"propense\", \"docile\", \"persuadable\", \"persuasible\", \"suasible\", \"persuaded\", \"facile\", \"easy-going\", \"tractable\", \"pliant\", \"genial\", \"gracious\", \"cordial\", \\\n",
        "  \"cheering\", \"hearty\", \"content\", \"assenting\", \"voluntary\", \"gratuitous\", \"spontaneous\", \"unasked\", \"ask\", \"unforced\", \"free\", \"unwilling\", \"loth\", \"loath\", \"disinclined\", \"indisposed\", \"averse\", \"reluctant\", \\\n",
        "  \"adverse\", \"opposed\", \"laggard\", \"backward\", \"remiss\", \"slack\", \"indifferent\", \"scrupulous\", \"squeamish\", \"fastidious\", \"repugnant\", \"dislike\", \"restiff\", \"restive\", \"demurring\", \"unconsenting\", \"refusing\", \\\n",
        "  \"involuntary\", \"resolved\", \"determined\", \"strong-willed\", \"strong-minded\", \"resolute\", \"brave\", \"self-possessed\", \"decided\", \"definitive\", \"peremptory\", \"tranchant\", \"unhesitating\", \"unflinching\", \\\n",
        "  \"unshrinking\", \"firm\", \"iron\", \"gritty\", \"indomitable\", \"inexorable\", \"relentless\", \"inflexible\", \"hard\", \"obstinate\", \"steady\", \"persevering\", \"earnest\", \"serious\", \"irresolute\", \"double-minded\", \\\n",
        "  \"half-hearted\", \"undecided\", \"unresolved\", \"undetermined\", \"shilly-shally\", \"fidgety\", \"tremulous\", \"hesitating\", \"uncertain\", \"vacillating\", \"unsteady\", \"changeable\", \"unsteadfast\", \"fickle\", \"capricious\", \\\n",
        "  \"volatile\", \"frothy\", \"light\", \"lightsome\", \"light-minded\", \"giddy\", \"weak\", \"feeble-minded\", \"frail\", \"timid\", \"wimpish\", \"wimpy\", \"cowardly\", \"dough-faced\", \"facile\", \"pliant\", \"soft\", \"easy-going\", \"revocable\", \\\n",
        "  \"reversible\", \"persevering\", \"constant\", \"steady\", \"steadfast\", \"undeviating\", \"unwavering\", \"unfaltering\", \"unswerving\", \"unflinching\", \"unsleeping\", \"unflagging\", \"undrooping\", \"unrelenting\", \"unintermitting\", \\\n",
        "  \"unremitting\", \"plodding\", \"industrious\", \"strenuous\", \"pertinacious\", \"persisting\", \"persistent\", \"solid\", \"sturdy\", \"staunch\", \"stanch\", \"unchangeable\", \"unconquerable\", \"strong\", \"indomitable\", \"indefatigable\", \\\n",
        "  \"untiring\", \"unwearied\", \"obstinate\", \"tenacious\", \"stubborn\", \"obdurate\", \"casehardened\", \"inflexible\", \"hard\", \"balky\", \"immovable\", \"unshakable\", \"inert\", \"unchangeable\", \"inexorable\", \"determined\", \"mulish\", \\\n",
        "  \"pig-headed\", \"dogged\", \"sullen\", \"sulky\", \"unmoved\", \"uninfluenced\", \"unaffected\", \"willful\", \"self-willed\", \"perverse\", \"resty\", \"restive\", \"restiff\", \"pervicacious\", \"wayward\", \"refractory\", \"unruly\", \"heady\",\\\n",
        "  \"headstrong\", \"contumacious\", \"crossgrained\", \"arbitrary\", \"dogmatic\", \"positive\", \"bigoted\", \"prejudiced\", \"creed-bound\", \"prepossessed\", \"infatuated\", \"stiff-backed\", \"stiff-necked\", \"stiff-hearted\", \"hard-mouthed\", \\\n",
        "  \"hidebound\", \"unyielding\", \"impervious\", \"impracticable\", \"inpersuasible\", \"unpersuadable\", \"intractable\", \"untractable\", \"incorrigible\", \"crotchety\", \"changeful\", \"irresolute\", \"ductile\", \"trimming\", \"ambidextrous\", \\\n",
        "  \"timeserving\", \"coquetting\", \"revocatory\", \"reactionary\", \"capricious\", \"erratic\", \"eccentric\", \"fitful\", \"hysterical\", \"maggoty\", \"inconsistent\", \"fanciful\", \"fantastic\", \"whimsical\", \"crotchety\", \"kinky\", \\\n",
        "  \"particular\", \"humorsome\", \"freakish\", \"skittish\", \"wanton\", \"wayward\", \"contrary\", \"captious\", \"arbitrary\", \"unconformable\", \"fickle\", \"irresolute\", \"frivolous\", \"sleeveless\", \"giddy\", \"volatile\", \"optional\", \\\n",
        "  \"discretional\", \"voluntary\", \"eclectic\", \"choosing\", \"preferential\", \"chosen\", \"choice\", \"good\", \"neutral\", \"neuter\", \"indifferent\", \"uninterested\", \"undecided\", \"irresolute\", \"rejected\", \"reject\", \"rejectaneous\", \\\n",
        "  \"rejectious\", \"prepense\", \"premeditated\", \"predesignated\", \"predesigned\", \"advised\", \"studied\", \"designed\", \"calculated\", \"aforethought\", \"intended\", \"foregone\", \"well-laid\", \"well-devised\", \"well-weighed\", \\\n",
        "  \"maturely\", \"considered\", \"cunning\", \"extemporaneous\", \"impulsive\", \"indeliberate\", \"snap\", \"improvised\", \"improvisate\", \"improvisatory\", \"unpremeditated\", \"unmeditated\", \"improvise\", \"unprompted\", \"unguided\", \\\n",
        "  \"natural\", \"unguarded\", \"spontaneous\", \"voluntary\", \"instinctive\", \"habitual\", \"accustomary\", \"prescriptive\", \"accustomed\", \"consuetudinary\", \"wonted\", \"usual\", \"general\", \"ordinary\", \"common\", \"frequent\", \\\n",
        "  \"everyday\", \"household\", \"jog\", \"trot\", \"well-trodden\", \"well-known\", \"familiar\", \"vernacular\", \"trite\", \"commonplace\", \"conventional\", \"regular\", \"set\", \"stock\", \"established\", \"stereotyped\", \"prevailing\",\\\n",
        "  \"prevalent\", \"current\", \"received\", \"acknowledged\", \"recognized\", \"accredited\", \"admitted\", \"understood\", \"conformable\", \"fashionable\", \"genteel\", \"wont\", \"habituated\", \"habitue\", \"skillful\", \"seasoned\", \"hackneyed\", \\\n",
        "  \"fixed\", \"rooted\", \"deep-rooted\", \"ingrafted\", \"permanent\", \"inveterate\", \"besetting\", \"naturalized\", \"ingrained\", \"intrinsic\", \"unaccustomed\", \"unused\", \"unwonted\", \"unseasoned\", \"uninured\", \"unhabituated\", \\\n",
        "  \"untrained\", \"new\", \"green\", \"unskilled\", \"unhackneyed\", \"unusual\", \"unconformable\", \"nonobservant\", \"disused\", \"impulsive\", \"motive\", \"suasive\", \"suasory\", \"persuasive\", \"persuasory\", \"hortative\", \"hortatory\", \\\n",
        "  \"protreptical\", \"inviting\", \"tempting\", \"suasive\", \"suasory\", \"seductive\", \"attractive\", \"fascinating\", \"pleasing\", \"provocative\", \"exciting\", \"induced\", \"disposed\", \"persuadable\", \"docile\", \"spellbound\", \"smitten\", \\\n",
        "  \"infatuated\", \"inspired\", \"dissuading\", \"dissuasive\", \"dehortatory\", \"expostulatory\", \"monitive\", \"monitory\", \"dissuaded\", \"admonitory\", \"uninduced\", \"induce\", \"unpersuadable\", \"obstinate\", \"averse\", \"unwilling\", \\\n",
        "  \"repugnant\", \"dislike\", \"repressed\", \"ostensibly\", \"manifest\", \"alleged\", \"apologetic\", \"pretended\", \"commendable\", \"useful\", \"good\", \"beneficial\", \"disastrous\", \"bad\", \"awry\", \"disadvantageous\"]"
      ],
      "metadata": {
        "id": "SQrCmJnDtjXc"
      },
      "execution_count": null,
      "outputs": []
    },
    {
      "cell_type": "code",
      "source": [
        "# prospective volition\n",
        "individual_volition_2 = [\"intended\", \"intentional\", \"advised\", \"express\", \"determinate\", \"prepense\", \"intending\", \"minded\", \"earnest\", \"teleological\", \"fortuitous\", \"unintentional\", \"unintended\", \"accidental\", \\\n",
        "    \"undesigned\", \"purposed\", \"unpremeditated\", \"unforeseen\", \"uncontemplated\", \"random\", \"indiscriminate\", \"promiscuous\", \"undirected\", \"aimless\", \"driftless\", \"designless\", \"purposeless\", \"causeless\", \"possible\", \\\n",
        "    \"unforeseeable\", \"unpredictable\", \"chancy\", \"risky\", \"speculative\", \"dicey\", \"pursuing\", \"inquiry\", \"unsought\", \"unattempted\", \"avoiding\", \"neutral\", \"unwilling\", \"elusive\", \"evasive\", \"fugitive\", \"runaway\", \\\n",
        "    \"shy\", \"wild\", \"unpursued\", \"relinquished\", \"relinquishing\", \"businesslike\", \"workaday\", \"professional\", \"official\", \"functional\", \"busy\", \"acting\",  \"planned\", \"strategic\", \"strategical\", \"planning\", \"prepared\", \\\n",
        "    \"circuitous\", \"indirect\", \"roundabout\", \"zigzag\", \"deviating\", \"backhanded\", \"required\", \"requisite\", \"needful\", \"necessary\", \"imperative\", \"essential\", \"indispensable\", \"prerequisite\", \"urgent\", \"exigent\", \\\n",
        "    \"pressing\", \"instant\", \"crying\", \"absorbing\", \"instrumental\", \"useful\", \"ministerial\", \"subservient\", \"mediatorial\", \"intermediate\", \"intervening\", \"conducive\", \"instrumental\", \"mechanical\", \"instrumental\", \\\n",
        "    \"mechanical\", \"machinal\", \"brachial\", \"raw\", \"unprepared\", \"wooden\", \"adobe\", \"stored\", \"spare\", \"supernumerary\", \"wasted\", \"wasteful\", \"prodigal\", \"sufficient\", \"enough\", \"adequate\", \"commensurate\", \"competent\", \\\n",
        "    \"satisfactory\", \"valid\", \"tangible\", \"measured\", \"moderate\", \"temperate\", \"full\", \"complete\", \"ample\", \"plenty\", \"plentiful\", \"plenteous\", \"copious\", \"abundant\", \"abounding\", \"replete\", \"flush\", \"choke-full\", \\\n",
        "    \"chock-full\", \"well-stocked\", \"well-provided\", \"liberal\", \"unstinted\", \"unstinting\", \"stintless\", \"unsparing\", \"unmeasured\", \"lavish\", \"wholesale\", \"rich\", \"luxuriant\", \"fertile\", \"affluent\", \"wealthy\", \"wantless\", \\\n",
        "    \"pregnant\", \"unexhausted\", \"unwasted\", \"exhaustless\", \"inexhaustible\", \"insufficient\", \"inadequate\", \"incompetent\", \"impotent\", \"perfunctory\", \"neglect\", \"deficient\", \"incomplete\", \"wanting\", \"imperfect\", \\\n",
        "    \"ill-furnished\", \"ill-provided\", \"ill-stored\", \"ill-off\", \"slack\", \"empty\", \"vacant\", \"bare\", \"dry\", \"drained\", \"unprovided\", \"unsupplied\", \"unfurnished\", \"unreplenished\", \"unfed\", \"unstored\", \"untreasured\", \\\n",
        "    \"empty-handed\", \"meager\", \"poor\", \"thin\", \"scrimp\", \"sparing\", \"spare\", \"stinted\", \"starved\", \"starving\", \"halfstarved\", \"famine-stricken\", \"famished\", \"jejune\", \"scant\", \"small\", \"scarce\", \"scurvy\", \"stingy\", \\\n",
        "    \"poor\", \"redundant\", \"exuberant\", \"inordinate\", \"superabundant\", \"excessive\", \"overmuch\", \"replete\", \"profuse\", \"lavish\", \"prodigal\", \"exorbitant\", \"overweening\", \"extravagant\", \"overcharged\", \"supersaturated\", \\\n",
        "    \"drenched\", \"overflowing\", \"gorged\", \"dropsical\", \"turgid\", \"plethoric\", \"obese\", \"superfluous\", \"unnecessary\", \"needless\", \"supervacaneous\", \"remainder\", \"adscititious\", \"additional\", \"supernumerary\", \"reserve\", \\\n",
        "    \"spare\", \"duplicate\", \"supererogatory\", \"expletive\", \"important\", \"momentous\", \"material\", \"egregious\", \"weighty\", \"influential\", \"repute\", \"notable\", \"prominent\", \"salient\", \"signal\", \"memorable\", \"remarkable\", \\\n",
        "    \"unforgettable\", \"stirring\", \"eventful\", \"grave\", \"serious\", \"earnest\", \"noble\", \"grand\", \"solemn\", \"impressive\", \"commanding\", \"imposing\", \"urgent\", \"pressing\", \"critical\", \"instant\", \"paramount\", \"essential\", \\\n",
        "    \"vital\", \"all-absorbing\", \"radical\", \"cardinal\", \"chief\", \"main\", \"prime\", \"primary\", \"principal\", \"leading\", \"capital\", \"foremost\", \"overruling\", \"first-rate\", \"superior\", \"considerable\", \"great\", \"marked\", \\\n",
        "    \"rare\", \"significant\", \"telling\", \"trenchant\", \"emphatic\", \"pregnant\", \"unimportant\", \"immaterial\", \"unessential\", \"nonessential\", \"indifferent\", \"subordinate\", \"inferior\", \"mediocre\", \"average\", \"passable\", \\\n",
        "    \"fair\", \"respectable\", \"tolerable\", \"commonplace\", \"uneventful\", \"mere\", \"common\", \"ordinary\", \"habitual\", \"inconsiderable\", \"so-so\", \"insignificant\", \"inappreciable\", \"trifling\", \"trivial\", \"slight\", \"slender\", \\\n",
        "    \"light\", \"flimsy\", \"frothy\", \"idle\", \"puerile\", \"foolish\", \"airy\", \"shallow\", \"weak\", \"powerless\", \"frivolous\", \"petty\", \"niggling\", \"piddling\", \"peddling\", \"fribble\", \"inane\", \"ridiculous\", \"farcical\", \"finical\", \\\n",
        "    \"finikin\", \"fiddle-faddle\", \"fingle-fangle\", \"namby-pamby\", \"wishy-washy\", \"poor\", \"paltry\", \"pitiful\", \"contemptible\", \"contempt\", \"sorry\", \"mean\", \"meager\", \"shabby\", \"miserable\", \"wretched\", \"vile\", \"scrubby\", \\\n",
        "    \"scrannel\", \"weedy\", \"niggardly\", \"scurvy\", \"putid\", \"beggarly\", \"worthless\", \"cheap\", \"trashy\", \"catchpenny\", \"gimcrack\", \"trumpery\", \"one-horse\", \"vain\", \"useless\", \"useful\", \"serviceable\", \"proficuous\", \\\n",
        "    \"subservient\", \"instrumental\", \"conducive\", \"tending\", \"subsidiary\", \"helping\", \"advantageous\", \"beneficial\", \"profitable\", \"gainful\", \"remunerative\", \"valuable\", \"prolific\", \"productive\", \"adequate\", \"efficient\", \\\n",
        "    \"efficacious\", \"effective\", \"effectual\", \"expedient\", \"applicable\", \"available\", \"ready\", \"tangible\", \"commodious\", \"adaptable\", \"useless\", \"inutile\", \"inefficacious\", \"futile\", \"unavailing\", \"bootless\", \"inoperative\", \\\n",
        "    \"inadequate\", \"insufficient\", \"inservient\", \"unsubservient\", \"inept\", \"inefficient\", \"impotent\", \"use\", \"ineffectual\", \"failure\", \"incompetent\", \"unskillful\", \"stale\", \"superfluous\", \"redundant\", \"dispensable\", \\\n",
        "    \"wasted\", \"abortive\", \"immature\", \"worthless\", \"valueless\", \"priceless\", \"unsalable\", \"trifling\", \"vain\", \"empty\", \"inane\", \"gainless\", \"profitless\", \"fruitless\", \"unserviceable\", \"unprofitable\", \"ill-spent\", \\\n",
        "    \"unproductive\", \"effete\", \"impaired\", \"obsolete\", \"old\", \"unnecessary\", \"unneeded\", \"expedient\", \"desirable\", \"advisable\", \"acceptable\", \"convenient\", \"meet\", \"fit\", \"fitting\", \"due\", \"proper\", \"eligible\", \"seemly\", \\\n",
        "    \"becoming\", \"befitting\", \"opportune\", \"suitable\", \"accordant\", \"applicable\", \"useful\", \"inexpedient\", \"undesirable\", \"unadvisable\", \"inadvisable\", \"objectionable\", \"inapt\", \"ineligible\", \"inadmissible\", \\\n",
        "    \"inconvenient\", \"incommodious\", \"discommodious\", \"disadvantageous\", \"inappropriate\", \"unfit\", \"inconsonant\", \"ill-contrived\", \"ill-advised\", \"unsatisfactory\", \"unprofitable\", \"unsubservient\", \"useless\", \\\n",
        "    \"inopportune\", \"unseasonable\", \"improper\", \"unseemly\", \"clumsy\", \"awkward\", \"cumbrous\", \"cumbersome\", \"lumbering\", \"unwieldy\", \"hulky\", \"unmanageable\", \"impracticable\", \"impedient\", \"unnecessary\", \"redundant\", \\\n",
        "    \"harmless\", \"hurtless\", \"unobnoxious\", \"innocuous\", \"innocent\", \"inoffensive\", \"beneficial\", \"valuable\", \"serviceable\", \"useful\", \"advantageous\", \"edifying\", \"profitable\", \"salutary\", \"healthful\", \"favorable\", \\\n",
        "    \"propitious\", \"hope-giving\", \"fair\", \"good\", \"excellent\", \"better\", \"superior\", \"nice\", \"fine\", \"genuine\", \"true\", \"best\", \"choice\", \"select\", \"picked\", \"elect\", \"recherche\", \"rare\", \"priceless\", \"unparagoned\", \\\n",
        "    \"unparalleled\", \"supreme\", \"superlatively\", \"good\", \"bully\", \"crackajack\", \"giltedged\", \"superfine\", \"superexcellent\", \"first-rate\", \"first-class\", \"high-wrought\", \"exquisite\", \"crack\", \"prime\", \"tiptop\", \\\n",
        "    \"capital\", \"cardinal\", \"standard\", \"perfect\", \"inimitable\", \"admirable\", \"estimable\", \"praiseworthy\", \"approve\", \"pleasing\", \"precious\", \"costly\", \"dear\", \"priceless\", \"invaluable\", \"inestimable\", \"tolerable\", \\\n",
        "    \"unexceptionable\", \"unobjectionable\", \"satisfactory\", \"tidy\", \"fresh\", \"sound\", \"perfect\", \"hurtful\", \"harmful\", \"scathful\", \"baneful\", \"baleful\", \"injurious\", \"deleterious\", \"detrimental\", \"noxious\", \"pernicious\", \\\n",
        "    \"mischievous\", \"mischief-making\", \"malefic\", \"malignant\", \"nocuous\", \"noisome\", \"prejudicial\", \"disserviceable\", \"disadvantageous\", \"wide-wasting\", \"unlucky\", \"sinister\", \"obnoxious\", \"untoward\", \"disastrous\", \\\n",
        "    \"oppressive\", \"burdensome\", \"onerous\", \"malign\", \"malevolent\", \"corrupting\", \"corrupt\", \"virulent\", \"venomous\", \"envenomed\", \"corrosive\", \"poisonous\", \"morbific\", \"deadly\", \"killing\", \"destructive\", \"destroying\", \\\n",
        "    \"inauspicious\", \"bad\", \"ill\", \"arrant\", \"dreadful\", \"horrid\", \"horrible\", \"dire\", \"rank\", \"peccant\", \"foul\", \"fulsome\", \"rotten\", \"vile\", \"base\", \"villainous\", \"mean\", \"paltry\", \"injured\", \"deteriorated\", \\\n",
        "    \"unsatisfactory\", \"exceptionable\", \"indifferent\", \"imperfect\", \"ill-contrived\", \"ill-conditioned\", \"wretched\", \"sad\", \"grievous\", \"deplorable\", \"lamentable\", \"pitiful\", \"pitiable\", \"woeful\", \"painful\", \"evil\", \\\n",
        "    \"wrong\", \"depraved\", \"shocking\", \"reprehensible\", \"disapprove\", \"hateful\", \"abominable\", \"detestable\", \"execrable\", \"cursed\", \"accursed\", \"confounded\", \"damned\", \"damnable\", \"infernal\", \"diabolic\", \"malevolent\", \\\n",
        "    \"unadvisable\", \"inexpedient\", \"unprofitable\", \"useless\", \"incompetent\", \"unskillful\", \"irremediable\", \"hopeless\", \"perfect\", \"faultless\", \"indefective\", \"indeficient\", \"indefectible\", \"immaculate\", \"spotless\", \\\n",
        "    \"impeccable\", \"unblemished\", \"uninjured\", \"sound\", \"scathless\", \"intact\", \"harmless\", \"seaworthy\", \"safe\", \"consummate\", \"complete\", \"finished\", \"best\", \"good\", \"model\", \"standard\", \"inimitable\", \"unparagoned\", \\\n",
        "    \"unparalleled\", \"supreme\", \"superhuman\", \"divine\", \"approbation\", \"imperfect\", \"deficient\", \"defective\", \"faulty\", \"unsound\", \"tainted\", \"cracked\", \"leaky\", \"sprung\", \"warped\", \"distort\", \"lame\", \"injured\", \\\n",
        "    \"deteriorated\", \"peccant\", \"bad\", \"frail\", \"weak\", \"inadequate\", \"insufficient\", \"crude\", \"unprepared\", \"incomplete\", \"short-handed\", \"indifferent\", \"middling\", \"ordinary\", \"mediocre\", \"average\", \"so-so\", \\\n",
        "    \"coucicouci\", \"tolerable\", \"fair\", \"passable\", \"good\", \"adequate\", \"decent\", \"inobjectionable\", \"unobjectionable\", \"admissible\", \"bearable\", \"secondary\", \"inferior\", \"second-rate\", \"second-best\", \"one-horse\", \\\n",
        "    \"clean\", \"cleanly\", \"pure\", \"immaculate\", \"spotless\", \"stainless\", \"taintless\", \"trig\", \"unstained\", \"unspotted\", \"unsoiled\", \"unsullied\", \"untainted\", \"uninfected\", \"sweet\", \"neat\", \"spruce\", \"tidy\", \"trim\", \\\n",
        "    \"gimp\", \"cleaned\", \"kempt\", \"abstergent\", \"cathartic\", \"cleansing\", \"purifying\", \"dirty\", \"filthy\", \"grimy\", \"unclean\", \"impure\", \"soiled\", \"dusty\", \"snuffy\", \"smutty\", \"sooty\", \"smoky\", \"thick\", \"turbid\", \\\n",
        "    \"dreggy\", \"slimy\", \"mussy\", \"slovenly\", \"untidy\", \"messy\", \"uncleanly\", \"unkempt\", \"sluttish\", \"dowdy\", \"draggle-tailed\", \"uncombed\", \"unscoured\", \"unswept\", \"unwiped\", \"unwashed\", \"unstrained\", \"unpurified\", \\\n",
        "    \"squalid\", \"lutose\", \"slammocky\", \"slummocky\", \"sozzly\", \"nasty\", \"coarse\", \"foul\", \"offensive\", \"abominable\", \"beastly\", \"reeky\", \"reechy\", \"fetid\", \"decayed\", \"moldy\", \"musty\", \"mildewed\", \"rusty\", \"moth-eaten\", \\\n",
        "    \"mucid\", \"rancid\", \"weak\", \"bad\", \"etercoral\", \"lentiginous\", \"touched\", \"fusty\", \"effete\", \"reasty\", \"rotten\", \"corrupt\", \"tainted\", \"high\", \"flyblown\", \"maggoty\", \"putrid\", \"putrefactive\", \"putrescent\", \\\n",
        "    \"putrefied\", \"saprogenic\", \"saprogenous\", \"purulent\", \"carious\", \"peccant\", \"fecal\", \"feculent\", \"stercoraceous\", \"excrementitious\", \"scurfy\", \"scurvy\", \"impetiginous\", \"gory\", \"bloody\", \"rotting\", \"crapulous\", \\\n",
        "    \"intemperate\", \"gross\", \"fimetarious\", \"fimicolous\", \"healthy\", \"healthful\", \"well\", \"sound\", \"hearty\", \"hale\", \"fresh\", \"green\", \"whole\", \"florid\", \"flush\", \"hardy\", \"stanch\", \"staunch\", \"brave\", \"robust\", \\\n",
        "    \"vigorous\", \"weatherproof\", \"unscathed\", \"uninjured\", \"unmaimed\", \"unmarred\", \"untainted\", \"sanitary\", \"health-giving\", \"sanatory\", \"remedial\", \"diseased\", \"ailing\", \"ill\", \"indisposed\", \"unwell\", \"sick\", \\\n",
        "    \"squeamish\", \"poorly\", \"seedy\", \"confined\", \"bedridden\", \"invalided\", \"valetudinary\", \"unsound\", \"unhealthy\", \"sickly\", \"morbid\", \"morbose\", \"healthless\", \"infirm\", \"chlorotic\", \"unbraced\", \"drooping\", \\\n",
        "    \"flagging\", \"lame\", \"crippled\", \"halting\", \"morbid\", \"tainted\", \"vitiated\", \"peccant\", \"contaminated\", \"poisoned\", \"tabid\", \"mangy\", \"leprous\", \"cankered\", \"rotten\", \"withered\", \"palsied\", \"paralytic\", \"dyspeptic\", \\\n",
        "    \"luetic\", \"pneumonic\", \"pulmonic\", \"phthisic\", \"rachitic\", \"syntectic\", \"syntectical\", \"tabetic\", \"varicose\", \"broken-winded\", \"spavined\", \"gasping\", \"useless\", \"weakly\", \"weakened\", \"weak\", \"decrepit\", \"decayed\", \\\n",
        "    \"deteriorated\", \"incurable\", \"hopeless\", \"cranky\", \"prostrate\", \"moribund\", \"death\", \"morbific\", \"epidemic\", \"endemic\", \"zymotic\", \"salubrious\", \"salutary\", \"salutiferous\", \"wholesome\", \"healthy\", \"healthful\", \\\n",
        "    \"sanitary\", \"prophylactic\", \"benign\", \"bracing\", \"tonic\", \"invigorating\", \"nutritious\", \"hygeian\", \"hygienic\", \"innoxious\", \"innocuous\", \"innocent\", \"harmless\", \"uninjurious\", \"uninfectious\", \"sanative\", \\\n",
        "    \"remedial\", \"restorative\", \"reinstate\", \"useful\", \"insalubrious\", \"unhealthy\", \"unwholesome\", \"noxious\", \"noisome\", \"morbific\", \"morbiferous\", \"mephitic\", \"septic\", \"azotic\", \"deleterious\", \"pestilent\", \\\n",
        "    \"pestiferous\", \"pestilential\", \"virulent\", \"venomous\", \"envenomed\", \"poisonous\", \"toxic\", \"toxiferous\", \"teratogenic\", \"narcotic\", \"contagious\", \"infectious\", \"catching\", \"taking\", \"epidemic\", \"zymotic\", \\\n",
        "    \"epizootic\", \"innutritious\", \"indigestible\", \"ungenial\", \"uncongenial\", \"disagreeing\", \"deadly\", \"killing\", \"improving\", \"progressive\", \"improved\", \"better\", \"reformatory\", \"emendatory\", \"reparatory\", \\\n",
        "    \"restorative\", \"remedial\", \"corrigible\", \"improvable\", \"accultural\", \"unimproved\", \"improve\", \"deteriorated\", \"altered\", \"injured\", \"sprung\", \"withering\", \"spoiling\", \"tabid\", \"degenerate\", \"marescent\", \\\n",
        "    \"worse\", \"imperfect\", \"battered\", \"weathered\", \"weather-beaten\", \"stale\", \"passe\", \"shaken\", \"dilapidated\", \"frayed\", \"faded\", \"wilted\", \"shabby\", \"secondhand\", \"threadbare\", \"worn\", \"reduced\", \"tacky\", \\\n",
        "    \"decayed\", \"moth-eaten\", \"worm-eaten\", \"mildewed\", \"rusty\", \"moldy\", \"spotted\", \"seedy\", \"time-worn\", \"moss-grown\", \"discolored\", \"effete\", \"wasted\", \"crumbling\", \"moldering\", \"rotten\", \"cankered\", \"blighted\", \\\n",
        "    \"tainted\", \"depraved\", \"vicious\", \"decrepid\", \"decrepit\", \"broke\", \"busted\", \"broken\", \"done\", \"finished\", \"useless\", \"undermined\", \"deciduous\", \"destruction\", \"tottering\", \"dangerous\", \"hopeless\", \"fatigued\", \\\n",
        "    \"retrograde\", \"retrogressive\", \"deleterious\", \"restored\", \"redivivus\", \"convalescent\", \"rejuvenated\", \"restoring\", \"restorative\", \"recuperative\", \"sanative\", \"reparative\", \"sanatory\", \"reparatory\", \"curative\", \\\n",
        "    \"remedial\", \"restorable\", \"recoverable\", \"sanable\", \"remediable\", \"retrievable\", \"curable\", \"remedial\", \"restorative\", \"corrective\", \"palliative\", \"healing\", \"sanatory\", \"sanative\", \"prophylactic\", \"preventative\", \\\n",
        "    \"immunizing\", \"salutiferous\", \"salutary\", \"medical\", \"medicinal\", \"therapeutic\", \"chirurgical\", \"epulotic\", \"paregoric\", \"tonic\", \"corroborant\", \"analeptic\", \"balsamic\", \"anodyne\", \"hypnotic\", \"neurotic\", \"narcotic\", \\\n",
        "    \"sedative\", \"lenitive\", \"demulcent\", \"emollient\", \"depuratory\", \"detersive\", \"detergent\", \"abstersive\", \"disinfectant\", \"febrifugal\", \"alterative\", \"traumatic\", \"vulnerary\", \"allopathic\", \"heteropathic\", \\\n",
        "    \"homeopathic\", \"hydropathic\", \"anthelmintic\", \"antifebrile\", \"antiluetic\", \"aperient\", \"chalybeate\", \"deobstruent\", \"depurative\", \"laxative\", \"roborant\", \"dietetic\", \"alimentary\", \"nutritious\", \"nutritive\", \\\n",
        "    \"peptic\", \"alexipharmic\", \"alexiteric\", \"remediable\", \"curable\", \"baneful\", \"bad\", \"poisonous\", \"unwholesome\", \"safe\", \"secure\", \"sure\", \"unharmed\", \"unscathed\", \"unthreatened\", \"unmolested\", \"protected\", \\\n",
        "    \"panoplied\", \"defended\", \"snug\", \"seaworthy\", \"weatherproof\", \"waterproof\", \"fireproof\", \"defensible\", \"tenable\", \"invulnerable\", \"unassailable\", \"unattackable\", \"impenetrable\", \"impregnable\", \"imperdible\", \\\n",
        "    \"inexpugnable\", \"Achillean\", \"preserved\", \"scathless\", \"perfect\", \"unhazarded\", \"unthreatening\", \"harmless\", \"friendly\", \"cooperative\", \"protecting\", \"protective\", \"guardian\", \"tutelary\", \"preservative\", \\\n",
        "    \"trustworthy\", \"endangered\", \"dangerous\", \"hazardous\", \"perilous\", \"parlous\", \"periculous\", \"unsafe\", \"unprotected\", \"safe\", \"protect\", \"insecure\", \"untrustworthy\", \"sand\", \"wildcat\", \"defenseless\", \"fenceless\", \\\n",
        "    \"guardless\", \"harborless\", \"unshielded\", \"vulnerable\", \"expugnable\", \"exposed\", \"liable\", \"precarious\", \"critical\", \"ticklish\", \"slippery\", \"slippy\", \"unwarned\", \"unadmonished\", \"unadvised\", \"unprepared\", \\\n",
        "    \"inexpectant\", \"tottering\", \"unstable\", \"unsteady\", \"shaky\", \"top-heavy\", \"tumbledown\", \"ramshackle\", \"crumbling\", \"waterlogged\", \"helpless\", \"guideless\", \"destruction\", \"threatening\", \"ominous\", \"illomened\", \\\n",
        "    \"alarming\", \"fear\", \"explosive\", \"adventurous\", \"rash\", \"bold\", \"warning\", \"premonitory\", \"monitory\", \"cautionary\", \"admonitory\", \"admonitive\", \"sematic\", \"warned\", \"forewarned\", \"careful\", \"cautious\", \\\n",
        "    \"alarming\", \"preserving\", \"conservative\", \"prophylactic\", \"preservatory\", \"preservative\", \"hygienic\", \"preserved\", \"unimpaired\", \"unbroken\", \"uninjured\", \"unhurt\", \"unsinged\", \"unmarred\", \"safe\", \"intact\", \\\n",
        "    \"escaping\", \"escaped\", \"fled\", \"saved\", \"extricable\", \"redeemable\", \"rescuable\", \"preparing\", \"afoot\", \"afloat\", \"plan\", \"brewing\", \"batching\", \"forthcoming\", \"brooding\", \"precautionary\", \"provident\", \"preparative\", \\\n",
        "    \"preparatory\", \"provisional\", \"inchoate\", \"preliminary\", \"precedent\", \"prepared\", \"ready\", \"handy\", \"ripe\", \"mature\", \"mellow\", \"pukka\", \"practiced\", \"skilled\", \"labored\", \"elaborate\", \"highly-wrought\", \"vigilant\", \\\n",
        "    \"unprepared\", \"prepare\", \"incomplete\", \"rudimental\", \"embryonic\", \"abortive\", \"immature\", \"unripe\", \"kachcha\", \"raw\", \"green\", \"crude\", \"coarse\", \"rough\", \"unhewn\", \"unformed\", \"unfashioned\", \"unwrought\", \\\n",
        "    \"unlabored\", \"unblown\", \"uncooked\", \"unboiled\", \"unconcocted\", \"unpolished\", \"unhatched\", \"unfledged\", \"unnurtured\", \"unlicked\", \"untaught\", \"uneducated\", \"uncultivated\", \"untrained\", \"untutored\", \"undrilled\", \\\n",
        "    \"unexercised\", \"deckle-edged\", \"precocious\", \"premature\", \"undigested\", \"indigested\", \"unmellowed\", \"unseasoned\", \"unleavened\", \"unrehearsed\", \"unscripted\", \"extemporaneous\", \"improvised\", \"spontaneous\", \\\n",
        "    \"fallow\", \"unsown\", \"untilled\", \"natural\", \"undressed\", \"unqualified\", \"disqualified\", \"unfitted\", \"ill-digested\", \"unbegun\", \"unready\", \"unarranged\", \"unorganized\", \"unfurnished\", \"unprovided\", \"unequipped\", \\\n",
        "    \"untrimmed\", \"dismantled\", \"shiftless\", \"improvident\", \"unthrifty\", \"thriftless\", \"thoughtless\", \"unguarded\", \"happy-go-lucky\", \"inexpectant\", \"unpremeditated\", \"essaying\", \"experimental\", \"tentative\", \"empirical\", \\\n",
        "    \"probationary\", \"undertaking\", \"used\", \"well-worn\", \"well-trodden\", \"useful\", \"subservient\", \"instrumental\", \"unemployed\", \"unapplied\", \"unspent\", \"unexercised\", \"untouched\", \"untrodden\", \"unessayed\", \"ungathered\", \\\n",
        "    \"unculled\", \"disused\", \"misused\"]"
      ],
      "metadata": {
        "id": "PEQtZVcQtxTI"
      },
      "execution_count": null,
      "outputs": []
    },
    {
      "cell_type": "code",
      "source": [
        "# voluntary action\n",
        "individual_volition_3 = [\"doing\", \"acting\", \"undone\", \"passive\", \"unoccupied\", \"unemployed\", \"fallow\", \"desaeuvre\", \"active\", \"brisk\", \"lively\", \"animated\", \"vivacious\", \"alive\", \"frisky\", \"spirited\", \"stirring\", \\\n",
        "    \"nimble\", \"agile\", \"light-footed\", \"nimble-footed\", \"featly\", \"tripping\", \"quick\", \"prompt\", \"yare\", \"instant\", \"ready\", \"alert\", \"spry\", \"sharp\", \"smart\", \"fast\", \"swift\", \"expeditious\", \"awake\", \"go-ahead\", \\\n",
        "    \"live\", \"wide-awake\", \"intelligent\", \"forward\", \"eager\", \"strenuous\", \"zealous\", \"enterprising\", \"resolute\", \"industrious\", \"assiduous\", \"diligent\", \"sedulous\", \"notable\", \"painstaking\", \"intent\", \"attention\", \\\n",
        "    \"indefatigable\", \"persevering\", \"unwearied\", \"unsleeping\", \"plodding\", \"hard-working\", \"businesslike\", \"workaday\", \"bustling\", \"restless\", \"fussy\", \"fidgety\", \"pottering\", \"busy\", \"working\", \"busy\", \"occupied\", \\\n",
        "    \"meddling\", \"meddlesome\", \"pushing\", \"officious\", \"overofficious\", \"intrigant\", \"astir\", \"stirring\", \"agoing\", \"afoot\", \"eventful\", \"vigilant\", \"inactive\", \"motionless\", \"unoccupied\", \"unbusied\", \"indolent\", \\\n",
        "    \"lazy\", \"slothful\", \"idle\", \"lusk\", \"remiss\", \"slack\", \"inert\", \"torpid\", \"sluggish\", \"otiose\", \"languid\", \"supine\", \"heavy\", \"dull\", \"leaden\", \"lumpish\", \"exanimate\", \"soulless\", \"listless\", \"drony\", \"dronish\", \\\n",
        "    \"dilatory\", \"laggard\", \"lagging\", \"slow\", \"rusty\", \"flagging\", \"lackadaisical\", \"maudlin\", \"fiddle-faddle\", \"pottering\", \"shilly-shally\", \"irresolute\", \"sleeping\", \"asleep\", \"dormant\", \"comatose\", \"sleepy\", \\\n",
        "    \"sleepful\", \"dozy\", \"drowsy\", \"somnolent\", \"torpescent\", \"lethargic\", \"lethargical\", \"somnifacient\", \"statuvolent\", \"statuvolic\", \"heavy\", \"napping\", \"somnific\", \"somniferous\", \"soporous\", \"soporific\", \\\n",
        "    \"soporiferous\", \"hypnotic\", \"balmy\", \"dreamy\", \"unawakened\", \"unawakened\", \"sedative\", \"hasty\", \"hurried\", \"brusque\", \"scrambling\", \"cursory\", \"precipitate\", \"headlong\", \"furious\", \"boisterous\", \"impetuous\", \\\n",
        "    \"hotheaded\", \"feverish\", \"fussy\", \"pushing\", \"breathless\", \"urgent\", \"leisure\", \"leisurely\", \"slow\", \"deliberate\", \"quiet\", \"calm\", \"undisturbed\", \"laboring\", \"laborious\", \"operose\", \"elaborate\", \"strained\", \\\n",
        "    \"toilsome\", \"troublesome\", \"wearisome\", \"uphill\", \"herculean\", \"gymnastic\", \"palestric\", \"hard-working\", \"painstaking\", \"strenuous\", \"energetic\", \"reposing\", \"relaxed\", \"unstrained\", \"unstressed\", \"fatigued\", \\\n",
        "    \"tired\", \"weary\", \"drowsy\", \"drooping\", \"haggard\", \"toilworn\", \"wayworn\", \"footsore\", \"surbated\", \"weather-beaten\", \"faint\", \"bushed\", \"exhausted\", \"prostrate\", \"spent\", \"overtired\", \"overspent\", \"overfatigued\", \\\n",
        "    \"unrefreshed\", \"unrestored\", \"worn\", \"battered\", \"shattered\", \"seedy\", \"altered\", \"breathless\", \"windless\", \"blown\", \"short-breathed\", \"anhelose\", \"broken-winded\", \"short-winded\", \"dyspnaeal\", \"dyspnaeic\", \\\n",
        "    \"dog-weary\", \"fatiguing\", \"tiresome\", \"irksome\", \"wearisome\", \"weary\", \"trying\", \"refreshing\", \"recuperative\", \"refreshed\", \"untired\", \"unwearied\", \"working\", \"conducting\", \"strategical\", \"businesslike\", \\\n",
        "    \"practical\", \"executive\", \"directing\", \"hegemonic\", \"recommendatory\", \"hortative\", \"persuasive\", \"dehortatory\", \"dissuasive\", \"admonitory\", \"warning\", \"senatorial\", \"curule\", \"congressional\", \"parliamentary\", \\\n",
        "    \"legislative\", \"law-making\", \"regulatory\", \"deliberative\", \"skillful\", \"dexterous\", \"adroit\", \"expert\", \"apt\", \"handy\", \"quick\", \"deft\", \"ready\", \"gain\", \"slick\", \"smart\", \"active\", \"proficient\", \"thoroughbred\", \\\n",
        "    \"masterly\", \"crack\", \"accomplished\", \"conversant\", \"knowing\", \"experienced\", \"practiced\", \"skilled\", \"hackneyed\", \"competent\", \"efficient\", \"qualified\", \"capable\", \"fitted\", \"trained\", \"initiated\", \"prepared\", \\\n",
        "    \"primed\", \"finished\", \"clever\", \"cute\", \"able\", \"ingenious\", \"felicitous\", \"gifted\", \"talented\", \"endowed\", \"inventive\", \"shrewd\", \"sharp\", \"intelligent\", \"cunning\", \"discreet\", \"neat-handed\", \"fine-fingered\", \\\n",
        "    \" nimble-fingered\", \"ambidextrous\", \"sure-footed\", \"technical\", \"artistic\", \"scientific\", \"daedalian\", \"shipshape\", \"workman-like\", \"business-like\", \"statesman-like\", \"unskillful\", \"inexpert\", \"bungling\", \"awkward\", \\\n",
        "    \"clumsy\", \"unhandy\", \"lubberly\", \"gauche\", \"maladroit\", \"left-handed\", \"heavy-handed\", \"slovenly\", \"slatternly\", \"gawky\", \"adrift\", \"inapt\", \"unapt\", \"inhabile\", \"untractable\", \"unteachable\", \"giddy\", \"inattentive\", \\\n",
        "    \"inconsiderate\", \"neglectful\", \"stupid\", \"inactive\", \"incompetent\", \"unqualified\", \"disqualified\", \"ill-qualified\", \"unfit\", \"quackish\", \"raw\", \"green\", \"inexperienced\", \"rusty\", \"unaccustomed\", \"unused\", \"untrained\", \\\n",
        "    \"uninitiated\", \"unconversant\", \"ignorant\", \"shiftless\", \"unstatesmanlike\", \"unadvised\", \"ill-advised\", \"misadvised\", \"ill-devised\", \"ill-imagined\", \"ill-judged\", \"ill-contrived\", \"ill-conducted\", \"unguided\", \\\n",
        "    \"misguided\", \"misconducted\", \"foolish\", \"wild\", \"infelicitous\", \"inconsistent\", \"cunning\", \"crafty\", \"artful\", \"skillful\", \"subtle\", \"feline\", \"vulpine\", \"deep\", \"profound\", \"designing\", \"contriving\", \"intriguing\", \\\n",
        "    \"strategic\", \"diplomatic\", \"politic\", \"Machiavelian\", \"timeserving\", \"artificial\", \"tricky\", \"tricksy\", \"wily\", \"sly\", \"slim\", \"insidious\", \"stealthy\", \"underhand\", \"hidden\", \"subdolous\", \"deceitful\", \"evasive\", \\\n",
        "    \"crooked\", \"arch\", \"pawky\", \"shrewd\", \"acute\", \"sharp\", \"canny\", \"astute\", \"leery\", \"knowing\", \"tactful\", \"diplomatic\", \"politic\", \"polite\", \"artless\", \"natural\", \"pure\", \"native\", \"confiding\", \"simple\", \"lain\", \\\n",
        "    \"inartificial\", \"untutored\", \"unsophisticated\", \"ingenu\", \"unaffected\", \"naive\", \"sincere\", \"frank\", \"open\", \"candid\", \"ingenuous\", \"guileless\", \"unsuspicious\", \"honest\", \"innocent\", \"Arcadian\", \"undesigning\", \\\n",
        "    \"straightforward\", \"unreserved\", \"aboveboard\", \"simple-minded\", \"single-minded\", \"frank-hearted\", \"open-hearted\", \"single-hearted\", \"simple-hearted\", \"free-spoken\", \"plain-spoken\", \"outspoken\", \"blunt\", \\\n",
        "    \"downright\", \"direct\", \"unpoetical\", \"unflattering\"]"
      ],
      "metadata": {
        "id": "KVa3aMast2TL"
      },
      "execution_count": null,
      "outputs": []
    },
    {
      "cell_type": "code",
      "source": [
        "# antagonism\n",
        "individual_volition_4 = [\"difficult\", \"hard\", \"tough\", \"troublesome\", \"toilsome\", \"irksome\", \"operose\", \"laborious\", \"onerous\", \"arduous\", \"Herculean\", \"formidable\", \"ill-conditioned\", \"crabbed\", \"crabby\", \"awkward\", \\\n",
        "    \"unwieldy\", \"unmanageable\", \"intractable\", \"stubborn\", \"obstinate\", \"perverse\", \"refractory\", \"plaguy\", \"trying\", \"thorny\", \"rugged\", \"knotted\", \"knotty\", \"invious\", \"pathless\", \"trackless\", \"labyrinthine\", \"convoluted\", \\\n",
        "    \"intricate\", \"complicated\", \"tangled\", \"impracticable\", \"impossible\", \"desperate\", \"hopeless\", \"embarrassing\", \"perplexing\", \"uncertain\", \"delicate\", \"ticklish\", \"critical\", \"pinched\", \"straitened\", \"puzzled\", \\\n",
        "    \"uncertain\", \"graveled\", \"nonplused\", \"nonplussed\", \"stranded\", \"aground\", \"hard-fought\", \"hard-earned\", \"easy\", \"facile\", \"feasible\", \"practicable\", \"accessible\", \"manageable\", \"wieldy\", \"towardly\", \"tractable\", \\\n",
        "    \"submissive\", \"yielding\", \"ductile\", \"suant\", \"pliant\", \"soft\", \"glib\", \"slippery\", \"smooth\", \"unembarrassed\", \"disburdened\", \"unburdened\", \"disencumbered\", \"unencumbered\", \"disembarrassed\", \"exonerated\", \"unloaded\", \\\n",
        "    \"unobstructed\", \"untrammeled\", \"unrestrained\", \"free\", \"light\", \"skillful\", \"accustomed\", \"hindering\", \"obstructive\", \"obstruent\", \"impeditive\", \"impedient\", \"intercipient\", \"prophylactic\", \"remedial\", \\\n",
        "    \"impedimentary\", \"unfavorable\", \"onerous\", \"burdensome\", \"cumbrous\", \"cumbersome\", \"obtrusive\", \"hindered\", \"windbound\", \"waterlogged\", \"heavy\" \"laden\", \"hard-pressed\", \"unassisted\", \"assist\", \"single-handed\", \\\n",
        "    \"alone\", \"deserted\", \"aiding\", \"auxiliary\", \"adjuvant\", \"helpful\", \"coadjuvant\", \"subservient\", \"ministrant\", \"ancillary\", \"accessory\", \"subsidiary\", \"friendly\", \"amicable\", \"favorable\", \"propitious\", \"well-disposed\", \\\n",
        "    \"neighborly\", \"obliging\", \"benevolent\", \"opposing\", \"opposed\", \"adverse\", \"antagonistic\", \"contrary\", \"unfavorable\", \"unfriendly\", \"hostile\", \"inimical\", \"cross\", \"unpropitious\", \"resistant\", \"competitive\", \"emulous\", \\\n",
        "    \"cooperating\", \"party\", \"coadjuvant\", \"coadjutant\", \"cooperative\", \"additive\", \"participative\", \"coactive\", \"synergetic\", \"synergistic\", \"favorable\", \"unopposed\", \"linked\", \"joined\", \"embattled\", \"confederated\", \\\n",
        "    \"federative\", \"joint\", \"discordant\", \"disagreeing\", \"ajar\", \"dissentient\", \"unreconciled\", \"unpacified\", \"contentious\", \"quarrelsome\", \"unpacific\", \"gladiatorial\", \"controversial\", \"polemic\", \"disputatious\", \\\n",
        "    \"factious\", \"litigious\", \"litigant\", \"pettifogging\", \"embroiled\", \"torn\", \"disunited\", \"concordant\", \"congenial\", \"agreeing\", \"harmonious\", \"united\", \"cemented\", \"allied\", \"friendly\", \"fraternal\", \"conciliatory\", \\\n",
        "    \"assent\", \"tranquil\", \"pacific\", \"defiant\", \"defying\", \"attacking\", \"aggressive\", \"offensive\", \"obsidional\", \"defending\", \"defensive\", \"mural\", \"armed\", \"panoplied\", \"iron-plated\", \"ironclad\", \"loopholed\", \"castellated\", \\\n",
        "    \"machicolated\", \"casemated\", \"defended\", \"armored\", \"ballproof\", \"bulletproof\", \"hardened\", \"retaliating\", \"retaliatory\", \"retaliative\", \"talionic\", \"resisting\", \"resistive\", \"resistant\", \"refractory\", \"disobedient\", \\\n",
        "    \"recalcitrant\", \"renitent\", \"repulsive\", \"repellant\", \"unconquerable\", \"strong\", \"stubborn\", \"unconquered\", \"indomitable\", \"persevering\", \"unyielding\", \"obstinate\", \"contending\", \"competitive\", \"rival\", \"belligerent\", \\\n",
        "    \"contentious\", \"combative\", \"bellicose\", \"unpeaceful\", \"warlike\", \"quarrelsome\", \"pugnacious\", \"pugilistic\", \"gladiatorial\", \"palestric\", \"palestrical\", \"pacific\", \"peaceable\", \"peaceful\", \"calm\", \"tranquil\", \"untroubled\", \\\n",
        "    \"halcyon\", \"bloodless\", \"neutral\", \"dovish\", \"contending\", \"contentious\", \"armed\", \"embattled\", \"battled\", \"unpacific\", \"unpeaceful\", \"belligerent\", \"combative\", \"armigerous\", \"bellicose\", \"martial\", \"warlike\", \"military\", \\\n",
        "    \"militant\", \"soldier-like\", \"soldierly\", \"chivalrous\", \"strategical\", \"internecine\", \"conciliatory\", \"composing\", \"pacified\", \"mediatory\", \"surrendering\", \"submissive\", \"resigned\", \"crouching\", \"downtrodden\", \\\n",
        "    \"unresistant\", \"unresisting\", \"nonresisting\", \"pliant\", \"soft\", \"undefended\", \"untenable\", \"indefensible\", \"humble\"]"
      ],
      "metadata": {
        "id": "TE_TSCRYt67R"
      },
      "execution_count": null,
      "outputs": []
    },
    {
      "cell_type": "code",
      "source": [
        "# results of voluntary action\n",
        "individual_volition_5 = [\"completing\", \"final\", \"concluding\", \"conclusive\", \"crowning\", \"exhaustive\", \"done\", \"completed\", \"sped\", \"preparation\", \"thorough\", \"ripe\", \"ready\", \"incomplete\", \"uncompleted\", \"unfinished\", \\\n",
        "    \"unaccomplished\", \"unperformed\", \"unexecuted\", \"sketchy\", \"addle\", \"ongoing\", \"proceeding\", \"parboiled\", \"half-baked\", \"succeeding\", \"successful\", \"prosperous\", \"triumphant\", \"victorious\", \"unbeaten\", \"beat\", \\\n",
        "    \"well-spent\", \"felicitous\", \"effective\", \"unsuccessful\", \"successless\", \"failing\", \"tripping\", \"unfortunate\", \"abortive\", \"addle\", \"stillborn\", \"fruitless\", \"bootless\", \"ineffectual\", \"ineffective\", \"inconsequential\", \\\n",
        "    \"trifling\", \"nugatory\", \"inefficient\", \"impotent\", \"insufficient\", \"unavailing\", \"useless\", \"aground\", \"grounded\", \"swamped\", \"stranded\", \"wrecked\", \"foundered\", \"capsized\", \"shipwrecked\", \"nonsuited\", \"foiled\", \\\n",
        "    \"defeated\", \"downtrodden\", \"overborne\", \"overwhelmed\", \"ploughed\", \"plowed\", \"plucked\", \"lost\", \"undone\", \"ruined\", \"broken\", \"bankrupt\", \"flambe\", \"destroyed\", \"frustrated\", \"crossed\", \"unhinged\", \"disconcerted\", \\\n",
        "    \"dashed\", \"unhorsed\", \"stultified\", \"befooled\", \"dished\", \"victimized\", \"sacrificed\", \"error\", \"inexpectation\", \"wasted\", \"unattained\", \"uncompleted\", \"prosperous\", \"thriving\", \"buoyant\", \"fortunate\", \"lucky\", \\\n",
        "    \"auspicious\", \"propitious\", \"providential\", \"palmy\", \"halcyon\", \"agreeable\", \"unfortunate\", \"unblest\", \"unhappy\", \"unlucky\", \"improsperous\", \"unprosperous\", \"hoodooed\", \"luckless\", \"hapless\", \"clouded\", \"poor\", \\\n",
        "    \"behindhand\", \"decayed\", \"undone\", \"planet-struck\", \"devoted\", \"ill-fated\", \"ill-starred\", \"ill-omened\", \"adverse\", \"untoward\", \"disastrous\", \"calamitous\", \"ruinous\", \"dire\", \"deplorable\"]"
      ],
      "metadata": {
        "id": "5Bji0VtPuBJ-"
      },
      "execution_count": null,
      "outputs": []
    },
    {
      "cell_type": "code",
      "source": [
        "# general intersocial volition\n",
        "intersocial_volition_1 = [\"dominant\", \"paramount\", \"supreme\", \"predominant\", \"preponderant\", \"influential\", \"arbitrary\", \"compulsory\", \"stringent\", \"lax\", \"loose\", \"slack\", \"remiss\", \"careless\", \"weak\", \"relaxed\", \\\n",
        "    \"licensed\", \"reinless\", \"unbridled\", \"anarchical\", \"unauthorized\", \"unwarranted\", \"adespotic\", \"regal\", \"sovereign\", \"governing\", \"royal\", \"royalist\", \"monarchical\", \"kingly\", \"imperial\", \"imperiatorial\", \\\n",
        "    \"princely\", \"feudal\", \"aristocratic\", \"autocratic\", \"oligarchic\", \"republican\", \"dynastic\", \"ruling\", \"regnant\", \"gubernatorial\", \"imperious\", \"authoritative\", \"executive\", \"administrative\", \"official\", \"departmental\", \\\n",
        "    \"imperative\", \"peremptory\", \"overruling\", \"absolute\", \"hegemonic\", \"hegemonical\", \"authorized\", \"due\", \"government\", \"public\", \"national\", \"federal\", \"state\", \"county\", \"city\", \"political\", \"partisan\", \"severe\", \\\n",
        "    \"strict\", \"hard\", \"harsh\", \"dour\", \"rigid\", \"stiff\", \"stern\", \"rigorous\", \"uncompromising\", \"exacting\", \"exigent\", \"exigeant\", \"inexorable\", \"inflexible\", \"obdurate\", \"austere\", \"hard-headed\", \"hard-nosed\", \"hard-shell\", \\\n",
        "    \"relentless\", \"Spartan\", \"Draconian\", \"stringent\", \"strait-laced\", \"searching\", \"unsparing\", \"iron-handed\", \"peremptory\", \"absolute\", \"positive\", \"arbitrary\", \"imperative\", \"coercive\", \"tyrannical\", \"extortionate\", \\\n",
        "    \"grinding\", \"withering\", \"oppressive\", \"inquisitorial\", \"inclement\", \"ruthless\", \"cruel\", \"malevolent\", \"haughty\", \"arrogant\", \"precisian\", \"lenient\", \"mild\", \"gentle\", \"soft\", \"tolerant\", \"indulgent\", \"easy-going\", \\\n",
        "    \"clement\", \"compassionate\", \"forbearing\", \"long-suffering\", \"commanding\", \"authoritative\", \"decretory\", \"decretive\", \"decretal\", \"callable\", \"jussive\", \"disobedient\", \"uncomplying\", \"uncompliant\", \"unsubmissive\", \\\n",
        "    \"unruly\", \"ungovernable\", \"breachy\", \"insubordinate\", \"incorrigible\", \"restiff\", \"restive\", \"refractory\", \"contumacious\", \"recusant\", \"refuse\", \"recalcitrant\", \"resisting\", \"lawless\", \"mutinous\", \"seditions\", \\\n",
        "    \"insurgent\", \"riotous\", \"unobeyed\", \"unbidden\", \"obedient\", \"complying\", \"compliant\", \"loyal\", \"faithful\", \"devoted\", \"restrainable\", \"resigned\", \"passive\", \"submissive\", \"henpecked\", \"pliant\", \"soft\", \"unresisted\", \\\n",
        "    \"compelling\", \"coercive\", \"coactive\", \"inexorable\", \"compulsory\", \"compulsatory\", \"obligatory\", \"stringent\", \"peremptory\", \"forcible\", \"irresistible\", \"compelled\", \"free\", \"independent\", \"loose\", \"scot-free\", \\\n",
        "    \"uncaught\", \"unconstrained\", \"unbuttoned\", \"unconfined\", \"unrestrained\", \"unchecked\", \"unprevented\", \"unhindered\", \"unobstructed\", \"unbound\", \"uncontrolled\", \"untrammeled\", \"unsubject\", \"ungoverned\", \"unenslaved\", \\\n",
        "    \"unenthralled\", \"unchained\", \"unshackled\", \"unfettered\", \"unreined\", \"unbridled\", \"uncurbed\", \"unmuzzled\", \"unrestricted\", \"unlimited\", \"unmitigated\", \"unconditional\", \"absolute\", \"discretionary\", \"optional\", \\\n",
        "    \"unassailed\", \"unforced\", \"uncompelled\", \"unbiassed\", \"spontaneous\", \"degage\", \"wanton\", \"rampant\", \"irrepressible\", \"unvanquished\", \"exempt\", \"freed\", \"freeborn\", \"autonomous\", \"freehold\", \"allodial\", \"gratis\", \\\n",
        "    \"eleutherian\", \"unclaimed\", \"subject\", \"dependent\", \"subordinate\", \"feudal\", \"feudatory\", \"subjected\", \"enslaved\", \"constrained\", \"downtrodden\", \"overborne\", \"overwhelmed\", \"henpecked\", \"obedient\", \"liable\", \\\n",
        "    \"parasitical\", \"stipendiary\", \"liberated\", \"restrained\", \"constrained\", \"imprisoned\", \"prisoner\", \"cohibitive\", \"coactive\", \"compulsory\", \"stiff\", \"restringent\", \"strait-laced\", \"hidebound\", \"barkbound\", \\\n",
        "    \"ice-bound\", \"wind-bound\", \"weather-bound\", \"cabined\", \"cribbed\", \"confined\", \"imprisoned\", \"commissioned\", \"abrogated\", \"abdicant\", \"acting\", \"vice\"]"
      ],
      "metadata": {
        "id": "2xH7YGV_uERM"
      },
      "execution_count": null,
      "outputs": []
    },
    {
      "cell_type": "code",
      "source": [
        "# special intersocial volition\n",
        "intersocial_volition_2 = [\"permitting\", \"permissive\", \"indulgent\", \"permitted\", \"patent\", \"chartered\", \"permissible\", \"allowable\", \"lawful\", \"legitimate\", \"legal\", \"legalized\", \"law\", \"licit\", \"unforbid\", \"unforbidden\", \\\n",
        "    \"unconditional\", \"prohibitive\", \"prohibitory\", \"proscriptive\", \"restrictive\", \"exclusive\", \"forbidding\", \"prohibited\", \"unlicensed\", \"contraband\", \"impermissible\", \"illegal\", \"unauthorized\", \"uncountenanced\", \\\n",
        "    \"unthinkable\", \"consenting\", \"squeezable\", \"agreed\", \"assent\", \"unconditional\", \"offering\", \"offered\", \"disengaged\", \"refusing\", \"restive\", \"restiff\", \"recusant\", \"uncomplying\", \"unconsenting\", \"refused\", \\\n",
        "    \"ungranted\", \"impossible\", \"requesting\", \"precatory\", \"suppliant\", \"supplicant\", \"supplicatory\", \"postulant\", \"obsecratory\", \"importunate\", \"clamorous\", \"urgent\", \"deprecatory\", \"expostulatory\", \"intercessory\", \\\n",
        "    \"mediatorial\", \"deprecated\", \"protested\", \"unsought\", \"unbesought\", \"unasked\", \"ask\"]"
      ],
      "metadata": {
        "id": "rQ9BsujGuIFu"
      },
      "execution_count": null,
      "outputs": []
    },
    {
      "cell_type": "code",
      "source": [
        "# conditional intersocial volition\n",
        "intersocial_volition_3 = [\"promising\", \"promissory\", \"votive\", \"promised\", \"affianced\", \"pledged\", \"bound\", \"committed\", \"compromised\", \"absolute\", \"unconditional\", \"free\", \"agreed\", \"conventional\", \"conditional\", \\\n",
        "    \"provisional\", \"guarded\", \"fenced\", \"observant\", \"faithful\", \"true\", \"loyal\", \"honorable\", \"punctual\", \"punctilious\", \"literal\", \"exact\", \"violating\", \"lawless\", \"transgressive\", \"elusive\", \"evasive\", \"unfulfilled\", \\\n",
        "    \"fulfill\"]"
      ],
      "metadata": {
        "id": "WxpIzMYcuNGD"
      },
      "execution_count": null,
      "outputs": []
    },
    {
      "cell_type": "code",
      "source": [
        "# possessive relations\n",
        "intersocial_volition_4 = [\"acquiring\", \"acquired\", \"profitable\", \"advantageous\", \"gainful\", \"remunerative\", \"paying\", \"lucrative\", \"losing\", \"denuded\", \"bereaved\", \"bereft\", \"minus\", \"dispossessed\", \"lost\", \\\n",
        "    \"irretrievable\", \"hopeless\", \"possessing\", \"worth\", \"usucapient\", \"possessed\", \"property\", \"unsold\", \"unshared\", \"without\", \"unpossessed\", \"untenanted\", \"vacant\", \"unobtained\", \"unacquired\", \"partaking\", \\\n",
        "    \"communistic\", \"landed\", \"predial\", \"manorial\", \"allodial\", \"feudal\", \"feodal\", \"retaining\", \"retentive\", \"tenacious\", \"unforfeited\", \"undeprived\", \"undisposed\", \"uncommunicated\", \"incommunicable\", \\\n",
        "    \"inalienable\", \"relinquished\", \"derelict\", \"unowned\", \"unappropriated\", \"unculled\", \"left\", \"residuary\", \"alienable\", \"negotiable\", \"giving\", \"given\", \"allowed\", \"allowable\", \"concessional\", \"communicable\", \\\n",
        "    \"charitable\", \"eleemosynary\", \"sportulary\", \"tributary\", \"gratis\", \"donative\", \"receiving\", \"recipient\", \"suscipient\", \"received\", \"given\", \"secondhand\", \"unbestowed\", \"give\", \"bestow\", \"apportioning\", \\\n",
        "    \"respective\", \"lending\", \"lent\", \"unborrowed\", \"borrowed\", \"taking\", \"privative\", \"prehensile\", \"predaceous\", \"predal\", \"predatory\", \"predatorial\", \"lupine\", \"rapacious\", \"raptorial\", \"ravenous\", \"parasitic\", \\\n",
        "    \"bereft\", \"restoring\", \"recuperative\", \"thieving\", \"thievish\", \"light-fingered\", \"furacious\", \"furtive\", \"piratical\", \"predaceous\", \"predal\", \"predatory\", \"predatorial\", \"raptorial\", \"rapacious\", \"manubial\", \\\n",
        "    \"commercial\", \"mercantile\", \"trading\", \"interchangeable\", \"marketable\", \"staple\", \"wholesale\", \"retail\", \"purchased\", \"salable\", \"marketable\", \"vendible\", \"unsalable\", \"unpurchased\", \"unbought\", \"monetary\", \\\n",
        "    \"pecuniary\", \"crumenal\", \"fiscal\", \"financial\", \"sumptuary\", \"numismatic\", \"numismatical\", \"sterling\", \"nummary\", \"wealthy\", \"rich\", \"affluent\", \"opulent\", \"moneyed\", \"monied\", \"warm\", \"comfortable\", \"well\", \\\n",
        "    \"flush\", \"solvent\", \"pecunious\", \"poor\", \"indigent\", \"poverty-stricken\", \"fortuneless\", \"dowerless\", \"moneyless\", \"penniless\", \"unportioned\", \"unmoneyed\", \"impecunious\", \"money\", \"seedy\", \"bare-footed\", \\\n",
        "    \"beggarly\", \"beggared\", \"destitute\", \"fleeced\", \"stripped\", \"bereft\", \"bereaved\", \"reduced\", \"homeless\", \"needy\", \"necessitous\", \"distressed\", \"pinched\", \"straitened\", \"embarrassed\", \"involved\", \"insolvent\", \\\n",
        "    \"crediting\", \"credited\", \"accredited\", \"indebted\", \"liable\", \"chargeable\", \"incumbered\", \"involved\", \"insolvent\", \"minus\", \"unpaid\", \"unrequited\", \"unrewarded\", \"owing\", \"due\", \"outstanding\", \"paying\", \"paid\", \\\n",
        "    \"unowed\", \"non-paying\", \"non-performing\", \"behindhand\", \"beggared\", \"poor\", \"minus\", \"worthless\", \"insolvent\", \"bankrupt\", \"gazetted\", \"unpaid\", \"outstanding\", \"gratis\", \"unremunerated\", \"expending\", \"expended\", \\\n",
        "    \"sumptuary\", \"receiving\", \"received\", \"profitable\", \"gainful\", \"monetary\", \"accountable\", \"accounting\", \"priced\", \"dutiable\", \"mercenary\", \"venal\", \"worthless\", \"valueless\", \"useless\", \"cheap\", \"shoddy\", \\\n",
        "    \"slapdash\", \"inexpensive\", \"discounting\", \"valuable\", \"estimable\", \"worthwhile\", \"worthy\", \"precious\", \"expensive\", \"dear\", \"high\", \"expensive\", \"costly\", \"precious\", \"unreasonable\", \"extravagant\", \"exorbitant\", \\\n",
        "    \"extortionate\", \"overpriced\", \"cheap\", \"low\", \"low-priced\", \"moderate\", \"reasonable\", \"inexpensive\", \"unexpensive\", \"dirt\", \"cheap\", \"catchpenny\", \"discounted\", \"half-price\", \"depreciated\", \"unsalable\", \\\n",
        "    \"gratuitous\", \"gratis\", \"free\", \"costless\", \"expenseless\", \"untaxed\", \"scotfree\", \"shotfree\", \"rent-free\", \"honorary\", \"unbought\", \"unpaid\", \"liberal\", \"free\", \"generous\", \"charitable\", \"beneficent\", \\\n",
        "    \"hospitable\", \"bountiful\", \"bounteous\", \"handsome\", \"unsparing\", \"ungrudging\", \"unselfish\", \"open-handed\", \"free-handed\", \"full-handed\", \"open-hearted\", \"large-hearted\", \"free-hearted\", \"munificent\", \\\n",
        "    \"princely\", \"overpaid\", \"economical\", \"frugal\", \"careful\", \"thrifty\", \"saving\", \"chary\", \"spare\", \"sparing\", \"parsimonious\", \"underpaid\", \"greedy\", \"avaricious\", \"covetous\", \"acquisitive\", \"grasping\", \\\n",
        "    \"rapacious\", \"lickerish\", \"overeager\", \"voracious\", \"ravenous\", \"openmouthed\", \"extortionate\", \"exacting\", \"sordid\", \"insatiable\", \"insatiate\", \"unquenchable\", \"quenchless\", \"omnivorous\", \"prodigal\", \\\n",
        "    \"profuse\", \"thriftless\", \"unthrifty\", \"improvident\", \"wasteful\", \"losel\", \"extravagant\", \"lavish\", \"dissipated\", \"overliberal\", \"full-handed\", \"liberal\", \"parsimonious\", \"penurious\", \"stingy\", \"miserly\", \\\n",
        "    \"mean\", \"shabby\", \"peddling\", \"scrubby\", \"penny-wise\", \"near\", \"niggardly\", \"close\", \"fast-handed\", \"close-handed\", \"strait-handed\", \"close-fisted\", \"hard-fisted\", \"tight-fisted\", \"tight\", \"sparing\", \\\n",
        "    \"chary\", \"grudging\", \"griping\", \"illiberal\", \"ungenerous\", \"churlish\", \"hidebound\", \"sordid\", \"mercenary\", \"venal\", \"covetous\", \"usurious\", \"avaricious\", \"greedy\", \"extortionate\", \"rapacious\"]"
      ],
      "metadata": {
        "id": "HbQE8kFEuSkk"
      },
      "execution_count": null,
      "outputs": []
    },
    {
      "cell_type": "code",
      "source": [
        "# affections in general\n",
        "sentient_moral_1 = [\"affected\", \"characterized\", \"formed\", \"molded\", \"cast\", \"attempered\", \"tempered\", \"framed\", \"predisposed\", \"prone\", \"inclined\", \"inborn\", \"inbred\", \"ingrained\", \"deep-rooted\", \\\n",
        "    \"ineffaceable\", \"inveterate\", \"pathoscopic\", \"congenital\", \"inherent\", \"affective\", \"feeling\", \"sentient\", \"sensuous\", \"sensorial\", \"sensory\", \"emotive\", \"emotional\", \"warm\", \"quick\", \"lively\", \"smart\", \\\n",
        "    \"strong\", \"sharp\", \"acute\", \"cutting\", \"piercing\", \"incisive\", \"keen\", \"trenchant\", \"pungent\", \"racy\", \"piquant\", \"poignant\", \"caustic\", \"impressive\", \"deep\", \"profound\", \"indelible\", \"heartfelt\", \"swelling\", \\\n",
        "    \"soul-stirring\", \"deep-mouthed\", \"heart-expanding\", \"electric\", \"thrilling\", \"rapturous\", \"ecstatic\", \"earnest\", \"wistful\", \"eager\", \"breathless\", \"fervent\", \"fervid\", \"gushing\", \"passionate\", \"warm-hearted\", \\\n",
        "    \"hearty\", \"cordial\", \"sincere\", \"zealous\", \"enthusiastic\", \"glowing\", \"ardent\", \"burning\", \"red-hot\", \"fiery\", \"flaming\", \"pervading\", \"penetrating\", \"absorbing\", \"rabid\", \"raving\", \"feverish\", \\\n",
        "    \"fanatical\", \"hysterical\", \"impetuous\", \"excitable\", \"excited\", \"rapt\", \"enraptured\", \"sensible\", \"sensitive\", \"impressible\", \"impressionable\", \"susceptive\", \"susceptible\", \"impassionable\", \"gushing\", \\\n",
        "    \"warm-hearted\", \"tender-hearted\", \"soft-hearted\", \"soft\", \"sentimental\", \"romantic\", \"enthusiastic\", \"highflying\", \"spirited\", \"mettlesome\", \"vivacious\", \"lively\", \"expressive\", \"mobile\", \"excitable\", \\\n",
        "    \"oversensitive\", \"thin-skinned\", \"fastidious\", \"insensible\", \"unconscious\", \"impassive\", \"impassible\", \"unsusceptible\", \"insusceptible\", \"unimpressionable\", \"unimpressible\", \"passionless\", \"spiritless\", \\\n",
        "    \"heartless\", \"soulless\", \"unfeeling\", \"unmoral\", \"apathetic\", \"phlegmatic\", \"dull\", \"frigid\", \"cold-blooded\", \"cold-hearted\", \"flat\", \"maudlin\", \"obtuse\", \"inert\", \"supine\", \"sluggish\", \"torpid\", \"torpedinous\", \\\n",
        "    \"torporific\", \"sleepy\", \"inactive\", \"languid\", \"half-hearted\", \"tame\", \"numbed\", \"comatose\", \"anaesthetic\", \"stupefied\", \"chloroformed\", \"drugged\", \"stoned\", \"palsy-stricken\", \"indifferent\", \"lukewarm\", \\\n",
        "    \"careless\", \"mindless\", \"regardless\", \"inattentive\", \"neglectful\", \"disregarding\", \"unconcerned\", \"nonchalant\", \"pococurante\", \"insouciant\", \"unambitious\", \"unaffected\", \"unruffled\", \"unimpressed\", \"uninspired\", \\\n",
        "    \"unexcited\", \"unmoved\", \"unstirred\", \"untouched\", \"unshocked\", \"unstruck\", \"unblushing\", \"shameless\", \"unanimated\", \"vegetative\", \"callous\", \"thick-skinned\", \"hard-nosed\", \"pachydermatous\", \"impervious\", \\\n",
        "    \"hardened\", \"inured\", \"casehardened\", \"imperturbable\", \"inexcitable\", \"unfelt\", \"excited\", \"astir\", \"sparkling\", \"overwrought\", \"tense\", \"taught\", \"hot\", \"red-hot\", \"flushed\", \"feverish\", \"flaming\", \"ebullient\", \\\n",
        "    \"seething\", \"fuming\", \"raging\", \"wild\", \"raving\", \"frantic\", \"mad\", \"distracted\", \"bouleverse\", \"demoniacal\", \"lost\", \"tempest-tossed\", \"haggard\", \"exciting\", \"absorbing\", \"riveting\", \"distracting\", \\\n",
        "    \"impressive\", \"warm\", \"glowing\", \"fervid\", \"swelling\", \"imposing\", \"spirit-stirring\", \"thrilling\", \"high-wrought\", \"soul-stirring\", \"soul-subduing\", \"heart-stirring\", \"heart-swelling\", \"heart-thrilling\", \\\n",
        "    \"agonizing\", \"painful\", \"telling\", \"sensational\", \"hysterical\", \"overpowering\", \"overwhelming\", \"yellow\", \"piquant\", \"pungent\", \"spicy\", \"appetizing\", \"provocative\", \"provoquant\", \"tantalizing\", \"excitable\", \\\n",
        "    \"excited\", \"high-strung\", \"irritable\", \"irascible\", \"impatient\", \"intolerant\", \"feverish\", \"febrile\", \"hysterical\", \"delirious\", \"mad\", \"moody\", \"maggoty-headed\", \"unquiet\", \"mercurial\", \"electric\", \\\n",
        "    \"galvanic\", \"hasty\", \"hurried\", \"restless\", \"fidgety\", \"fussy\", \"chafing\", \"startlish\", \"mettlesome\", \"high-mettled\", \"skittish\", \"vehement\", \"demonstrative\", \"violent\", \"wild\", \"furious\", \"fierce\", \\\n",
        "    \"fiery\", \"hot-headed\", \"madcap\", \"overzealous\", \"enthusiastic\", \"impassioned\", \"fanatical\", \"rabid\", \"eager\", \"rampant\", \"clamorous\", \"uproarious\", \"turbulent\", \"tempestuous\", \"tumultuary\", \"boisterous\", \\\n",
        "    \"impulsive\", \"impetuous\", \"passionate\", \"uncontrolled\", \"uncontrollable\", \"ungovernable\", \"irrepressible\", \"stanchless\", \"inextinguishable\", \"burning\", \"simmering\", \"volcanic\", \"volatile\", \"excited\", \\\n",
        "    \"exciting\", \"inexcitable\", \"unexcitable\", \"imperturbable\", \"unsusceptible\", \"insensible\", \"unpassionate\", \"dispassionate\", \"cold-blooded\", \"irritable\", \"enduring\", \"stoical\", \"Platonic\", \"philosophic\", \\\n",
        "    \"staid\", \"stayed\", \"sober\", \"sober-minded\", \"grave\", \"sedate\", \"demure\", \"cool-headed\", \"easy-going\", \"peaceful\", \"placid\", \"calm\", \"tranquil\", \"serene\", \"undemonstrative\", \"temperate\", \"moderate\", \\\n",
        "    \"composed\", \"collected\", \"unexcited\", \"unstirred\", \"unruffled\", \"undisturbed\", \"unperturbed\", \"unimpassioned\", \"unoffended\", \"unresisting\", \"meek\", \"tolerant\", \"patient\", \"submissive\", \"tame\", \\\n",
        "    \"content\", \"resigned\", \"chastened\", \"subdued\", \"lamblike\", \"clement\", \"long-suffering\"]"
      ],
      "metadata": {
        "id": "4vjOd5Y9uUdI"
      },
      "execution_count": null,
      "outputs": []
    },
    {
      "cell_type": "code",
      "source": [
        "# personal affections\n",
        "sentient_moral_2 = [\"pleased\", \"glad\", \"gladsome\", \"happy\", \"blest\", \"blessed\", \"blissful\", \"beatified\", \"enjoying\", \"joyful\", \"hedonic\", \"comfortable\", \"content\", \"overjoyed\", \"entranced\", \"enchanted\", \\\n",
        "    \"enraptures\", \"enravished\", \"transported\", \"fascinated\", \"captivated\", \"pleasing\", \"ecstatic\", \"beatic\", \"painless\", \"unalloyed\", \"cloudless\", \"suffering\", \"pained\", \"afflicted\", \"worried\", \"displeased\", \\\n",
        "    \"aching\", \"griped\", \"sore\", \"uncomfortable\", \"uneasy\", \"disturbed\", \"discontented\", \"weary\", \"stricken\", \"crushed\", \"victimized\", \"ill-used\", \"unfortunate\", \"hapless\", \"doomed\", \"devoted\", \"accursed\", \\\n",
        "    \"undone\", \"lost\", \"stranded\", \"fey\", \"unhappy\", \"infelicitous\", \"poor\", \"wretched\", \"miserable\", \"woe-begone\", \"cheerless\", \"dejected\", \"careworn\", \"concerned\", \"sorry\", \"sorrowing\", \"sorrowful\", \"chagrined\", \\\n",
        "    \"horrified\", \"horror-stricken\", \"lamenting\", \"heart-stricken\", \"heart-broken\", \"heart-scalded\", \"broken-hearted\", \"laetificant\", \"pleasure-giving\", \"pleasing\", \"pleasant\", \"pleasurable\", \"agreeable\", \"grateful\", \\\n",
        "    \"gratifying\", \"leef\", \"lief\", \"acceptable\", \"welcome\", \"welcomed\", \"favorite\", \"satisfactory\", \"good\", \"refreshing\", \"comfortable\", \"cordial\", \"genial\", \"glad\", \"gladsome\", \"sweet\", \"delectable\", \"nice\", \\\n",
        "    \"dainty\", \"delicate\", \"delicious\", \"dulcet\", \"luscious\", \"palatable\", \"luxurious\", \"voluptuous\", \"sensual\", \"attractive\", \"inviting\", \"prepossessing\", \"engaging\", \"winning\", \"winsome\", \"taking\", \"fascinating\", \\\n",
        "    \"captivating\", \"killing\", \"seducing\", \"seductive\", \"heart-robbing\", \"alluring\", \"enticing\", \"appetizing\", \"exciting\", \"cheering\", \"bewitching\", \"enchanting\", \"entrancing\", \"enravishing\", \"charming\", \\\n",
        "    \"delightful\", \"felicitous\", \"exquisite\", \"lovely\", \"beautiful\", \"ravishing\", \"rapturous\", \"heartfelt\", \"thrilling\", \"ecstatic\", \"beatic\", \"beatific\", \"seraphic\", \"empyrean\", \"elysian\", \"heavenly\", \"palmy\", \\\n",
        "    \"halcyon\", \"Saturnian\", \"hurting\", \"hurtful\", \"bad\", \"painful\", \"dolorific\", \"dolorous\", \"unpleasant\", \"unpleasing\", \"displeasing\", \"disagreeable\", \"unpalatable\", \"bitter\", \"distasteful\", \"uninviting\", \\\n",
        "    \"unwelcome\", \"undesirable\", \"undesired\", \"obnoxious\", \"unacceptable\", \"unpopular\", \"thankless\", \"unsatisfactory\", \"untoward\", \"unlucky\", \"uncomfortable\", \"distressing\", \"afflicting\", \"afflictive\", \\\n",
        "    \"joyless\", \"cheerless\", \"comfortless\", \"dismal\", \"disheartening\", \"depressing\", \"depressive\", \"dreary\", \"melancholy\", \"grievous\", \"piteous\", \"woeful\", \"rueful\", \"mournful\", \"deplorable\", \"pitiable\", \\\n",
        "    \"lamentable\", \"sad\", \"affecting\", \"touching\", \"pathetic\", \"irritating\", \"provoking\", \"stinging\", \"annoying\", \"aggravating\", \"mortifying\", \"galling\", \"unaccommodating\", \"invidious\", \"vexatious\", \\\n",
        "    \"troublesome\", \"tiresome\", \"irksome\", \"wearisome\", \"plaguing\", \"plaguy\", \"awkward\", \"importunate\", \"teasing\", \"pestering\", \"bothering\", \"harassing\", \"worrying\", \"tormenting\", \"carking\", \"intolerable\", \\\n",
        "    \"insufferable\", \"insupportable\", \"unbearable\", \"unendurable\", \"shocking\", \"terrific\", \"grim\", \"appalling\", \"crushing\", \"dreadful\", \"fearful\", \"frightful\", \"thrilling\", \"tremendous\", \"dire\", \"heart-breaking\", \\\n",
        "    \"heart-rending\", \"heart-wounding\", \"heart-corroding\", \"heart-sickening\", \"harrowing\", \"rending\", \"odious\", \"hateful\", \"execrable\", \"repulsive\", \"repellent\", \"abhorrent\", \"horrid\", \"horrible\", \"horrific\", \\\n",
        "    \"horrifying\", \"offensive\", \"nauseous\", \"nauseating\", \"disgusting\", \"sickening\", \"revolting\", \"nasty\", \"loathsome\", \"loathful\", \"fulsome\", \"vile\", \"bad\", \"hideous\", \"sharp\", \"acute\", \"sore\", \"severe\", \\\n",
        "    \"grave\", \"hard\", \"harsh\", \"cruel\", \"biting\", \"caustic\", \"cutting\", \"corroding\", \"consuming\", \"racking\", \"excruciating\", \"searching\", \"grinding\", \"grating\", \"agonizing\", \"envenomed\", \"catheretic\", \\\n",
        "    \"pyrotic\", \"ruinous\", \"disastrous\", \"calamitous\", \"tragical\", \"desolating\", \"withering\", \"burdensome\", \"onerous\", \"oppressive\", \"cumbrous\", \"cumbersome\", \"content\", \"contented\", \"satisfied\", \\\n",
        "    \"easygoing\", \"conciliatory\", \"unrepining\", \"resigned\", \"patient\", \"cheerful\", \"unafflicted\", \"unvexed\", \"unmolested\", \"unplagued\", \"serene\", \"snug\", \"comfortable\", \"satisfactory\", \"tolerable\", \"OK\", \\\n",
        "    \"acceptable\", \"discontented\", \"dissatisfied\", \"unsatisfied\", \"ungratified\", \"dissident\", \"dissentient\", \"malcontent\", \"malcontented\", \"exigent\", \"exacting\", \"hypercritical\", \"repining\", \"regretful\", \\\n",
        "    \"dejected\", \"glum\", \"sulky\", \"soured\", \"sore\", \"disappointing\", \"unsatisfactory\", \"frustrated\", \"failure\", \"regretting\", \"regretful\", \"homesick\", \"regretted\", \"egrettable\", \"lamentable\", \"bad\", \"relieving\", \\\n",
        "    \"consolatory\", \"soothing\", \"assuaging\", \"assuasive\", \"balmy\", \"balsamic\", \"lenitive\", \"palliative\", \"anodyne\", \"remedial\", \"curative\", \"aggravated\", \"worse\", \"unrelieved\", \"aggravable\", \"aggravating\", \\\n",
        "    \"cheerful\", \"happy\", \"cheery\", \"cheerly\", \"smiling\", \"blithe\", \"breezy\", \"bully\", \"chipper\", \"allegro\", \"debonair\", \"light\", \"lightsome\", \"light-hearted\", \"buoyant\", \"debonnaire\", \"bright\", \"airy\", \"janty\", \\\n",
        "    \"jaunty\", \"canty\", \"hedonic\", \"riant\", \"sprightly\", \"sprightful\", \"spry\", \"spirited\", \"spiritful\", \"lively\", \"animated\", \"vivacious\", \"sparkling\", \"sportive\", \"sunny\", \"palmy\", \"hopeful\", \"joyful\", \\\n",
        "    \"joyous\", \"jocund\", \"jovial\", \"blithesome\", \"gleeful\", \"gleesome\", \"hilarious\", \"rattling\", \"winsome\", \"bonny\", \"hearty\", \"buxom\", \"playful\", \"playsome\", \"tricksy\", \"frisky\", \"frolicsome\", \"gamesome\", \\\n",
        "    \"jocose\", \"jocular\", \"waggish\", \"mirth-loving\", \"laughter-loving\", \"mirthful\", \"rollicking\", \"elate\", \"elated\", \"exulting\", \"jubilant\", \"flushed\", \"rejoicing\", \"cock-a-hoop\", \"cheering\", \"inspiriting\", \\\n",
        "    \"exhilarating\", \"cardiac\", \"cardiacal\", \"pleasing\", \"palmy\", \"cheerless\", \"joyless\", \"spiritless\", \"uncheerful\", \"uncheery\", \"unlively\", \"unhappy\", \"melancholy\", \"dismal\", \"somber\", \"dark\", \"gloomy\", \\\n",
        "    \"triste\", \"clouded\", \"murky\", \"lowering\", \"frowning\", \"lugubrious\", \"funereal\", \"mournful\", \"lamentable\", \"dreadful\", \"dreary\", \"flat\", \"dull\", \"depressing\", \"downcast\", \"downhearted\", \"heavy-hearted\", \\\n",
        "    \"sullen\", \"mumpish\", \"dumpish\", \"mopish\", \"moping\", \"moody\", \"glum\", \"sulky\", \"discontented\", \"low-spirited\", \"weary\", \"discouraged\", \"disheartened\", \"desponding\", \"chapfallen\", \"chopfallen\", \\\n",
        "    \"jaw-fallen\", \"crest-fallen\", \"sad\", \"pensive\", \"tristful\", \"dolesome\", \"doleful\", \"woebegone\", \"lacrymose\", \"lachrymose\", \"melancholic\", \"hypped\", \"hypochondriacal\", \"bilious\", \"jaundiced\", \\\n",
        "    \"atrabilious\", \"saturnine\", \"splenetic\", \"lackadaisical\", \"serious\", \"sedate\", \"staid\", \"stayed\", \"sober\", \"solemn\", \"demure\", \"grim\", \"grim-faced\", \"grim-visaged\", \"rueful\", \"wan\", \"long-faced\", \\\n",
        "    \"disconsolate\", \"unconsolable\", \"inconsolable\", \"forlorn\", \"comfortless\", \"desolate\", \"lost\", \"overcome\", \"heartstricken\", \"dashed\", \"sunk\", \"unnerved\", \"unmanned\", \"downtrodden\", \"broken-hearted\", \\\n",
        "    \"careworn\", \"rejoicing\", \"jubilant\", \"exultant\", \"triumphant\", \"flushed\", \"elated\", \"pleased\", \"delighted\", \"amused\", \"cheerful\", \"laughable\", \"ludicrous\", \"lamenting\", \"sorrowing\", \"sorrowful\", \\\n",
        "    \"unhappy\", \"mournful\", \"tearful\", \"lachrymose\", \"plaintive\", \"plaintful\", \"querulous\", \"querimonious\", \"threnetic\", \"elegiac\", \"epicedial\", \"amusing\", \"entertaining\", \"diverting\", \"recreational\",\\\n",
        "    \"recreative\", \"lusory\", \"pleasant\", \"pleasing\", \"laughable\", \"ludicrous\", \"witty\", \"fun\", \"festive\", \"festal\", \"jovial\", \"jolly\", \"jocund\", \"roguish\", \"rompish\", \"playful\", \"sportive\", \\\n",
        "    \"ludibrious\", \"funny\", \"hilarious\", \"uproarious\", \"side-splitting\", \"amused\", \"laughing\", \"risible\", \"wearying\", \"wearing\", \"wearisome\", \"tiresome\", \"irksome\", \"uninteresting\", \"stupid\", \"bald\", \\\n",
        "    \"dry\", \"monotonous\", \"dull\", \"arid\", \"tedious\", \"humdrum\", \"mortal\", \"flat\", \"prosy\", \"prosing\", \"slow\", \"soporific\", \"somniferous\", \"disgusting\", \"unenjoyed\", \"weary\", \"tired\", \"drowsy\", \"sleepy\", \\\n",
        "    \"uninterested\", \"flagging\", \"blase\", \"life-weary\", \"witty\", \"attic\", \"quick-witted\", \"nimble-witted\", \"smart\", \"jocular\", \"jocose\", \"humorous\", \"facetious\", \"waggish\", \"whimsical\", \"kidding\", \\\n",
        "    \"joking\", \"puckish\", \"playful\", \"pleasant\", \"sprightly\", \"light\", \"spirituel\", \"sparkling\", \"epigrammatic\", \"comic\", \"zany\", \"madcap\", \"funny\", \"amusing\", \"amusement\", \"dull\", \"unentertaining\", \\\n",
        "    \"uninteresting\", \"flat\", \"unfunny\", \"unlively\", \"logy\", \"unimaginative\", \"insulse\", \"prosy\", \"prosing\", \"prosaic\", \"commonplace\", \"pedestrian\", \"pointless\", \"stupid\", \"slow\", \"flat\", \"insipid\", \\\n",
        "    \"vapid\", \"humdrum\", \"monotonous\", \"melancholic\", \"stolid\", \"plodding\", \"boring\", \"tiresome\", \"tedious\", \"beautiful\", \"beauteous\", \"handsome\", \"gorgeous\", \"pretty\", \"lovely\", \"graceful\", \"elegant\", \\\n",
        "    \"prepossessing\", \"attractive\", \"inviting\", \"delicate\", \"dainty\", \"refined\", \"fair\", \"personable\", \"comely\", \"seemly\", \"bonny\", \"good-looking\", \"well-favored\", \"well-made\", \"well-formed\", \\\n",
        "    \"well-proportioned\", \"proper\", \"shapely\", \"symmetrical\", \"regular\", \"harmonious\", \"color\", \"sightly\", \"passable\", \"goodly\", \"dapper\", \"tight\", \"jimp\", \"gimp\", \"janty\", \"jaunty\", \"trig\", \"natty\", \\\n",
        "    \"quaint\", \"trim\", \"tidy\", \"neat\", \"spruce\", \"smart\", \"tricksy\", \"bright\", \"bright-eyed\", \"rosy-cheeked\", \"cherry-cheeked\", \"rosy\", \"ruddy\", \"blooming\", \"brilliant\", \"shining\", \"beamy\", \"beaming\", \\\n",
        "    \"sparkling\", \"splendid\", \"resplendent\", \"dazzling\", \"glowing\", \"glossy\", \"sleek\", \"rich\", \"superb\", \"magnificent\", \"grand\", \"fine\", \"sublime\", \"showy\", \"specious\", \"artistic\", \"artistical\", \\\n",
        "    \"aesthetic\", \"picturesque\", \"pictorial\", \"well-composed\", \"well-grouped\", \"well-varied\", \"curious\", \"enchanting\", \"pleasure-giving\", \"becoming\", \"accordant\", \"ornamental\", \"undeformed\", \\\n",
        "    \"undefaced\", \"unspotted\", \"spotless\", \"perfect\", \"ugly\", \"plain\", \"bald\", \"unadorned\", \"homely\", \"ordinary\", \"unornamental\", \"inartistic\", \"unsightly\", \"unseemly\", \"uncomely\", \"unlovely\",\\\n",
        "    \"unshapely\", \"sightless\", \"seemless\", \"unbeauteous\", \"unbeautiful\", \"beautiless\", \"semibeautiful\", \"shapeless\", \"amorphous\", \"misshapen\", \"misproportioned\", \"monstrous\", \"gaunt\", \"thin\", \"dumpy\", \\\n",
        "    \"short\", \"ill-made\", \"ill-shaped\", \"ill-proportioned\", \"crooked\", \"distorted\", \"hard-featured\", \"hard-visaged\", \"ill-favored\", \"hard-favored\", \"evil-favored\", \"ill-looking\", \"unprepossessing\", \\\n",
        "    \"unattractive\", \"uninviting\", \"unpleasing\", \"graceless\", \"inelegant\", \"ungraceful\", \"ungainly\", \"uncouth\", \"stiff\", \"rugged\", \"rough\", \"gross\", \"rude\", \"awkward\", \"clumsy\", \"slouching\", \"rickety\", \\\n",
        "    \"gawky\", \"lumping\", \"lumpish\", \"lumbering\", \"hulky\", \"hulking\", \"unwieldy\", \"squalid\", \"haggard\", \"grim\", \"grim-faced\", \"grim-visaged\", \"grisly\", \"ghastly\", \"ghost-like\", \"death-like\", \"cadaverous\", \\\n",
        "    \"grewsome\", \"gruesome\", \"frightful\", \"hideous\", \"odious\", \"uncanny\", \"forbidding\", \"repellant\", \"repulsive\", \"repugnant\", \"grotesque\", \"bizarre\", \"grody\", \"horrid\", \"horrible\", \"shocking\", \\\n",
        "    \"painful\", \"foul\", \"dirty\", \"dingy\", \"colorless\", \"gaudy\", \"color\", \"disfigured\", \"discolored\", \"ornamented\", \"beautified\", \"ornate\", \"rich\", \"gilt\", \"begilt\", \"tesselated\", \"festooned\", \\\n",
        "    \"champleve\", \"cloisonne\", \"topiary\", \"smart\", \"gay\", \"trickly\", \"flowery\", \"glittering\", \"bedight\", \"well-groomed\", \"fashion\", \"showy\", \"flashy\", \"gaudy\", \"vulgar\", \"garish\", \"gairish\", \\\n",
        "    \"gorgeous\", \"ornamental\", \"decorative\", \"becoming\", \"accordant\", \"simple\", \"plain\", \"homely\", \"homespun\", \"ordinary\", \"household\", \"unaffected\", \"ingenuous\", \"sincere\", \"artless\", \"chaste\", \\\n",
        "    \"inornate\", \"severe\", \"unadorned\", \"bare\", \"unornamented\", \"undecked\", \"ungarnished\", \"unarranged\", \"untrimmed\", \"unvarnished\", \"bald\", \"flat\", \"dull\", \"bejeweled\", \"diamond\", \"gemstones\", \\\n",
        "    \"gemological\", \"cute\", \"tasteful\", \"tasty\", \"unaffected\", \"pure\", \"chaste\", \"classical\", \"attic\", \"cultivated\", \"refined\", \"dainty\", \"esthetic\", \"aesthetic\", \"artistic\", \"elegant\", \"euphemistic\", \\\n",
        "    \"unrefined\", \"coarse\", \"indecorous\", \"ribald\", \"gross\", \"unseemly\", \"unbeseeming\", \"unpresentable\", \"ungraceful\", \"ugly\", \"dowdy\", \"slovenly\", \"dirty\", \"ungenteel\", \"shabby\", \"genteel\", \"low\", \\\n",
        "    \"common\", \"plebeian\", \"uncourtly\", \"uncivil\", \"discourteous\", \"ill-bred\", \"ill-mannered\", \"underbred\", \"ungentlemanly\", \"ungentlemanlike\", \"unladylike\", \"unfeminine\", \"wild\", \"untutored\", \\\n",
        "    \"unschooled\", \"ignorant\", \"unkempt\", \"uncombed\", \"untamed\", \"unlicked\", \"unpolished\", \"uncouth\", \"plebeian\", \"incondite\", \"heavy\", \"rude\", \"awkward\", \"homely\", \"homespun\", \"home-bred\", \"provincial\", \\\n",
        "    \"countrified\", \"rustic\", \"boorish\", \"clownish\", \"savage\", \"brutish\", \"blackguard\", \"rowdy\", \"snobbish\", \"barbarous\", \"barbaric\", \"Gothic\", \"unclassical\", \"doggerel\", \"heathenish\", \"tramontane\", \\\n",
        "    \"outlandish\", \"uncultivated\", \"Bohemian\", \"obsolete\", \"antiquated\", \"unfashionable\", \"newfangled\", \"unfamiliar\", \"odd\", \"ridiculous\", \"particular\", \"affected\", \"meretricious\", \"extravagant\", \\\n",
        "    \"monstrous\", \"horrid\", \"shocking\", \"painful\", \"gaudy\", \"tawdry\", \"overornamented\", \"baroque\", \"rococo\", \"bedizened\", \"gingerbread\", \"obtrusive\", \"fashionable\", \"presentable\", \"conventional\", \\\n",
        "    \"customary\", \"genteel\", \"well-bred\", \"well-mannered\", \"well-behaved\", \"well-spoken\", \"gentlemanlike\", \"gentlemanly\", \"ladylike\", \"civil\", \"polite\", \"courteous\", \"polished\", \"refined\", \\\n",
        "    \"thoroughbred\", \"courtly\", \"distingue\", \"unembarrassed\", \"janty\", \"jaunty\", \"dashing\", \"fast\", \"modish\", \"stylish\", \"chic\", \"trendy\", \"recherche\", \"newfangled\", \"unfamiliar\", \"in\", \"faddish\", \\\n",
        "    \"ridiculous\", \"ludicrous\", \"comical\", \"droll\", \"funny\", \"laughable\", \"grotesque\", \"farcical\", \"odd\", \"whimsical\", \"fanciful\", \"fantastic\", \"queer\", \"rum\", \"quizzical\", \"quaint\", \"bizarre\", \\\n",
        "    \"screaming\", \"eccentric\", \"unconformable\", \"strange\", \"outlandish\", \"baroque\", \"weird\", \"awkward\", \"ugly\", \"extravagant\", \"outre\", \"monstrous\", \"preposterous\", \"bombastic\", \"inflated\", \\\n",
        "    \"stilted\", \"burlesque\", \"mock\", \"heroic\", \"drollish\", \"seriocomic\", \"tragicomic\", \"gimcrack\", \"contemptible\", \"unimportant\", \"doggerel\", \"ironical\", \"derisive\", \"risible\", \"affected\", \\\n",
        "    \"pretentious\", \"pedantic\", \"stilted\", \"stagy\", \"theatrical\", \"big-sounding\", \"canting\", \"insincere\", \"unnatural\", \"self-conscious\", \"maniere\", \"artificial\", \"overwrought\", \"overdone\", \\\n",
        "    \"overacted\", \"euphuist\", \"stiff\", \"starch\", \"formal\", \"prim\", \"smug\", \"demure\", \"quakerish\", \"puritanical\", \"prudish\", \"pragmatical\", \"priggish\", \"conceited\", \"coxcomical\", \"foppish\", \\\n",
        "    \"dandified\", \"finical\", \"finikin\", \"mincing\", \"simpering\", \"namby-pamby\", \"sentimental\", \"derisory\", \"derisive\", \"mock\", \"mocking\", \"sarcastic\", \"ironic\", \"ironical\", \"quizzical\", \"burlesque\", \\\n",
        "    \"Hudibrastic\", \"scurrilous\", \"disrespectful\", \"hoping\", \"hopeful\", \"confident\", \"secure\", \"certain\", \"sanguine\", \"buoyant\", \"elated\", \"flushed\", \"exultant\", \"enthusiastic\", \"heartsome\", \\\n",
        "    \"utopian\", \"unsuspecting\", \"unsuspicious\", \"fearless\", \"undespairing\", \"self-reliant\", \"probable\", \"promising\", \"propitious\", \"auspicious\", \"reassuring\", \"encouraging\", \"cheering\", \"inspiriting\", \\\n",
        "    \"bright\", \"roseate\", \"rose-colored\", \"hopeless\", \"desperate\", \"despairing\", \"gone\", \"forlorn\", \"desolate\", \"inconsolable\", \"dejected\", \"broken-hearted\", \"unpromising\", \"unpropitious\", \\\n",
        "    \"inauspicious\", \"ill-omened\", \"threatening\", \"impracticable\", \"death\", \"incurable\", \"cureless\", \"immedicable\", \"remediless\", \"incorrigible\", \"irreparable\", \"irremediable\", \"irrecoverable\", \\\n",
        "    \"irreversible\", \"irretrievable\", \"irreclaimable\", \"irredeemable\", \"irrevocable\", \"ruined\", \"undone\", \"immitigable\", \"fearing\", \"frightened\", \"afeard\", \"afraid\", \"fearful\", \"timid\", \"timorous\", \\\n",
        "    \"nervous\", \"diffident\", \"coy\", \"faint-hearted\", \"tremulous\", \"shaky\", \"apprehensive\", \"restless\", \"fidgety\", \"aghast\", \"awe-stricken\", \"horror-stricken\", \"terror-stricken\", \"panic-stricken\", \\\n",
        "    \"awestruck\", \"awe-stricken\", \"horror-struck\", \"pale\", \"breathless\", \"alarming\", \"formidable\", \"redoubtable\", \"perilous\", \"danger\", \"portentous\", \"fearful\", \"dread\", \"dreadful\", \"fell\", \"dire\", \\\n",
        "    \"direful\", \"shocking\", \"terrible\", \"terrific\", \"tremendous\", \"horrid\", \"horrible\", \"horrific\", \"ghastly\", \"awful\", \"awe-inspiring\", \"revolting\", \"painful\", \"Gorgonian\", \"courageous\", \"brave\", \\\n",
        "    \"valiant\", \"valorous\", \"gallant\", \"intrepid\", \"spirited\", \"spiritful\", \"high-spirited\", \"high-mettled\", \"mettlesome\", \"plucky\", \"manly\", \"manful\", \"resolute\", \"stout\", \"stout-hearted\", \\\n",
        "    \"iron-hearted\", \"lion-hearted\", \"Penthesilean\", \"bold\", \"bold-spirited\", \"daring\", \"audacious\", \"fearless\", \"dauntless\", \"dreadless\", \"aweless\", \"undaunted\", \"unappalled\", \"undismayed\", \\\n",
        "    \"unawed\", \"unblanched\", \"unabashed\", \"unalarmed\", \"unflinching\", \"unshrinking\", \"unblanching\", \"unapprehensive\", \"confident\", \"self-reliant\", \"enterprising\", \"adventurous\", \"venturous\", \\\n",
        "    \"venturesome\", \"dashing\", \"chivalrous\", \"soldierly\", \"warlike\", \"heroic\", \"fierce\", \"savage\", \"pugnacious\", \"bellicose\", \"strong-minded\", \"hardy\", \"doughty\", \"firm\", \"stable\", \"determined\", \\\n",
        "    \"resolved\", \"dogged\", \"indomitable\", \"persevering\", \"reassured\", \"unfeared\", \"undreaded\", \"coward\", \"cowardly\", \"fearful\", \"shy\", \"timid\", \"timorous\", \"skittish\", \"poor-spirited\", \\\n",
        "    \"spiritless\", \"soft\", \"effeminate\", \"weak-minded\", \"weak-hearted\", \"fainthearted\", \"chickenhearted\", \"henhearted\", \"lilyhearted\", \"pigeon-hearted\", \"white-livered\", \"lily-livered\", \\\n",
        "    \"milk-livered\", \"milksop\", \"smock-faced\", \"dastard\", \"dastardly\", \"base\", \"craven\", \"sneaking\", \"dunghill\", \"recreant\", \"unwarlike\", \"unsoldier-like\", \"unmanned\", \"frightened\", \\\n",
        "    \"rash\", \"incautious\", \"indiscreet\", \"imprudent\", \"improvident\", \"temerarious\", \"uncalculating\", \"heedless\", \"careless\", \"neglectful\", \"giddy\", \"inattentive\", \"wanton\", \"reckless\", \\\n",
        "    \"wild\", \"madcap\", \"desperate\", \"devil-may-care\", \"hot-blooded\", \"hotheaded\", \"hotbrained\", \"headlong\", \"headstrong\", \"breakneck\", \"foolhardy\", \"harebrained\", \"precipitate\", \"impulsive\", \\\n",
        "    \"overconfident\", \"overweening\", \"venturesome\", \"venturous\", \"adventurous\", \"Quixotic\", \"fire-eating\", \"cavalier\", \"janty\", \"jaunty\", \"inexpectant\", \"cautious\", \"wary\", \"guarded\", \\\n",
        "    \"watchful\", \"vigilant\", \"careful\", \"heedful\", \"cautelous\", \"stealthy\", \"chary\", \"circumspect\", \"prudent\", \"discreet\", \"politic\", \"sure-footed\", \"skillful\", \"unenterprising\", \\\n",
        "    \"unadventurous\", \"cool\", \"steady\", \"self-possessed\", \"overcautious\", \"desirous\", \"desiring\", \"inclined\", \"willing\", \"fain\", \"wishful\", \"optative\", \"anxious\", \"wistful\", \"curious\", \\\n",
        "    \"sedulous\", \"solicitous\", \"craving\", \"hungry\", \"sharp-set\", \"peckish\", \"ravening\", \"esurient\", \"lickerish\", \"thirsty\", \"athirst\", \"famished\", \"dry\", \"drouthy\", \"greedy\", \"unsatisfied\", \\\n",
        "    \"unsated\", \"unslaked\", \"unsaturated\", \"eager\", \"avid\", \"keen\", \"burning\", \"fervent\", \"ardent\", \"agog\", \"breathless\", \"impatient\", \"impetuous\", \"enrage\", \"rabid\", \"aspiring\", \"ambitious\", \\\n",
        "    \"vaulting\", \"skyaspiring\", \"high-reaching\", \"desirable\", \"desired\", \"in-demand\", \"pleasing\", \"appetizing\", \"appetible\", \"tantalizing\", \"disliking\", \"loathe\", \"loth\", \"adverse\", \\\n",
        "    \"disinclined\", \"heartsick\", \"dogsick\", \"queasy\", \"disliked\", \"unpopular\", \"repulsive\", \"repugnant\", \"repellant\", \"abhorrent\", \"insufferable\", \"fulsome\", \"nauseous\", \"loathsome\", \\\n",
        "    \"loathful\", \"offensive\", \"disgusting\", \"disagreeable\", \"painful\", \"fastidious\", \"nice\", \"delicate\", \"delicat\", \"finical\", \"finicky\", \"demanding\", \"meticulous\", \"exacting\", \"strict\", \\\n",
        "    \"anal\", \"difficult\", \"dainty\", \"lickerish\", \"squeamish\", \"thin-skinned\", \"squeasy\", \"queasy\", \"querulous\", \"particular\", \"straitlaced\", \"scrupulous\", \"censorious\", \"hypercritical\", \\\n",
        "    \"overcritical\", \"surprised\", \"aghast\", \"breathless\", \"agape\", \"open-mouthed\", \"awestruck\", \"thunderstruck\", \"moonstruck\", \"planet-struck\", \"spellbound\", \"wonderful\", \"wondrous\", \\\n",
        "    \"surprising\", \"unexpected\", \"mysterious\", \"inexplicable\", \"miraculous\", \"indescribable\", \"inexpressible\", \"inaffable\", \"unutterable\", \"unspeakable\", \"monstrous\", \"prodigious\", \\\n",
        "    \"stupendous\", \"marvelous\", \"inconceivable\", \"incredible\", \"inimaginable\", \"unimaginable\", \"strange\", \"uncommon\", \"passing\" \"strange\", \"striking\", \"overwhelming\", \"wonder-working\", \\\n",
        "    \"expecting\", \"unamazed\", \"blase\", \"weary\", \"expected\", 'foreseen', 'unsurprising', 'common', 'ordinary', 'normal', 'typical', 'usual', 'habitual', 'disgraced', 'overcome', 'downtrodden', \\\n",
        "    'inglorious', 'nameless', 'renownless', 'obscure', 'unnoticed', 'unnoted', 'unhonored', 'unglorified', 'shameful', 'disgraceful', 'discreditable', 'disreputable', 'despicable', \\\n",
        "    'questionable', 'unbecoming', 'unworthy', 'derogatory', 'degrading', 'humiliating', 'dedecorous', 'scandalous', 'infamous', 'unmentionable', 'ribald', 'opprobrious', 'errant', \\\n",
        "    'shocking', 'outrageous', 'notorious', 'ignominious', 'scrubby', 'dirty', 'abject', 'vile', 'beggarly', 'pitiful', 'low', 'mean', 'shabby', 'base', 'dishonorable', 'noble', \\\n",
        "    'exalted', 'princely', 'titled', 'patrician', 'aristocratic', 'high', 'well-born', 'genteel', 'gentlemanlike', 'courtly', 'fashionable', 'respectable', 'ignoble', 'common', \\\n",
        "    'mean', 'low', 'base', 'vile', 'sorry', 'scrubby', 'beggarly', 'unimportant', 'homely', 'homespun', 'vulgar', 'low-minded', 'snobbish', 'plebeian', 'proletarian', 'lowborn', \\\n",
        "    'baseborn', 'earthborn', 'mushroom', 'dunghill', 'obscure', 'untitled', 'rustic', 'uncivilized', 'loutish', 'boorish', 'clownish', 'churlish', 'brutish', 'raffish', 'rude', \\\n",
        "    'unlicked', 'barbarous', 'barbarian', 'barbaric', 'barbaresque', 'cockney', 'underling', 'menial', 'subaltern', 'dignified', 'stately', 'proud', 'proud-crested', 'lordly', \\\n",
        "    'baronial', 'lofty-minded', 'highsouled', 'high-minded', 'high-mettled', 'high-handed', 'high-plumed', 'high-flown', 'high-toned', 'haughty', 'lofty', 'high', 'mighty', 'swollen', \\\n",
        "    'flushed', 'blown', 'vainglorious', 'purse-proud', 'fine', 'supercilious', 'disdainful', 'bumptious', 'magisterial', 'imperious', 'mighty', 'overweening', 'consequential', 'arrogant', \\\n",
        "    'unblushing', 'stiff', 'stiff-necked', 'starch', 'perked', 'stuck-up', 'strait-laced', 'prim', 'affected', 'humble', 'lowly', 'meek', 'modest', 'humble-minded', 'sober-minded', \\\n",
        "    'unoffended', 'submissive', 'servile', 'condescending', 'affable', 'courteous', 'humbled', 'resigned', 'abashed', 'ashamed', 'dashed', 'browbeaten', 'chapfallen', 'crestfallen', \\\n",
        "    'dumfoundered', 'flabbergasted', 'disrepute', 'vain', 'conceited', 'overweening', 'pert', 'forward', 'vainglorious', 'high-flown', 'ostentatious', 'inflated', 'flushed', 'self-satisfied', \\\n",
        "    'self-confident', 'self-sufficient', 'self-flattering', 'self-admiring', 'self-applauding', 'self-glorious', 'self-opinionated', 'entente', 'wrongheaded', 'pragmatical', \\\n",
        "    'overwise', 'pretentious', 'priggish', 'egotistic', 'egotistical', 'boastful', 'arrogant', 'unabashed', 'unblushing', 'unconstrained', 'unceremonious', 'modest', 'diffident', \\\n",
        "    'humble', 'timid', 'timorous', 'bashful', 'shy', 'nervous', 'skittish', 'coy', 'sheepish', 'shamefaced', 'blushing', 'overmodest', 'unpretending', 'unpretentious', 'unobtrusive', \\\n",
        "    'unassuming', 'unostentatious', 'unboastful', 'unaspiring', 'humbled', 'reserved', 'constrained', 'demure', 'ostentatious', 'showy', 'dashing', 'pretentious', 'janty', 'jaunty', \\\n",
        "    'grand', 'pompous', 'palatial', 'high-sounding', 'turgid', 'big-sounding', 'gairish', 'garish', 'gaudy', 'flaunting', 'flashing', 'flaming', 'glittering', 'gay', 'ornate', \\\n",
        "    'splendid', 'magnificent', 'sumptuous', 'theatrical', 'dramatic', 'spectacular', 'ceremonial', 'ritual', 'solemn', 'stately', 'majestic', 'formal', 'stiff', 'ceremonious', \\\n",
        "    'punctilious', 'starched', 'celebrating', 'commemorative', 'celebrated', 'immortal', 'boasting', 'magniloquent', 'flaming', 'stilted', 'gasconading', 'braggart', 'boastful', \\\n",
        "    'pretentious', 'vainglorious', 'conceited', 'highfalutin', 'highfaluting', 'spread-eagle', 'elate', 'elated', 'jubilant', 'triumphant', 'exultant', 'flushed', 'vaunted', \\\n",
        "    'insolent', 'haughty', 'arrogant', 'imperious', 'magisterial', 'dictatorial', 'arbitrary', 'high-handed', 'contumelious', 'supercilious', 'overbearing', 'intolerant', \\\n",
        "    'domineering', 'overweening', 'high-flown', 'flippant', 'pert', 'fresh', 'cavalier', 'saucy', 'forward', 'impertinent', 'malapert', 'precocious', 'assuming', 'would-be', \\\n",
        "    'bumptious', 'bluff', 'brazen', 'shameless', 'aweless', 'unblushing', 'unabashed', 'brazen', 'boldfaced', 'barefaced', 'brazen-faced', 'impudent', 'audacious', \\\n",
        "    'presumptuous', 'devil-may-care', 'rollicking', 'jaunty', 'janty', 'roistering', 'blustering', 'hectoring', 'swaggering', 'vaporing', 'thrasonic', 'fire-eating', 'servile', \\\n",
        "    'obsequious', 'supple', 'soapy', 'oily', 'pliant', 'cringing', 'abased', 'dough-faced', 'fawning', 'slavish', 'groveling', 'sniveling', 'mealy-mouthed', 'beggarly', \\\n",
        "    'sycophantic', 'parasitical', 'abject', 'prostrate', 'base', 'mean', 'sneaking', 'crouching']"
      ],
      "metadata": {
        "id": "KhvKuuiWuUUi"
      },
      "execution_count": null,
      "outputs": []
    },
    {
      "cell_type": "code",
      "source": [
        "# sympathetic affections\n",
        "sentient_moral_3 = ['friendly', 'amicable', 'amical', 'well-affected', 'unhostile', 'neighborly', 'brotherly', 'fraternal', 'sympathetic', 'harmonious', 'hearty', \\\n",
        "    'cordial', 'warm-hearted', 'acquainted', 'familiar', 'intimate', 'thick', 'hail', 'fellow', 'well', 'met', 'free', 'easy', 'welcome', 'inimical', 'unfriendly', \\\n",
        "    'hostile', 'cool', 'cold', 'cold-hearted', 'estranged', 'alienated', 'disaffected', 'irreconcilable', 'sociable', 'companionable', 'clubbable', 'conversable', \\\n",
        "    'cosy', 'cozy', 'cosey', 'chatty', 'conversational', 'homiletical', 'convivial', 'festive', 'festal', 'jovial', 'jolly', 'hospitable', 'welcome', 'entertained', \\\n",
        "    'familiar', 'acquainted', 'social', 'neighborly', 'international', 'gregarious', 'secluded', 'sequestered', 'retired', 'delitescent', 'private', 'bye', 'snug', \\\n",
        "    'domestic', 'stay-at-home', 'unsociable', 'unsocial', 'dissocial', 'inhospitable', 'cynical', 'inconversable', 'unclubbable', 'sauvage', 'troglodytic', 'solitary', \\\n",
        "    'lonely', 'lonesome', 'isolated', 'single', 'estranged', 'unfrequented', 'uninhabitable', 'uninhabited', 'tenantless', 'abandoned', 'deserted', 'unfriended', \\\n",
        "    'kithless', 'friendless', 'homeless', 'lorn', 'forlorn', 'desolate', 'unvisited', 'unintroduced', 'uninvited', 'unwelcome', 'derelict', 'outcast', 'banished', \\\n",
        "    'courteous', 'polite', 'civil', 'mannerly', 'urbane', 'well-behaved', 'well-mannered', 'well-bred', 'good-mannered', 'polished', 'civilized', 'cultivated', 'refined', \\\n",
        "    'taste', 'gentlemanlike', 'fashion', 'gallant', 'soft-spoken', 'honey-mouthed', 'honey-tongued', 'oily', 'bland', 'obliging', 'conciliatory', 'complaisant', \\\n",
        "    'complacent', 'obsequious', 'ingratiating', 'winning', 'gentle', 'mild', 'good-humored', 'cordial', 'gracious', 'affable', 'familiar', 'neighborly', 'diplomatic', \\\n",
        "    'tactful', 'politic', 'artful', 'discourteous', 'uncourteous', 'uncourtly', 'ill-bred', 'ill-mannered', 'ill-behaved', 'ill-conditioned', 'unbred', 'unmannerly', \\\n",
        "    'unmannered', 'impolite', 'unpolite', 'unpolished', 'uncivilized', 'ungenteel', 'ungentleman-like', 'ungentlemanly', 'unladylike', 'blackguard', 'vulgar', \\\n",
        "    'dedecorous', 'foul-mouthed' 'foul-spoken', 'abusive', 'uncivil', 'ungracious', 'unceremonious', 'cool', 'pert', 'forward', 'obtrusive', 'impudent', 'rude', \\\n",
        "    'saucy', 'precocious', 'repulsive', 'uncomplaisant', 'unaccommodating', 'unneighborly', 'ungallant', 'inaffable', 'ungentle', 'ungainly', 'rough', 'rugged', \\\n",
        "    'bluff', 'blunt', 'gruff', 'churlish', 'boorish', 'bearish', 'brutal', 'brusque', 'stern', 'harsh', 'austere', 'cavalier', 'taint', 'sour', 'crabbed', \\\n",
        "    'sharp', 'short', 'trenchant', 'sarcastic', 'biting', 'doggish', 'caustic', 'virulent', 'bitter', 'acrimonious', 'venomous', 'contumelious', 'snarling', \\\n",
        "    'surly', 'perverse', 'grim', 'sullen', 'peevish', 'irascible', 'untactful', 'impolitic', 'undiplomatic', 'artless', 'congratulatory', 'gratulatory', 'loving', \\\n",
        "    'smitten', 'bitten', 'enamored', 'charmed', 'love-sick', 'affectionate', 'tender', 'sympathetic', 'loving', 'amorous', 'amatory', 'fond', 'erotic', 'uxorious', \\\n",
        "    'ardent', 'passionate', 'rapturous', 'devoted', 'motherly', 'loved', 'beloved', 'dear', 'precious', 'darling', 'pet', 'little', 'favorite', 'popular', 'congenial', \\\n",
        "    'friendly', 'lovable', 'adorable', 'lovely', 'sweet', 'attractive', 'seductive', 'winning', 'charming', 'engaging', 'interesting', 'enchanting', 'captivating', \\\n",
        "    'fascinating', 'bewitching', 'amiable', 'hating', 'abhorrent', 'disliking', 'bitter', 'acrimonious', 'implacable', 'revengeful', 'unloved', 'unbeloved', 'unlamented', \\\n",
        "    'undeplored', 'unmourned', 'unendeared', 'unvalued', 'disliked', 'forsaken', 'rejected', 'lovelorn', 'jilted', 'obnoxious', 'hateful', 'odious', 'abominable', \\\n",
        "    'repulsive', 'offensive', 'shocking', 'disgusting', 'disagreeable', 'reprehensible', 'invidious', 'spiteful', 'malicious', 'insulting', 'irritating', 'provoking', \\\n",
        "    'enmity', 'angry', 'wrath', 'irate', 'ireful', 'wrathful', 'cross', 'irascible', 'Achillean', 'sulky', 'bitter', 'virulent', 'acrimonious', 'discourteous', \\\n",
        "    'violent', 'warm', 'burning', 'boiling', 'fuming', 'raging', 'foaming', 'offended', 'waxy', 'acharne', \"wrought\", \"indignant\", \"hurt\", \"sore\", \"fierce\", \"wild\", \\\n",
        "    \"rageful\", \"furious\", \"fiery\", \"infuriate\", \"rabid\", \"savage\", \"relentless\", \"irascible\", \"bad-tempered\", \"ill-tempered\", \"irritable\", \"susceptible\", \"excitable\", \\\n",
        "    \"thin-skinned\", \"sensitive\", \"fretful\", \"fidgety\", \"hasty\", \"overhasty\", 'quick', 'warm', 'hot', 'testy', 'touchy', 'techy', 'tetchy', 'huffy', 'pettish', 'petulant', \\\n",
        "    'waspish', 'snappish', 'peppery', 'fiery', 'passionate', 'choleric', 'shrewish', 'querulous', 'captious', 'moodish', 'quarrelsome', 'contentious', 'disputatious', \\\n",
        "    'pugnacious', 'bellicose', 'cantankerous', 'exceptious', 'restiff', 'perverse', 'churlish', 'discourteous', 'cross', 'fractious', 'peevish', 'sulky', 'angry', \\\n",
        "    'resentful', 'resentive', 'vindictive', 'sullen', 'sulky', 'ill-tempered', 'ill-humored', 'ill-affected', 'ill-disposed', 'grouty', 'knaggy', 'torvous', \\\n",
        "    'crusty', 'crabbed', 'sour', 'surly', 'discourteous', 'moody', 'spleenish', 'spleenly', 'splenetic', 'cankered', 'cross', 'crossgrained', 'perverse', 'wayward', \\\n",
        "    'humorsome', 'restiff', 'restive', 'cantankerous', 'intractable', 'exceptious', 'sinistrous', 'deaf', 'unaccommodating', 'rusty', 'froward', 'cussed', 'dogged', \\\n",
        "    'stubborn', 'grumpy', 'glum', 'grim', 'grum', 'morose', 'frumpish', 'scowling', 'glowering', 'growling', 'grouchy', 'peevish', \"irascible\", \"caressing\", \\\n",
        "    \"love-sick\", \"spoony\", \"caressed\", 'married', 'one', 'marriageable', 'nubile', 'engaged', 'betrothed', 'affianced', 'matrimonial', 'marital', 'conjugal', \\\n",
        "    'connubial', 'wedded', 'nuptial', 'hymeneal', 'spousal', 'bridal', 'unmarried', 'unwed', 'unwedded', 'wifeless', 'spouseless', 'single', 'benevolent', 'kind', \\\n",
        "    'kindly', 'well-meaning', 'amiable', 'obliging', 'accommodating', 'indulgent', 'gracious', 'complacent', 'good-humored', 'warm-hearted', 'kind-hearted', \\\n",
        "    'tender-hearted', 'large-hearted', 'broad-hearted', 'merciful', 'charitable', 'beneficent', 'humane', 'benignant', 'bounteous', 'bountiful', 'good-natured', \\\n",
        "    'well-natured', 'spleenless', 'sympathizing', 'sympathetic', 'complaisant', 'courteous', 'well-meant', 'well-intentioned', 'fatherly', 'motherly', \\\n",
        "    'brotherly', 'sisterly', 'paternal', 'maternal', 'fraternal', 'sororal', 'friendly', 'malevolent', 'unbenevolent', 'unbenign', 'ill-disposed', 'ill-intentioned', \\\n",
        "    'ill-natured', 'ill-conditioned', 'ill-contrived', 'evil-minded', 'evil-disposed,' 'black-browed', 'malicious', 'malign', 'malignant', 'rancorous', \\\n",
        "    'despiteful', 'spiteful', 'mordacious', 'caustic', 'bitter', 'envenomed', 'acrimonious', 'virulent', 'unamiable', 'uncharitable', 'maleficent', 'venomous', \\\n",
        "    'grinding', 'galling', 'harsh', 'disobliging', 'unkind', 'unfriendly', 'ungracious', 'inofficious', 'invidious', 'uncandid', 'churlish', 'discourteous', \\\n",
        "    'surly', 'sullen', 'cold', 'cold-blooded', 'cold-hearted', 'black-hearted', 'hard-hearted', 'flint-hearted', 'marble-hearted', 'stony-hearted', 'unnatural', \\\n",
        "    'ruthless', 'unmerciful', 'relentless', 'revengeful', 'cruel', 'brutal', 'brutish', 'savage', 'ferine', 'ferocious', 'inhuman', 'barbarous', 'barbaric', \\\n",
        "    'semibarbaric', 'fell', 'untamed', 'tameless', 'truculent', 'incendiary', 'bloodthirsty', 'murderous', 'atrocious', 'bloodyminded', 'fiendish', 'fiendlike', \\\n",
        "    'demoniacal', 'diabolic', 'diabolical', 'devilish', 'infernal', 'hellish', 'Satanic', 'Tartaran', 'cursing', 'cursed', 'threatening', 'menacing', 'minatory', \\\n",
        "    'minacious', 'comminatory', 'abusive', 'ominous', 'predicting', 'defiant', 'philanthropic', 'humanitarian', 'utilitarian', 'cosmopolitan', 'public-spirited', \\\n",
        "    \"patriotic\", \"humane\", \"large-hearted\", \"benevolent\", 'chivalric', 'generous', 'misanthropic', 'antisocial', 'unpatriotic', 'egotistical', 'selfish', 'morose', \\\n",
        "    'pitying', 'pitiful', 'compassionate', 'sympathetic', 'touched', 'merciful', 'clement', 'ruthful', 'humane', 'humanitarian', 'philanthropic', 'tender', 'tender-hearted', \\\n",
        "    'soft', 'soft-hearted', 'unhardened', 'lenient', 'exorable', 'forbearing', 'melting', 'weak', 'pitiless', 'merciless', 'ruthless', 'bowelless', 'unpitying', 'unmerciful', \\\n",
        "    'inclement', 'grim-faced', 'grim-visaged', 'incompassionate', 'uncompassionate', 'inexorable', 'harsh', 'unrelenting', 'grateful', 'thankful', 'obliged', 'beholden', \\\n",
        "    'indebted', 'ungrateful', 'unmindful', 'unthankful', 'thankless', 'ingrate', 'forgotten', 'unacknowledged', 'unthanked', 'unrequited', 'unrewarded', 'ill-requited', \\\n",
        "    'forgiving', 'placable', 'conciliatory', 'forgiven', 'unresented', 'unavenged', 'unrevenged', 'revengeful', 'vengeful', 'vindictive', 'rancorous', 'pitiless', \\\n",
        "    'ruthless', 'rigorous', 'avenging', 'unforgiving', 'unrelenting', 'inexorable', 'stony-hearted', 'implacable', 'relentless', 'remorseless', 'rankling', 'immitigable', \\\n",
        "    'jealous', 'jaundiced', 'yellow-eyed', 'envious', 'hornmad', 'envious', 'invidious', 'covetous']"
      ],
      "metadata": {
        "id": "NIrfCjwRujow"
      },
      "execution_count": null,
      "outputs": []
    },
    {
      "cell_type": "code",
      "source": [
        "# moral affections\n",
        "sentient_moral_4 = ['right', 'good', 'just', 'reasonable', 'fit', 'equal', 'equable', 'equatable', 'evenhanded', 'fair', 'legitimate', 'justifiable', 'rightful', \\\n",
        "    'lawful', 'permitted', 'legal', 'deserved', 'wrong', 'wrongful', 'bad', 'unjust', 'unfair', 'inequitable', 'unequitable', 'unequal', 'partial', 'one-sided', \\\n",
        "    'injurious', 'tortious', 'objectionable', 'unreasonable', 'unallowable', 'unwarrantable', 'unjustifiable', 'improper', 'unfit', 'unjustified', 'illegal', \\\n",
        "    'iniquitous', 'immoral', 'claiming', 'deserving', 'meriting', 'privileged', 'allowed', 'sanctioned', 'warranted', 'authorized', 'ordained', 'prescribed', \\\n",
        "    'constitutional', 'chartered', 'enfranchised', 'prescriptive', 'presumptive', 'absolute', 'indefeasible', 'unalienable', 'inalienable', 'imprescriptible', \\\n",
        "    'inviolable', 'unimpeachable', 'unchallenged', 'sacrosanct', 'merited', 'deserved', 'condign', 'allowable', 'permitted', 'lawful', 'licit', 'legitimate', \\\n",
        "    'legal', 'legalized', 'law', 'square', 'unexceptionable', 'right', 'equitable', 'due', 'fit', 'fitting', 'correct', 'proper', 'meet', 'befitting', 'becoming', \\\n",
        "    'seemly', 'decorous', 'creditable', 'undue', 'unlawful', 'illegal', 'unconstitutional', 'illicit', 'unauthorized', 'unwarranted', 'disallowed', 'unallowed', \\\n",
        "    'unsanctioned', 'unjustified', 'unentitled', 'disentitled', 'unqualified', 'disqualified', 'unprivileged', 'unchartered', 'illegitimate', 'bastard', 'spurious', \\\n",
        "    'supposititious', 'false', 'usurped', 'tortious', 'undeserved', 'unmerited', 'unearned', 'unfulfilled', 'forfeited', 'disfranchised', 'improper', 'unmeet', \\\n",
        "    'unfit', 'unbefitting', 'unseemly', 'unbecoming', 'misbecoming', 'seemless', 'preposterous', 'pretentious', 'would-be', 'obligatory', 'binding', 'imperative', \\\n",
        "    'peremptory', 'stringent', 'severe', 'behooving', 'compromised', 'promised', 'amenable', 'liable', 'accountable', 'responsible', 'answerable', 'right', \\\n",
        "    'meet', 'due', 'moral', 'ethical', 'casuistical', 'conscientious', 'ethological', 'exempt', 'free', 'immune', 'scot-free', 'released', 'unbound', 'unencumbered', \\\n",
        "    'irresponsible', 'unaccountable', 'excusable', 'disrespectful', 'aweless', 'irreverent', 'disparaging', 'insulting', 'supercilious', 'contemptuous', 'patronizing', \\\n",
        "    'scornful', 'rude', 'derisive', 'sarcastic', 'scurrile', 'scurrilous', 'contumelious', 'unrespected', 'unworshiped', 'unenvied', 'unsaluted', 'unregarded', \\\n",
        "    'disregarded', 'contemptuous', 'disdainful', 'scornful', 'withering', 'contumelious', 'supercilious', 'cynical', 'haughty', 'bumptious', 'cavalier', 'derisive', \\\n",
        "    'contemptible', 'despicable', 'pitiable', 'pitiful', 'unimportant', 'despised', 'downtrodden', 'unenvied', 'unrespectable', 'unworthy', 'approving', \\\n",
        "    'commendatory', 'complimentary', 'benedictory', 'laudatory', 'panegyrical', 'eulogistic', 'encomiastic', 'uncritical', 'approved', 'praised', 'uncensured', \\\n",
        "    'unimpeached', 'popular', 'respected', 'praiseworthy', 'commendable', 'good', 'meritorious', 'estimable', 'creditable', 'plausible', 'unimpeachable', \\\n",
        "    'disapproving', 'scandalized', 'disparaging', 'condemnatory', 'damnatory', 'denunciatory', 'reproachful', 'abusive', 'objurgatory', 'clamorous', 'vituperative', \\\n",
        "    'defamatory', 'satirical', 'sarcastic', 'sardonic', 'cynical', 'dry', 'sharp', 'cutting', 'biting', 'severe', 'withering', 'trenchant', 'censorious', 'critical', \\\n",
        "    'captious', 'carping', 'hypercritical', 'fastidious', 'disapproved', 'chid', 'unapproved', 'unblest', 'exploded', 'blameworthy', 'reprehensible', 'guilt', \\\n",
        "    'answerable', 'uncommendable', 'exceptionable', 'bad', 'vicious', 'unlamented', 'unbewailed', 'unpitied', 'flattering', 'adulatory', 'mealy-mouthed', \\\n",
        "    'honey-mouthed', 'honeyed', 'smooth', 'smooth-tongued', 'soapy', 'oily', 'unctuous', 'blandiloquent', 'specious', 'fine-spoken', 'fair-spoken', 'plausible', \\\n",
        "    'servile', 'sycophantic', 'fulsome', 'courtierly', 'courtier-like', 'detracting', 'defamatory', 'detractory', 'derogatory', 'deprecatory', 'catty', 'disparaging', \\\n",
        "    'libelous', 'scurrile', 'scurrilous', 'abusive', 'foul-spoken', 'foul-tongued', 'foul-mouthed', 'slanderous', 'calumnious', 'calumniatory', 'sarcastic', \\\n",
        "    'sardonic', 'sarcastic', 'satirical', 'cynical', 'critical', 'black-mouthed', 'abusive', 'vindicated', 'vindicating', 'exculpatory', 'apologetic', 'excusable', \\\n",
        "    'defensible', 'pardonable', 'venial', 'veniable', 'specious', 'plausible', 'justifiable', 'accusing', 'accusatory', 'accusative', 'imputative', 'denunciatory', \\\n",
        "    'recriminatory', 'criminatory', 'accused', 'suspected', 'accusable', 'imputable', 'indefensible', 'inexcusable', 'unpardonable', 'unjustifiable', 'vicious', \\\n",
        "    'upright', 'honest', 'veracious', 'virtuous', 'honorable', 'fair', 'right', 'just', 'equitable', 'impartial', 'evenhanded', 'square', 'aboveboard', 'open', \\\n",
        "    'white', 'constant', 'faithful', 'loyal', 'staunch', 'true', 'true-hearted', 'trusty', 'trustworthy', 'incorruptible', 'straightforward', 'ingenuous', 'frank', \\\n",
        "    'candid', 'open-hearted', 'conscientious', 'tender-conscienced', 'right-minded', 'high-principled', 'high-minded', 'scrupulous', 'religious', 'strict', 'nice', \\\n",
        "    'punctilious', 'correct', 'punctual', 'respectable', 'reputable', 'gentlemanlike', 'inviolable', 'inviolate', 'unviolated', 'unbroken', 'unbetrayed', 'unbought', \\\n",
        "    'unbribed', 'innocent', 'pure', 'stainless', 'unstained', 'untarnished', 'unsullied', 'untainted', 'unperjured', 'uncorrupt', 'uncorrupted', 'undefiled', \\\n",
        "    'undepraved', 'undebauched', 'chivalrous', 'high-spirited', 'supramundane', 'unworldly', 'other-worldly', 'overscrupulous', 'dishonest', 'dishonorable', \\\n",
        "    'unconscientious', 'unscrupulous', 'fraudulent', 'knavish', 'disgraceful', 'disreputable', 'wicked', 'false-hearted', 'disingenuous', 'unfair', 'one-sided', \\\n",
        "    'double', 'double-hearted', 'double-tongued', 'double-faced', 'timeserving', 'crooked', 'tortuous', 'insidious', 'Machiavelian', 'dark', 'slippery', \\\n",
        "    'fishy', 'perfidious', 'treacherous', 'perjured', 'infamous', 'arrant', 'foul', 'base', 'vile', 'ignominious', 'blackguard', 'contemptible', 'unrespectable', \\\n",
        "    'abject', 'mean', 'shabby', 'little', 'paltry', 'dirty', 'scurvy', 'scabby', 'sneaking', 'groveling', 'scrubby', 'rascally', 'pettifogging', 'low-minded', \\\n",
        "    'low-thoughted', 'base-minded', 'undignified', 'indign', 'unbecoming', 'unbeseeming', 'unbefitting', 'derogatory', 'degrading', 'ungentlemanly', 'ungentlemanlike', \\\n",
        "    'unknightly', 'unchivalric', 'unmanly', 'unhandsome', 'recreant', 'inglorious', 'corrupt', 'venal', 'debased', 'mongrel', 'faithless', 'false', 'unfaithful', \\\n",
        "    'disloyal', 'untrustworthy', 'trustless', 'trothless', 'barratrous', 'disinterested', 'unselfish', 'self-denying', 'self-sacrificing', 'self-devoted', 'generous', \\\n",
        "    'handsome', 'liberal', 'noble', 'broad-minded', 'noble-minded', 'high-minded', 'princely', 'great', 'high', 'elevated', 'lofty', 'exalted', 'spirited', 'stoical', \\\n",
        "    'magnanimous', 'great-hearted', 'large-hearted', 'chivalrous', 'heroic', 'sublime', 'unbought', 'unbribed', 'uncorrupted', 'upright', 'selfish', 'self-seeking', \\\n",
        "    'self-indulgent', 'self-interested', 'self-centered', 'egotistic', 'egotistical', 'egoistical', 'illiberal', 'mean', 'ungenerous', 'narrow-minded', 'mercenary', \\\n",
        "    'venal', 'covetous', 'unspiritual', 'earthly', 'earthly-minded', 'mundane', 'worldly', 'worldly-minded', 'worldly-wise', 'timeserving', 'interested', 'virtuous', \\\n",
        "    'good', 'innocent', 'meritorious', 'deserving', 'worthy', 'desertful', 'correct', 'dutiful', 'duteous', 'moral', 'right', 'righteous', 'right-minded', \\\n",
        "    'well-intentioned', 'creditable', 'laudable', 'commendable', 'praiseworthy', 'excellent', 'admirable', 'sterling', 'pure', 'noble', 'whole-souled', 'exemplary', \\\n",
        "    'matchless', 'peerless', 'saintly', 'saint-like', 'heaven-born', 'angelic', 'seraphic', 'godlike', 'vicious', 'sinful', 'sinning', 'wicked', 'iniquitous', \\\n",
        "    'immoral', 'unrighteous', 'wrong', 'criminal', 'naughty', 'incorrect', 'unduteous', 'undutiful', 'unprincipled', 'lawless', 'disorderly', 'indecorous', 'unseemly', \\\n",
        "    'improper', 'dissolute', 'profligate', 'scampish', 'unworthy', 'worthless', 'desertless', 'disgraceful', 'recreant', 'reprehensible', 'blameworthy', 'uncommendable', \\\n",
        "    'discreditable', 'disreputable', 'sadistic', 'base', 'sinister', 'scurvy', 'foul', 'gross', 'vile', 'black', 'grave', 'facinorous', 'felonious', 'nefarious', \\\n",
        "    'shameful', 'scandalous', 'infamous', 'villainous', 'heinous', 'flagrant', 'flagitious', 'atrocious', 'incarnate', 'accursed', 'Mephistophelian', 'satanic', \\\n",
        "    'diabolic', 'hellish', 'infernal', 'stygian', 'fiendlike', 'hell-born', 'demoniacal', 'devilish', 'fiendish', 'miscreated', 'misbegotten', 'demoralized', \\\n",
        "    'corrupt', 'depraved', 'evil-minded', 'evil-disposed', 'ill-conditioned', 'malevolent', 'heartless', 'graceless', 'shameless', 'virtueless', 'abandoned', \\\n",
        "    'unconscionable', 'incorrigible', 'irreclaimable', 'obdurate', 'reprobate', 'culpable', 'reprehensible', 'guilty', 'unjustifiable', 'indefensible', 'inexcusable', \\\n",
        "    'inexpiable', 'unpardonable', 'irremissible', 'weak', 'frail', 'lax', 'infirm', 'imperfect', 'indiscrete', 'demoralizing', 'degrading', 'innocent', 'unguilty', \\\n",
        "    'guiltless', 'faultless', 'sinless', 'stainless', 'bloodless', 'spotless', 'clear', 'immaculate', 'unspotted', 'unblemished', 'unerring', 'undefiled', 'unhardened', \\\n",
        "    'Saturnian', 'Arcadian', 'artless', 'inculpable', 'unculpable', 'unblamed', 'unblamable', 'blameless', 'unfallen', 'inerrable', 'irreproachable', 'irreprovable', \\\n",
        "    'irreprehensible', 'unexceptionable', 'unobjectionable', 'unimpeachable', 'salvable', 'venial', 'harmless', 'inoffensive', 'innoxious', 'innocuous', 'dove-like', \\\n",
        "    'lamb-like', 'pure', 'virtuous', 'unreproved', 'unimpeached', 'unreproached', 'guilty', 'culpable', 'peccable', 'censurable', 'reprehensible', 'blameworthy', \\\n",
        "    'uncommendable', 'illaudable', 'exceptionable', 'penitent', 'repenting', 'repentant', 'contrite', 'conscience-smitten', 'conscience-stricken', 'self-accusing', \\\n",
        "    'self-convicted', 'penitential', 'penitentiary', 'reclaimed', 'reborn', 'unhardened', 'impenitent', 'uncontrite', 'obdurate', 'hard', 'hardened', 'seared', \\\n",
        "    'recusant', 'unrepentant', 'relentless', 'remorseless', 'graceless', 'shriftless', 'lost', 'incorrigible', 'irreclaimable', 'unreconstructed', 'unregenerate', \\\n",
        "    'unreformed', 'unrepented', 'unreclaimed', 'unatoned', 'temperate', 'moderate', 'sober', 'frugal', 'sparing', 'abstemious', 'abstinent', 'measured', 'sufficient', \\\n",
        "    'dry', 'Pythagorean', 'vegetarian', 'teetotal', 'intemperate', 'inabstinent', 'sensual', 'self-indulgent', 'voluptuous', 'luxurious', 'licentious', 'wild', \\\n",
        "    'dissolute', 'rakish', 'fast', 'debauched', 'brutish', 'crapulous', 'swinish', 'piggish', 'Paphian', 'Epicurean', 'Sybaritical', 'indulged', 'pampered', 'full-fed', \\\n",
        "    'high-fed', 'ascetic', 'austere', 'puritanical', 'cynical', 'over-religious', 'acerbic', 'lenten', 'quadragesimal', 'unfed', 'starved', 'half-starved', 'fasting', \\\n",
        "    'hungry', 'gluttonous', 'greedy', 'gormandizing', 'edacious', 'omnivorous', 'crapulent', 'swinish', 'avaricious', 'selfish', 'pampered', 'overfed', 'overgorged', \\\n",
        "    'sober', 'drunk', 'tipsy', 'intoxicated', 'inebrious', 'inebriate', 'inebriated', 'temulent', 'temulentive', 'bombed', 'smashed', 'fuddled', 'mellow', 'cut', \\\n",
        "    'boozy', 'fou', 'fresh', 'merry', 'elevated', 'flustered', 'disguised', 'groggy', 'beery', 'top-heavy', 'potvaliant', 'glorious', 'potulent', 'squiffy', 'overcome', \\\n",
        "    'overtaken', 'whittled', 'screwed', 'tight', 'primed', 'corned', 'raddled', 'lushy', 'nappy', 'muddled', 'muzzy', 'obfuscated', 'maudlin', 'crapulous', 'drunk', \\\n",
        "    'woozy', 'buzzed', 'flush', 'flushed', 'drunken', 'bibacious', 'sottish', 'toping', 'pure', 'undefiled', 'modest', 'delicate', 'decent', 'decorous', 'simon-pure', \\\n",
        "    'chaste', 'continent', 'virtuous', 'honest', 'Platonic', 'virgin', 'unsullied', 'cherry', 'impure', 'unclean', 'dirty', 'immodest', 'shameless', 'indecorous', \\\n",
        "    'indelicate', 'indecent', 'Fescennine', 'loose', 'risque', 'coarse', 'gross', 'broad', 'free', 'equivocal', 'smutty', 'fulsome', 'ribald', 'obscene', 'bawdy', \\\n",
        "    'pornographic', 'concupiscent', 'prurient', 'lickerish', 'rampant', 'lustful', 'carnal', 'carnal-minded', 'lewd', 'lascivious', 'lecherous', 'libidinous', \\\n",
        "    'erotic', 'ruttish', 'salacious', 'Paphian', 'voluptuous', 'goatish', 'must', 'musty', 'unchaste', 'light', 'wanton', 'licentious', 'debauched', 'dissolute', \\\n",
        "    'frail', 'gay', 'riggish', 'incontinent', 'meretricious', 'rakish', 'gallant', 'dissipated', 'adulterous', 'incestuous', 'bestial', 'legal', 'legitimate', \\\n",
        "    'vested', 'constitutional', 'chartered', 'legalized', 'lawful', 'permitted', 'statutable', 'statutory', 'legislatorial', 'legislative', 'regulatory', 'regulated', \\\n",
        "    'illegal', 'unlawful', 'illegitimate', 'prohibited', 'illicit', 'contraband', 'actionable', 'unwarranted', 'unwarrantable', 'unauthorized', 'informal', 'unofficial', \\\n",
        "    'injudicial', 'extrajudicial', 'lawless', 'arbitrary', 'despotic', 'despotical', 'corrupt', 'summary', 'irresponsible', 'unanswerable', 'unaccountable', 'expired', \\\n",
        "    'invalid', 'unchartered', 'unconstitutional', 'lawless', 'unregulated', 'executive', 'administrative', 'municipal', 'inquisitorial', 'causidical', 'judicatory', \\\n",
        "    'judiciary', 'judicial', 'juridical', 'judicial', 'appellate', 'forensic', 'esquire', 'esquired', 'litigious', 'acquitted', 'uncondemned', 'unpunished', \\\n",
        "    'unchastised', 'condemnatory', 'damnatory', 'guilty', 'condemned', 'nonsuited', 'failure', 'self-convicted', 'punishing', 'penal', 'punitory', 'punitive', \\\n",
        "    'inflictive', 'castigatory', 'punished', 'remunerative', 'remuneratory', 'munerary', 'compensatory', 'retributive', 'reparatory', 'rewarding', 'satisfactory']"
      ],
      "metadata": {
        "id": "4CPkSZCDux7m"
      },
      "execution_count": null,
      "outputs": []
    },
    {
      "cell_type": "code",
      "source": [
        "# religious affections\n",
        "sentient_moral_5 = ['almighty', 'holy', 'hallowed', 'sacred', 'divine', 'heavenly', 'celestial', 'sacrosanct', 'all-knowing', 'all-seeing', 'all-wise', 'omniscient', \\\n",
        "    'superhuman', 'supernatural', 'ghostly', 'spiritual', 'hyperphysical', 'unearthly', 'theistic', 'theocratic', 'anointed', 'soteria', 'angelic', 'seraphic', \\\n",
        "    'cherubic', 'saintly', 'satanic', 'diabolic', 'devilish', 'infernal', 'hellborn', 'god-like', 'fairy-like', 'sylph-like', 'sylphic', 'demonic', 'demonical', \\\n",
        "    'impish', 'demoniacal', 'fiendish', 'fiend-like', 'supernatural', 'weird', 'uncanny', 'unearthly', 'spectral', 'ghostly', 'ghost-like', 'elfin', 'elvin', 'elfish', \\\n",
        "    'elflike', 'haunted', 'pokerish', 'possessed', 'heavenly', 'celestial', 'supernal', 'unearthly', 'paradisiacal', 'beatific', 'elysian', 'hellish', 'infernal', \\\n",
        "    'stygian', 'theological', 'religious', 'denominational', 'sectarian', 'orthodox', 'sound', 'strick', 'faithful', 'catholic', 'schismless', 'Christian', 'evangelical', \\\n",
        "    'scriptural', 'divine', 'monotheistic', 'true', 'heterodox', 'heretical', 'unorthodox', 'unscriptural', 'uncanonical', 'antiscriptural', 'apocryphal', 'unchristian', \\\n",
        "    'antichristian', 'schismatic', 'recusant', 'iconoclastic', 'sectarian', 'dissenting', 'dissident', 'secular', 'lay', 'pagan', 'heathen', 'heathenish', 'ethnic', \\\n",
        "    'ethnical', 'gentile', 'paynim', 'pantheistic', 'polytheistic', 'Judaical', 'Mohammedan', 'Brahminical', 'Buddhist', 'Romish', 'Protestant', 'bigoted', 'prejudiced', \\\n",
        "    'obstinate', 'superstitious', 'credulous', 'fanatical', 'idolatrous', 'visionary', 'imaginative', 'scriptural', 'biblical', 'sacred', 'prophetic', 'evangelical', \\\n",
        "    'evangelistic', 'apostolic', 'apostolical', 'inspired', 'theopneustic', 'theophneusted', 'apocalyptic', 'ecclesiastical', 'canonical', 'textuary', 'pious', \\\n",
        "    'religious', 'devout', 'devoted', 'reverent', 'godly', 'heavenly-minded', 'humble', 'pure', 'holy', 'spiritual', 'pietistic', 'saintly', 'saint-like', 'seraphic', \\\n",
        "    'sacred', 'solemn', 'believing', 'faithful', 'Christian', 'Catholic', 'elected', 'adopted', 'justified', 'sanctified', 'regenerated', 'inspired', 'consecrated', \\\n",
        "    'converted', 'unearthly', 'impious', 'irreligious', 'desecrating', 'profane', 'irreverent', 'sacrilegious', 'blasphemous', 'unhallowed', 'unsanctified', \\\n",
        "    'unregenerate', 'hardened', 'perverted', 'reprobate', 'hypocritical', 'false', 'canting', 'pietistical', 'sanctimonious', 'unctuous', 'pharisaical', 'overrighteous', \\\n",
        "    'bigoted', 'fanatical', 'priest-ridden', 'irreligious', 'indevout', 'undevout', 'devoutless', 'godless', 'graceless', 'ungodly', 'unholy', 'unsanctified', 'unhallowed', \\\n",
        "    'atheistic', 'skeptical', 'freethinking', 'unbelieving', 'unconverted', 'incredulous', 'faithless', 'deistical', 'unchristian', 'antichristian', 'worldly', 'mundane', \\\n",
        "    'earthly', 'carnal', 'worshipping', 'devout', 'devotional', 'reverent', 'pure', 'solemn', 'fervid', 'heartfelt', 'idolatrous', 'magic', 'magical', 'mystic', 'weird', \\\n",
        "    'cabalistic', 'talismanic', 'phylacteric', 'incantatory', 'charmed', 'Circean', 'odylic', 'voodoo', 'ecclesiastical', 'ecclesiological', 'clerical', 'sacerdotal', \\\n",
        "    'priestly', 'prelatical', 'pastoral', 'ministerial', 'capitular', 'theocratic', 'hierarchical', 'archiepiscopal', 'episcopal', 'episcopalian', 'canonical', 'monastic', \\\n",
        "    'monachal', 'monkish', 'abbatial', 'abbatical', 'Anglican', 'pontifical', 'papal', 'apostolic', 'Roman', 'Popish', 'ultramontane', 'priest-ridden', 'ordained', \\\n",
        "    'secular', 'lay', 'laical', 'civil', 'temporal', 'profane', 'ritual', 'ritualistic', 'ceremonial', 'baptismal', 'eucharistical', 'paschal', 'claustral', 'cloistered', \\\n",
        "    'monastic', 'monasterial', 'conventual']"
      ],
      "metadata": {
        "id": "X1_AyEFBu8fq"
      },
      "execution_count": null,
      "outputs": []
    },
    {
      "cell_type": "markdown",
      "source": [
        "**Creating the Roget's Thesaurus \"dictionary\"**"
      ],
      "metadata": {
        "id": "k0mNHRDTwSUy"
      }
    },
    {
      "cell_type": "code",
      "source": [
        "Rogets = {\n",
        "        \"Abstract relations\": \\\n",
        "            {\"Existence\" : 1, \"Relation\" : 1, \"Quantity\" : 1, \"Order\" : 1, \"Number\" : 1, \"Time\" : 1, \\\n",
        "                \"Change\" : 1, \"Causation\" : 1}, \\\n",
        "        \"Space\" : \\\n",
        "            {\"Space in general\" : 1, \"Dimensions\" : 1, \"Form\" : 1, \"Motion\" : 1}, \\\n",
        "        \"Matter\" : \\\n",
        "            {\"Matter in general\" : 1, \"Inorganic matter\": 1, \"Organic matter\" : 1}, \\\n",
        "                #split into divisions\n",
        "        \"Intellectual faculties\" : {\"Operations of intellect in general\" : formation_1, \\\n",
        "            \"Precursory conditions and operations\" : formation_2, \"Materials for reasoning\" : formation_3, \"Reasoning processes\" : formation_4, \\\n",
        "                \"Results of reasoning\" : formation_5, \"Extension of thought\" : formation_6, \"Creative thought\" : formation_7, \\\n",
        "                    \"Nature of ideas communicated\" : comm_1, \"Modes of communication\" : comm_2, \"Means of communicating ideas\" : 1}, \\\n",
        "                        #split into divisions\n",
        "        \"Voluntary powers\" : \\\n",
        "            {\"Volition in general\" : 1, \"Prospective volition\" : 1, \"Voluntary action\" : 1, \"Antagonism\" : 1, \"Results of voluntary action\" : 1, \\\n",
        "                \"General intersocial volition\" : 1, \"Special intersocial volition\" : 1, \"Conditional intersocial volition\" : 1, \\\n",
        "                    \"Possessive relations\" : 1}, \\\n",
        "        \"Sentient and moral powers\" : \\\n",
        "            {\"Affections in general\" : 1, \"Personal affections\" : 1, \"Sympathetic affections\" : 1, \"Moral affections\" : 1, \"Religious affections\" : 1},\n",
        "    }"
      ],
      "metadata": {
        "id": "lxCTBaJkwb59"
      },
      "execution_count": null,
      "outputs": []
    },
    {
      "cell_type": "markdown",
      "source": [
        "**Using NLTK Gutenberg corpus**\n",
        "\n",
        "Compare different authors of the 19th/20th century works from certain prominent authors (e.g. Charles Dickens, Jane Austen, Herman Melville, etc.) and see if there is a certain frequency of adjectives one author uses over the other."
      ],
      "metadata": {
        "id": "p7ctVdQlDSYH"
      }
    },
    {
      "cell_type": "markdown",
      "source": [
        "**Design of the code**\n",
        "\n",
        "1. Isolate all adjectives from the corpus into a new list for each corpora within the Gutenberg corpus.\n",
        "\n",
        "2. For each adjective isolated, check if it's in a certain category of the Roget's Thesaurus dictionary.\n",
        "\n",
        "3. Use a counter for each category the adjective is in.\n",
        "\n",
        "4. Gather statistics for each category for each corpora."
      ],
      "metadata": {
        "id": "v_Uv18xAEnfx"
      }
    },
    {
      "cell_type": "code",
      "source": [
        "text1 = nltk.corpus.gutenberg.raw(str('austen-emma.txt'))\n",
        "text2 = nltk.corpus.gutenberg.raw(str('austen-persuasion.txt'))\n",
        "text3 = nltk.corpus.gutenberg.raw(str('austen-sense.txt'))\n",
        "text4 = nltk.corpus.gutenberg.raw(str('bible-kjv.txt'))\n",
        "text5 = nltk.corpus.gutenberg.raw(str('blake-poems.txt'))\n",
        "text6 = nltk.corpus.gutenberg.raw(str('bryant-stories.txt'))\n",
        "text7 = nltk.corpus.gutenberg.raw(str('burgess-busterbrown.txt'))\n",
        "text8 = nltk.corpus.gutenberg.raw(str('carroll-alice.txt'))\n",
        "text9 = nltk.corpus.gutenberg.raw(str('chesterton-ball.txt'))\n",
        "text10 = nltk.corpus.gutenberg.raw(str('chesterton-brown.txt'))\n",
        "text11 = nltk.corpus.gutenberg.raw(str('chesterton-thursday.txt'))\n",
        "text12 = nltk.corpus.gutenberg.raw(str('edgeworth-parents.txt'))\n",
        "text13 = nltk.corpus.gutenberg.raw(str('melville-moby_dick.txt'))\n",
        "text14 = nltk.corpus.gutenberg.raw(str('milton-paradise.txt'))\n",
        "text15 = nltk.corpus.gutenberg.raw(str('shakespeare-caesar.txt'))\n",
        "text16 = nltk.corpus.gutenberg.raw(str('shakespeare-hamlet.txt'))\n",
        "text17 = nltk.corpus.gutenberg.raw(str('shakespeare-macbeth.txt'))\n",
        "text18 = nltk.corpus.gutenberg.raw(str('whitman-leaves.txt'))"
      ],
      "metadata": {
        "id": "6dTdRT4jDSBV"
      },
      "execution_count": null,
      "outputs": []
    },
    {
      "cell_type": "code",
      "source": [
        "tokens1 = nltk.word_tokenize(text1)\n",
        "tokens2 = nltk.word_tokenize(text2)\n",
        "tokens3 = nltk.word_tokenize(text3)\n",
        "tokens4 = nltk.word_tokenize(text4)\n",
        "tokens5 = nltk.word_tokenize(text5)\n",
        "tokens6 = nltk.word_tokenize(text6)\n",
        "tokens7 = nltk.word_tokenize(text7)\n",
        "tokens8 = nltk.word_tokenize(text8)\n",
        "tokens9 = nltk.word_tokenize(text9)\n",
        "tokens10 = nltk.word_tokenize(text10)\n",
        "tokens11 = nltk.word_tokenize(text11)\n",
        "tokens12 = nltk.word_tokenize(text12)\n",
        "tokens13 = nltk.word_tokenize(text13)\n",
        "tokens14 = nltk.word_tokenize(text14)\n",
        "tokens15 = nltk.word_tokenize(text15)\n",
        "tokens16 = nltk.word_tokenize(text16)\n",
        "tokens17 = nltk.word_tokenize(text17)\n",
        "tokens18 = nltk.word_tokenize(text18)"
      ],
      "metadata": {
        "id": "B75jE9afyNev"
      },
      "execution_count": null,
      "outputs": []
    },
    {
      "cell_type": "code",
      "source": [
        "tagged_corpora_1 = nltk.pos_tag(tokens1)\n",
        "tagged_corpora_2 = nltk.pos_tag(tokens2)\n",
        "tagged_corpora_3 = nltk.pos_tag(tokens3)\n",
        "tagged_corpora_4 = nltk.pos_tag(tokens4)\n",
        "tagged_corpora_5 = nltk.pos_tag(tokens5)\n",
        "tagged_corpora_6 = nltk.pos_tag(tokens6)\n",
        "tagged_corpora_7 = nltk.pos_tag(tokens7)\n",
        "tagged_corpora_8 = nltk.pos_tag(tokens8)\n",
        "tagged_corpora_9 = nltk.pos_tag(tokens9)\n",
        "tagged_corpora_10 = nltk.pos_tag(tokens10)\n",
        "tagged_corpora_11 = nltk.pos_tag(tokens11)\n",
        "tagged_corpora_12 = nltk.pos_tag(tokens12)\n",
        "tagged_corpora_13 = nltk.pos_tag(tokens13)\n",
        "tagged_corpora_14 = nltk.pos_tag(tokens14)\n",
        "tagged_corpora_15 = nltk.pos_tag(tokens15)\n",
        "tagged_corpora_16 = nltk.pos_tag(tokens16)\n",
        "tagged_corpora_17 = nltk.pos_tag(tokens17)\n",
        "tagged_corpora_18 = nltk.pos_tag(tokens18)"
      ],
      "metadata": {
        "id": "pKaE_orYzQ4j"
      },
      "execution_count": null,
      "outputs": []
    },
    {
      "cell_type": "code",
      "source": [
        "## I am mildly allergic to repetition of the sort above, since computers\n",
        "## are particularly good at performing repetitive tasks.  I'd compress the code to:\n",
        "files = ['austen-emma', 'austen-persuasion', 'austen-sense',\n",
        "         'bible-kjv', 'blake-poems', 'bryant-stories',\n",
        "         'burgess-busterbrown', 'carroll-alice',\n",
        "         'chesterton-ball', 'chesterton-brown', 'chesterton-thursday',\n",
        "         'edgeworth-parents', 'melville-moby_dick', 'milton-paradise',\n",
        "         'shakespeare-caesar', 'shakespeare-hamlet', 'shakespeare-macbeth',\n",
        "         'whitman-leaves'\n",
        "         ]\n",
        "texts = [nltk.corpus.gutenberg.raw(f + '.txt') for f in files]\n",
        "tokens = [nltk.word_tokenize(t) for t in texts]\n",
        "tagged_corpora = [nltk.pos_tag(t) for t in tokens]\n"
      ],
      "metadata": {
        "id": "32yX3UYG4zYN"
      },
      "execution_count": null,
      "outputs": []
    },
    {
      "cell_type": "code",
      "source": [
        "# Emma by Jane Austen\n",
        "update_corpora_1 = ''\n",
        "for i in range(len(tagged_corpora_1)):\n",
        "  if 'JJ' in tagged_corpora_1[i]:\n",
        "    update_corpora_1 += tagged_corpora_1[i][0] + \" \"\n",
        "\n",
        "abstract_relation_counter = 0\n",
        "space_counter = 0\n",
        "matter_counter = 0\n",
        "intellectual_faculties_counter = 0\n",
        "voluntary_powers_counter = 0\n",
        "sentient_moral_counter = 0\n",
        "\n",
        "for j in range(len(update_corpora_1)):\n",
        "  if update_corpora_1[j] in existence_1 or existence_2 or existence_3 or existence_4 \\\n",
        "                             or relation_1 or relation_2 or relation_3 or relation_4 \\\n",
        "                             or quantity_1 or quantity_2 or quantity_3 or quantity_4 \\\n",
        "                             or order_1 or order_2 or order_3 or order_4 or order_5 \\\n",
        "                             or number_1 or number_2 or number_3 \\\n",
        "                             or time_1 or time_2 or time_3 \\\n",
        "                             or change_1 or change_2 \\\n",
        "                             or causation_1 or causation_2 or causation_3 or causation_4 \\\n",
        "                             or causation_5:\n",
        "    abstract_relation_counter += 1\n",
        "  if update_corpora_1[j] in spacegen_1 or spacegen_2 or spacegen_3 \\\n",
        "                             or dimension_1 or dimension_2 or dimension_3 \\\n",
        "                             or form_1 or form_2 or form_3 \\\n",
        "                             or motion_1 or motion_2 or motion_3 or motion_4:\n",
        "                             space_counter += 1\n",
        "  if update_corpora_1[j] in mattergen_1 \\\n",
        "                             or inorganic_1 or inorganic_2 or inorganic_3 \\\n",
        "                             or organic_1 or organic_2:\n",
        "      matter_counter += 1\n",
        "  if update_corpora_1[j][0] in (formation_1 or formation_2 or formation_3 or formation_4 \\\n",
        "                             or formation_5 or formation_6 or formation_7 \\\n",
        "                             or comm_1 or comm_2 or means_comm_1 or means_comm_2):\n",
        "      intellectual_faculties_counter += 1\n",
        "  if update_corpora_1[j] in individual_volition_1 or individual_volition_2 \\\n",
        "                             or individual_volition_3 or individual_volition_4 \\\n",
        "                             or individual_volition_5 or intersocial_volition_1 \\\n",
        "                             or intersocial_volition_2 or intersocial_volition_3 \\\n",
        "                             or intersocial_volition_4:\n",
        "      voluntary_powers_counter += 1\n",
        "  if update_corpora_1[j] in sentient_moral_1 or sentient_moral_2 or sentient_moral_3 \\\n",
        "                             or sentient_moral_4 or sentient_moral_5:\n",
        "    sentient_moral_counter += 1\n",
        "\n",
        "print('For Emma by Jane Austen, these were the results: ')\n",
        "print('Abstract relations: ' +str(abstract_relation_counter))\n",
        "print('Space: ' + str(space_counter))\n",
        "print('Matter: ' + str(matter_counter))\n",
        "print('Intellectual faculties: ' + str(voluntary_powers_counter))\n",
        "print('Voluntary powers: ' + str(voluntary_powers_counter))\n",
        "print('Sentient and moral powers: ' + str(sentient_moral_counter))\n",
        ""
      ],
      "metadata": {
        "colab": {
          "base_uri": "https://localhost:8080/"
        },
        "id": "EgfgfZrf0wES",
        "outputId": "f23d51a1-3de3-42af-9596-807217ef4d81"
      },
      "execution_count": null,
      "outputs": [
        {
          "output_type": "stream",
          "name": "stdout",
          "text": [
            "For Emma by Jane Austen, these were the results: \n",
            "Abstract relations: 72937\n",
            "Space: 72937\n",
            "Matter: 72937\n",
            "Intellectual faculties: 72937\n",
            "Voluntary powers: 72937\n",
            "Sentient and moral powers: 72937\n"
          ]
        }
      ]
    },
    {
      "cell_type": "code",
      "source": [
        "## Hm. I'm a bit suspicious of those results, given that they're all the same number.\n",
        "## I think there may be a problem with the \"or\" you used there. I see what you\n",
        "## wanted but:\n",
        "if 'x' in ['x', 'y', 'z']:\n",
        "  print('true, as expected')\n",
        "if 'x' in ['a', 'b'] or ['c', 'd']:\n",
        "  print('true, as not expected')"
      ],
      "metadata": {
        "colab": {
          "base_uri": "https://localhost:8080/"
        },
        "id": "4wFVEBdhHUDC",
        "outputId": "0edb363b-3d96-4d38-d49b-babdd48cc916"
      },
      "execution_count": null,
      "outputs": [
        {
          "output_type": "stream",
          "name": "stdout",
          "text": [
            "true, as expected\n",
            "true, as not expected\n"
          ]
        }
      ]
    },
    {
      "cell_type": "code",
      "source": [
        "## the issue is that it is checking two conditions, one is\n",
        "## whether 'x' is in ['a', 'b'], which it is not, so it is false\n",
        "## or whether ['c', 'd'] is false, which it is not.  Since almost\n",
        "## anything but an empty list will come out as \"true\"\n",
        "if []: print('empty list is true')\n",
        "if ['a', 'b']: print('nonempty list is true')"
      ],
      "metadata": {
        "colab": {
          "base_uri": "https://localhost:8080/"
        },
        "id": "wyJlxR_RIXqR",
        "outputId": "38b3814d-711c-4c68-9fdf-6a1738fdb596"
      },
      "execution_count": null,
      "outputs": [
        {
          "output_type": "stream",
          "name": "stdout",
          "text": [
            "nonempty list is true\n"
          ]
        }
      ]
    },
    {
      "cell_type": "code",
      "source": [
        "## so what you wanted to do needed to have a whole lot more \"in\" words\n",
        "## Let me see if I can compact and fix this.  We could just make big piles\n",
        "## of words, abstracting away from the work you did separating them out\n",
        "## but maybe we can do the counts first and separate them later.  So, how\n",
        "## about this:"
      ],
      "metadata": {
        "id": "es86u7tZIz2C"
      },
      "execution_count": null,
      "outputs": []
    },
    {
      "cell_type": "code",
      "source": [
        "adj_groups = {\n",
        "    'abstract': [existence_1, existence_2, existence_3, existence_4,\n",
        "        relation_1, relation_2, relation_3, relation_4,\n",
        "        quantity_1, quantity_2, quantity_3, quantity_4,\n",
        "        order_1, order_2, order_3, order_4, order_5,\n",
        "        number_1, number_2, number_3,\n",
        "        time_1, time_2, time_3,\n",
        "        change_1, change_2,\n",
        "        causation_1, causation_2, causation_3, causation_4,\n",
        "        causation_5],\n",
        "    'space': [spacegen_1, spacegen_2, spacegen_3,\n",
        "        dimension_1, dimension_2, dimension_3,\n",
        "        form_1, form_2, form_3,\n",
        "        motion_1, motion_2, motion_3, motion_4],\n",
        "    'matter': [mattergen_1,\n",
        "        inorganic_1, inorganic_2, inorganic_3,\n",
        "        organic_1, organic_2],\n",
        "    'intellectual': [formation_1, formation_2, formation_3, formation_4,\n",
        "        formation_5, formation_6, formation_7,\n",
        "        comm_1, comm_2, means_comm_1, means_comm_2],\n",
        "    'voluntary': [individual_volition_1, individual_volition_2,\n",
        "        individual_volition_3, individual_volition_4,\n",
        "        individual_volition_5, intersocial_volition_1,\n",
        "        intersocial_volition_2, intersocial_volition_3,\n",
        "        intersocial_volition_4],\n",
        "    'sentient': [sentient_moral_1, sentient_moral_2, sentient_moral_3,\n",
        "        sentient_moral_4, sentient_moral_5]\n",
        "}"
      ],
      "metadata": {
        "id": "FCYktcscJnj0"
      },
      "execution_count": null,
      "outputs": []
    },
    {
      "cell_type": "code",
      "source": [
        "## collect just the adjectives\n",
        "## in your code, you put them back into strings but I think we want them still\n",
        "## separated out as words\n",
        "update_corpora = [[x for x, y in corp if y=='JJ'] for corp in tagged_corpora]"
      ],
      "metadata": {
        "id": "dk5WQ9NNL1Yc"
      },
      "execution_count": null,
      "outputs": []
    },
    {
      "cell_type": "code",
      "source": [
        "## this builds the counters we can use, one 0 per subclass\n",
        "## I'm just putting this as an example, it does this again\n",
        "## inside the code below, but it shows you what I am trying to do\n",
        "## basically, building something with the same structure as adj_groups\n",
        "## the zeros will be incremented every time we count an adjective\n",
        "## and then the adjective category count will just be a sum of all\n",
        "## those numbers\n",
        "adj_counters = {k: [0]*len(adj_groups[k]) for k in adj_groups}\n",
        "print(adj_counters)"
      ],
      "metadata": {
        "colab": {
          "base_uri": "https://localhost:8080/"
        },
        "id": "7Cz5tE_uL3Tl",
        "outputId": "a5ecdc1b-b0b1-4fc0-ad11-f64ce7ff2703"
      },
      "execution_count": null,
      "outputs": [
        {
          "output_type": "stream",
          "name": "stdout",
          "text": [
            "{'abstract': [0, 0, 0, 0, 0, 0, 0, 0, 0, 0, 0, 0, 0, 0, 0, 0, 0, 0, 0, 0, 0, 0, 0, 0, 0, 0, 0, 0, 0, 0], 'space': [0, 0, 0, 0, 0, 0, 0, 0, 0, 0, 0, 0, 0], 'matter': [0, 0, 0, 0, 0, 0], 'intellectual': [0, 0, 0, 0, 0, 0, 0, 0, 0, 0, 0], 'voluntary': [0, 0, 0, 0, 0, 0, 0, 0, 0], 'sentient': [0, 0, 0, 0, 0]}\n"
          ]
        }
      ]
    },
    {
      "cell_type": "code",
      "source": [
        "## Count all the adjectives in all the corpora\n",
        "## then print the large-group counts for all of them\n",
        "## and then print the detailed counts for just the first of them (Emma)\n",
        "\n",
        "corpus_counts = []\n",
        "for corp in update_corpora:\n",
        "  ## zero the counters\n",
        "  adj_counters = {k: [0]*len(adj_groups[k]) for k in adj_groups}\n",
        "  for word in corp:\n",
        "    for bin in adj_groups:\n",
        "      for i, subclass in enumerate(adj_groups[bin]):\n",
        "        if word in subclass:\n",
        "          adj_counters[bin][i] += 1\n",
        "  corpus_counts.append(adj_counters)\n",
        "\n",
        "# print the counts for everything\n",
        "for i in range(len(corpus_counts)):\n",
        "  print(files[i])\n",
        "  print('----')\n",
        "  for bin in corpus_counts[i]:\n",
        "    print(bin, ':', sum(corpus_counts[i][bin]))\n",
        "  print()\n",
        "\n",
        "# print the detailed counts for emma specifically:\n",
        "print(corpus_counts[0])"
      ],
      "metadata": {
        "colab": {
          "base_uri": "https://localhost:8080/"
        },
        "id": "KDlZHq0EMCD7",
        "outputId": "0951a3dc-1dc6-477f-975f-a1383013fde8"
      },
      "execution_count": null,
      "outputs": [
        {
          "output_type": "stream",
          "name": "stdout",
          "text": [
            "austen-emma\n",
            "----\n",
            "abstract : 7704\n",
            "space : 2380\n",
            "matter : 1671\n",
            "intellectual : 3488\n",
            "voluntary : 5938\n",
            "sentient : 6017\n",
            "\n",
            "austen-persuasion\n",
            "----\n",
            "abstract : 4264\n",
            "space : 1314\n",
            "matter : 1002\n",
            "intellectual : 1745\n",
            "voluntary : 2925\n",
            "sentient : 2950\n",
            "\n",
            "austen-sense\n",
            "----\n",
            "abstract : 5425\n",
            "space : 1537\n",
            "matter : 1056\n",
            "intellectual : 2482\n",
            "voluntary : 3788\n",
            "sentient : 3835\n",
            "\n",
            "bible-kjv\n",
            "----\n",
            "abstract : 15049\n",
            "space : 4203\n",
            "matter : 5305\n",
            "intellectual : 5096\n",
            "voluntary : 11360\n",
            "sentient : 11112\n",
            "\n",
            "blake-poems\n",
            "----\n",
            "abstract : 240\n",
            "space : 105\n",
            "matter : 176\n",
            "intellectual : 150\n",
            "voluntary : 208\n",
            "sentient : 294\n",
            "\n",
            "bryant-stories\n",
            "----\n",
            "abstract : 2531\n",
            "space : 1801\n",
            "matter : 748\n",
            "intellectual : 761\n",
            "voluntary : 1473\n",
            "sentient : 2498\n",
            "\n",
            "burgess-busterbrown\n",
            "----\n",
            "abstract : 635\n",
            "space : 458\n",
            "matter : 235\n",
            "intellectual : 270\n",
            "voluntary : 422\n",
            "sentient : 682\n",
            "\n",
            "carroll-alice\n",
            "----\n",
            "abstract : 1045\n",
            "space : 540\n",
            "matter : 238\n",
            "intellectual : 493\n",
            "voluntary : 616\n",
            "sentient : 909\n",
            "\n",
            "chesterton-ball\n",
            "----\n",
            "abstract : 4579\n",
            "space : 1532\n",
            "matter : 1384\n",
            "intellectual : 2419\n",
            "voluntary : 2848\n",
            "sentient : 3058\n",
            "\n",
            "chesterton-brown\n",
            "----\n",
            "abstract : 3756\n",
            "space : 1554\n",
            "matter : 1224\n",
            "intellectual : 2116\n",
            "voluntary : 2259\n",
            "sentient : 2614\n",
            "\n",
            "chesterton-thursday\n",
            "----\n",
            "abstract : 3251\n",
            "space : 1069\n",
            "matter : 1118\n",
            "intellectual : 1770\n",
            "voluntary : 2081\n",
            "sentient : 2325\n",
            "\n",
            "edgeworth-parents\n",
            "----\n",
            "abstract : 6685\n",
            "space : 2293\n",
            "matter : 1865\n",
            "intellectual : 3126\n",
            "voluntary : 5297\n",
            "sentient : 5420\n",
            "\n",
            "melville-moby_dick\n",
            "----\n",
            "abstract : 12589\n",
            "space : 4256\n",
            "matter : 3365\n",
            "intellectual : 5582\n",
            "voluntary : 7021\n",
            "sentient : 7453\n",
            "\n",
            "milton-paradise\n",
            "----\n",
            "abstract : 3825\n",
            "space : 1387\n",
            "matter : 1699\n",
            "intellectual : 1520\n",
            "voluntary : 2897\n",
            "sentient : 3438\n",
            "\n",
            "shakespeare-caesar\n",
            "----\n",
            "abstract : 512\n",
            "space : 138\n",
            "matter : 209\n",
            "intellectual : 176\n",
            "voluntary : 487\n",
            "sentient : 459\n",
            "\n",
            "shakespeare-hamlet\n",
            "----\n",
            "abstract : 722\n",
            "space : 221\n",
            "matter : 320\n",
            "intellectual : 290\n",
            "voluntary : 628\n",
            "sentient : 685\n",
            "\n",
            "shakespeare-macbeth\n",
            "----\n",
            "abstract : 431\n",
            "space : 118\n",
            "matter : 178\n",
            "intellectual : 133\n",
            "voluntary : 341\n",
            "sentient : 369\n",
            "\n",
            "whitman-leaves\n",
            "----\n",
            "abstract : 6719\n",
            "space : 2098\n",
            "matter : 2350\n",
            "intellectual : 2908\n",
            "voluntary : 4022\n",
            "sentient : 4073\n",
            "\n",
            "{'abstract': [123, 15, 78, 7, 390, 25, 130, 157, 109, 1661, 103, 509, 34, 509, 69, 263, 339, 108, 380, 335, 123, 946, 284, 98, 67, 95, 321, 284, 136, 6], 'space': [24, 4, 104, 899, 650, 22, 187, 106, 70, 59, 88, 0, 167], 'matter': [47, 214, 66, 7, 120, 1217], 'intellectual': [19, 266, 557, 205, 1047, 153, 17, 72, 392, 16, 744], 'voluntary': [1098, 2836, 554, 268, 312, 158, 50, 80, 582], 'sentient': [316, 2571, 1226, 1802, 102]}\n"
          ]
        }
      ]
    },
    {
      "cell_type": "code",
      "source": [
        "print('existence_1 in emma:', corpus_counts[0]['abstract'][0])\n",
        "print('existence_2 in emma:', corpus_counts[0]['abstract'][1])"
      ],
      "metadata": {
        "colab": {
          "base_uri": "https://localhost:8080/"
        },
        "id": "qKROzBd1J2YK",
        "outputId": "804ee776-a71c-4a31-a8e6-21b5571d668f"
      },
      "execution_count": null,
      "outputs": [
        {
          "output_type": "stream",
          "name": "stdout",
          "text": [
            "existence_1 in emma: 123\n",
            "existence_2 in emma: 15\n"
          ]
        }
      ]
    },
    {
      "cell_type": "code",
      "source": [
        "## etc"
      ],
      "metadata": {
        "id": "pYj4koZEQcr5"
      },
      "execution_count": null,
      "outputs": []
    },
    {
      "cell_type": "code",
      "source": [
        "## Anyway, I realize that a large proporotion of your project time was\n",
        "## really spent creating the corpus, and I think that was valuable.\n",
        "## I think the bits I added above might be useful if you ever want to\n",
        "## take this elsewhere, and kind of at least gives you some kind of\n",
        "## result as well that you can look at, to see if the numbers look\n",
        "## anything like what you were expecting them to look at.\n",
        "## interesting project, it'll be interesting to see if it leads to\n",
        "## better authorship attribution metrics, etc. too."
      ],
      "metadata": {
        "id": "jo6ao6GzQeOt"
      },
      "execution_count": null,
      "outputs": []
    },
    {
      "cell_type": "code",
      "source": [],
      "metadata": {
        "id": "wYII40eBQ4mj"
      },
      "execution_count": null,
      "outputs": []
    }
  ]
}